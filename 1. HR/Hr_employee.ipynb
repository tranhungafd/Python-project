{
 "cells": [
  {
   "cell_type": "markdown",
   "metadata": {},
   "source": [
    "# 1. Introduction\n"
   ]
  },
  {
   "cell_type": "markdown",
   "metadata": {},
   "source": []
  },
  {
   "cell_type": "markdown",
   "metadata": {},
   "source": []
  },
  {
   "cell_type": "markdown",
   "metadata": {},
   "source": [
    "# 2. Data preprocessing"
   ]
  },
  {
   "cell_type": "markdown",
   "metadata": {},
   "source": [
    "###### Import libaries"
   ]
  },
  {
   "cell_type": "code",
   "execution_count": 250,
   "metadata": {},
   "outputs": [],
   "source": [
    "import pandas as pd\n",
    "import matplotlib.pyplot as plt"
   ]
  },
  {
   "cell_type": "code",
   "execution_count": 251,
   "metadata": {},
   "outputs": [
    {
     "data": {
      "text/html": [
       "<div>\n",
       "<style scoped>\n",
       "    .dataframe tbody tr th:only-of-type {\n",
       "        vertical-align: middle;\n",
       "    }\n",
       "\n",
       "    .dataframe tbody tr th {\n",
       "        vertical-align: top;\n",
       "    }\n",
       "\n",
       "    .dataframe thead th {\n",
       "        text-align: right;\n",
       "    }\n",
       "</style>\n",
       "<table border=\"1\" class=\"dataframe\">\n",
       "  <thead>\n",
       "    <tr style=\"text-align: right;\">\n",
       "      <th></th>\n",
       "      <th>ID</th>\n",
       "      <th>Reason for absence</th>\n",
       "      <th>Month of absence</th>\n",
       "      <th>Day of the week</th>\n",
       "      <th>Seasons</th>\n",
       "      <th>Transportation expense</th>\n",
       "      <th>Distance from Residence to Work</th>\n",
       "      <th>Service time</th>\n",
       "      <th>Age</th>\n",
       "      <th>Work load Average/day</th>\n",
       "      <th>...</th>\n",
       "      <th>Disciplinary failure</th>\n",
       "      <th>Education</th>\n",
       "      <th>Son</th>\n",
       "      <th>Social drinker</th>\n",
       "      <th>Social smoker</th>\n",
       "      <th>Pet</th>\n",
       "      <th>Weight</th>\n",
       "      <th>Height</th>\n",
       "      <th>Body mass index</th>\n",
       "      <th>Absenteeism time in hours</th>\n",
       "    </tr>\n",
       "  </thead>\n",
       "  <tbody>\n",
       "    <tr>\n",
       "      <th>0</th>\n",
       "      <td>11</td>\n",
       "      <td>26.0</td>\n",
       "      <td>7.0</td>\n",
       "      <td>3</td>\n",
       "      <td>1</td>\n",
       "      <td>289.0</td>\n",
       "      <td>36.0</td>\n",
       "      <td>13.0</td>\n",
       "      <td>33.0</td>\n",
       "      <td>239554.0</td>\n",
       "      <td>...</td>\n",
       "      <td>0.0</td>\n",
       "      <td>1.0</td>\n",
       "      <td>2.0</td>\n",
       "      <td>1.0</td>\n",
       "      <td>0.0</td>\n",
       "      <td>1.0</td>\n",
       "      <td>90.0</td>\n",
       "      <td>172.0</td>\n",
       "      <td>30.0</td>\n",
       "      <td>4.0</td>\n",
       "    </tr>\n",
       "    <tr>\n",
       "      <th>1</th>\n",
       "      <td>36</td>\n",
       "      <td>0.0</td>\n",
       "      <td>7.0</td>\n",
       "      <td>3</td>\n",
       "      <td>1</td>\n",
       "      <td>118.0</td>\n",
       "      <td>13.0</td>\n",
       "      <td>18.0</td>\n",
       "      <td>50.0</td>\n",
       "      <td>239554.0</td>\n",
       "      <td>...</td>\n",
       "      <td>1.0</td>\n",
       "      <td>1.0</td>\n",
       "      <td>1.0</td>\n",
       "      <td>1.0</td>\n",
       "      <td>0.0</td>\n",
       "      <td>0.0</td>\n",
       "      <td>98.0</td>\n",
       "      <td>178.0</td>\n",
       "      <td>31.0</td>\n",
       "      <td>0.0</td>\n",
       "    </tr>\n",
       "    <tr>\n",
       "      <th>2</th>\n",
       "      <td>3</td>\n",
       "      <td>23.0</td>\n",
       "      <td>7.0</td>\n",
       "      <td>4</td>\n",
       "      <td>1</td>\n",
       "      <td>179.0</td>\n",
       "      <td>51.0</td>\n",
       "      <td>18.0</td>\n",
       "      <td>38.0</td>\n",
       "      <td>239554.0</td>\n",
       "      <td>...</td>\n",
       "      <td>0.0</td>\n",
       "      <td>1.0</td>\n",
       "      <td>0.0</td>\n",
       "      <td>1.0</td>\n",
       "      <td>0.0</td>\n",
       "      <td>0.0</td>\n",
       "      <td>89.0</td>\n",
       "      <td>170.0</td>\n",
       "      <td>31.0</td>\n",
       "      <td>2.0</td>\n",
       "    </tr>\n",
       "    <tr>\n",
       "      <th>3</th>\n",
       "      <td>7</td>\n",
       "      <td>7.0</td>\n",
       "      <td>7.0</td>\n",
       "      <td>5</td>\n",
       "      <td>1</td>\n",
       "      <td>279.0</td>\n",
       "      <td>5.0</td>\n",
       "      <td>14.0</td>\n",
       "      <td>39.0</td>\n",
       "      <td>239554.0</td>\n",
       "      <td>...</td>\n",
       "      <td>0.0</td>\n",
       "      <td>1.0</td>\n",
       "      <td>2.0</td>\n",
       "      <td>1.0</td>\n",
       "      <td>1.0</td>\n",
       "      <td>0.0</td>\n",
       "      <td>68.0</td>\n",
       "      <td>168.0</td>\n",
       "      <td>24.0</td>\n",
       "      <td>4.0</td>\n",
       "    </tr>\n",
       "    <tr>\n",
       "      <th>4</th>\n",
       "      <td>11</td>\n",
       "      <td>23.0</td>\n",
       "      <td>7.0</td>\n",
       "      <td>5</td>\n",
       "      <td>1</td>\n",
       "      <td>289.0</td>\n",
       "      <td>36.0</td>\n",
       "      <td>13.0</td>\n",
       "      <td>33.0</td>\n",
       "      <td>239554.0</td>\n",
       "      <td>...</td>\n",
       "      <td>0.0</td>\n",
       "      <td>1.0</td>\n",
       "      <td>2.0</td>\n",
       "      <td>1.0</td>\n",
       "      <td>0.0</td>\n",
       "      <td>1.0</td>\n",
       "      <td>90.0</td>\n",
       "      <td>172.0</td>\n",
       "      <td>30.0</td>\n",
       "      <td>2.0</td>\n",
       "    </tr>\n",
       "  </tbody>\n",
       "</table>\n",
       "<p>5 rows × 21 columns</p>\n",
       "</div>"
      ],
      "text/plain": [
       "   ID  Reason for absence  Month of absence  Day of the week  Seasons  \\\n",
       "0  11                26.0               7.0                3        1   \n",
       "1  36                 0.0               7.0                3        1   \n",
       "2   3                23.0               7.0                4        1   \n",
       "3   7                 7.0               7.0                5        1   \n",
       "4  11                23.0               7.0                5        1   \n",
       "\n",
       "   Transportation expense  Distance from Residence to Work  Service time  \\\n",
       "0                   289.0                             36.0          13.0   \n",
       "1                   118.0                             13.0          18.0   \n",
       "2                   179.0                             51.0          18.0   \n",
       "3                   279.0                              5.0          14.0   \n",
       "4                   289.0                             36.0          13.0   \n",
       "\n",
       "    Age  Work load Average/day   ...  Disciplinary failure  Education  Son  \\\n",
       "0  33.0                239554.0  ...                   0.0        1.0  2.0   \n",
       "1  50.0                239554.0  ...                   1.0        1.0  1.0   \n",
       "2  38.0                239554.0  ...                   0.0        1.0  0.0   \n",
       "3  39.0                239554.0  ...                   0.0        1.0  2.0   \n",
       "4  33.0                239554.0  ...                   0.0        1.0  2.0   \n",
       "\n",
       "   Social drinker  Social smoker  Pet  Weight  Height  Body mass index  \\\n",
       "0             1.0            0.0  1.0    90.0   172.0             30.0   \n",
       "1             1.0            0.0  0.0    98.0   178.0             31.0   \n",
       "2             1.0            0.0  0.0    89.0   170.0             31.0   \n",
       "3             1.0            1.0  0.0    68.0   168.0             24.0   \n",
       "4             1.0            0.0  1.0    90.0   172.0             30.0   \n",
       "\n",
       "   Absenteeism time in hours  \n",
       "0                        4.0  \n",
       "1                        0.0  \n",
       "2                        2.0  \n",
       "3                        4.0  \n",
       "4                        2.0  \n",
       "\n",
       "[5 rows x 21 columns]"
      ]
     },
     "execution_count": 251,
     "metadata": {},
     "output_type": "execute_result"
    }
   ],
   "source": [
    "absenteeism = pd.read_excel(\"Absenteeism_at_work_Project.xls\")\n",
    "absenteeism.head()"
   ]
  },
  {
   "cell_type": "code",
   "execution_count": 252,
   "metadata": {},
   "outputs": [
    {
     "name": "stdout",
     "output_type": "stream",
     "text": [
      "Dataset- columnn: 21 and row: 740\n"
     ]
    }
   ],
   "source": [
    "column = absenteeism.shape[1]\n",
    "row = absenteeism.shape[0]\n",
    "print(f\"Dataset- columnn: {column} and row: {row}\")"
   ]
  },
  {
   "cell_type": "code",
   "execution_count": 253,
   "metadata": {},
   "outputs": [],
   "source": [
    "# We see that the column names are too long and do not need to be, so we will shorten the column names\n",
    "absenteeism = absenteeism.rename(columns = {'ID':'id',\n",
    "                                              'Reason for absence': 'reason',\n",
    "                                              'Month of absence': 'month', \n",
    "                                              'Day of the week': 'day',\n",
    "                                              'Seasons':'seasons',\n",
    "                                              'Transportation expense': 'trans_exp', \n",
    "                                              'Distance from Residence to Work': 'distance', \n",
    "                                              'Service time': 'serv_time',\n",
    "                                              'Age':'age',\n",
    "                                              'Work load Average/day ': 'work_load', \n",
    "                                              'Hit target': 'hit_tg', \n",
    "                                              'Disciplinary failure': 'disc_fail',\n",
    "                                              'Education':'education',\n",
    "                                              'Son': 'num_child',\n",
    "                                              'Social drinker': 'drinker', \n",
    "                                              'Social smoker': 'smoker', \n",
    "                                              'Pet':'num_pet',\n",
    "                                              'Height': 'height',\n",
    "                                              'Weight': 'weight',\n",
    "                                              'Body mass index': 'bmi', \n",
    "                                              'Absenteeism time in hours': 'abs_hours'})"
   ]
  },
  {
   "cell_type": "code",
   "execution_count": 254,
   "metadata": {},
   "outputs": [
    {
     "name": "stdout",
     "output_type": "stream",
     "text": [
      "<class 'pandas.core.frame.DataFrame'>\n",
      "RangeIndex: 740 entries, 0 to 739\n",
      "Data columns (total 21 columns):\n",
      " #   Column     Non-Null Count  Dtype  \n",
      "---  ------     --------------  -----  \n",
      " 0   id         740 non-null    int64  \n",
      " 1   reason     737 non-null    float64\n",
      " 2   month      739 non-null    float64\n",
      " 3   day        740 non-null    int64  \n",
      " 4   seasons    740 non-null    int64  \n",
      " 5   trans_exp  733 non-null    float64\n",
      " 6   distance   737 non-null    float64\n",
      " 7   serv_time  737 non-null    float64\n",
      " 8   age        737 non-null    float64\n",
      " 9   work_load  730 non-null    float64\n",
      " 10  hit_tg     734 non-null    float64\n",
      " 11  disc_fail  734 non-null    float64\n",
      " 12  education  730 non-null    float64\n",
      " 13  num_child  734 non-null    float64\n",
      " 14  drinker    737 non-null    float64\n",
      " 15  smoker     736 non-null    float64\n",
      " 16  num_pet    738 non-null    float64\n",
      " 17  weight     739 non-null    float64\n",
      " 18  height     726 non-null    float64\n",
      " 19  bmi        709 non-null    float64\n",
      " 20  abs_hours  718 non-null    float64\n",
      "dtypes: float64(18), int64(3)\n",
      "memory usage: 121.5 KB\n"
     ]
    }
   ],
   "source": [
    "absenteeism.info()"
   ]
  },
  {
   "cell_type": "code",
   "execution_count": 255,
   "metadata": {},
   "outputs": [
    {
     "data": {
      "text/html": [
       "<div>\n",
       "<style scoped>\n",
       "    .dataframe tbody tr th:only-of-type {\n",
       "        vertical-align: middle;\n",
       "    }\n",
       "\n",
       "    .dataframe tbody tr th {\n",
       "        vertical-align: top;\n",
       "    }\n",
       "\n",
       "    .dataframe thead th {\n",
       "        text-align: right;\n",
       "    }\n",
       "</style>\n",
       "<table border=\"1\" class=\"dataframe\">\n",
       "  <thead>\n",
       "    <tr style=\"text-align: right;\">\n",
       "      <th></th>\n",
       "      <th>id</th>\n",
       "      <th>reason</th>\n",
       "      <th>month</th>\n",
       "      <th>day</th>\n",
       "      <th>seasons</th>\n",
       "      <th>trans_exp</th>\n",
       "      <th>distance</th>\n",
       "      <th>serv_time</th>\n",
       "      <th>age</th>\n",
       "      <th>work_load</th>\n",
       "      <th>...</th>\n",
       "      <th>disc_fail</th>\n",
       "      <th>education</th>\n",
       "      <th>num_child</th>\n",
       "      <th>drinker</th>\n",
       "      <th>smoker</th>\n",
       "      <th>num_pet</th>\n",
       "      <th>weight</th>\n",
       "      <th>height</th>\n",
       "      <th>bmi</th>\n",
       "      <th>abs_hours</th>\n",
       "    </tr>\n",
       "  </thead>\n",
       "  <tbody>\n",
       "    <tr>\n",
       "      <th>0</th>\n",
       "      <td>11</td>\n",
       "      <td>26.0</td>\n",
       "      <td>7.0</td>\n",
       "      <td>3</td>\n",
       "      <td>1</td>\n",
       "      <td>289.0</td>\n",
       "      <td>36.0</td>\n",
       "      <td>13.0</td>\n",
       "      <td>33.0</td>\n",
       "      <td>239554.0</td>\n",
       "      <td>...</td>\n",
       "      <td>0.0</td>\n",
       "      <td>1.0</td>\n",
       "      <td>2.0</td>\n",
       "      <td>1.0</td>\n",
       "      <td>0.0</td>\n",
       "      <td>1.0</td>\n",
       "      <td>90.0</td>\n",
       "      <td>172.0</td>\n",
       "      <td>30.0</td>\n",
       "      <td>4.0</td>\n",
       "    </tr>\n",
       "    <tr>\n",
       "      <th>1</th>\n",
       "      <td>36</td>\n",
       "      <td>0.0</td>\n",
       "      <td>7.0</td>\n",
       "      <td>3</td>\n",
       "      <td>1</td>\n",
       "      <td>118.0</td>\n",
       "      <td>13.0</td>\n",
       "      <td>18.0</td>\n",
       "      <td>50.0</td>\n",
       "      <td>239554.0</td>\n",
       "      <td>...</td>\n",
       "      <td>1.0</td>\n",
       "      <td>1.0</td>\n",
       "      <td>1.0</td>\n",
       "      <td>1.0</td>\n",
       "      <td>0.0</td>\n",
       "      <td>0.0</td>\n",
       "      <td>98.0</td>\n",
       "      <td>178.0</td>\n",
       "      <td>31.0</td>\n",
       "      <td>0.0</td>\n",
       "    </tr>\n",
       "    <tr>\n",
       "      <th>2</th>\n",
       "      <td>3</td>\n",
       "      <td>23.0</td>\n",
       "      <td>7.0</td>\n",
       "      <td>4</td>\n",
       "      <td>1</td>\n",
       "      <td>179.0</td>\n",
       "      <td>51.0</td>\n",
       "      <td>18.0</td>\n",
       "      <td>38.0</td>\n",
       "      <td>239554.0</td>\n",
       "      <td>...</td>\n",
       "      <td>0.0</td>\n",
       "      <td>1.0</td>\n",
       "      <td>0.0</td>\n",
       "      <td>1.0</td>\n",
       "      <td>0.0</td>\n",
       "      <td>0.0</td>\n",
       "      <td>89.0</td>\n",
       "      <td>170.0</td>\n",
       "      <td>31.0</td>\n",
       "      <td>2.0</td>\n",
       "    </tr>\n",
       "    <tr>\n",
       "      <th>3</th>\n",
       "      <td>7</td>\n",
       "      <td>7.0</td>\n",
       "      <td>7.0</td>\n",
       "      <td>5</td>\n",
       "      <td>1</td>\n",
       "      <td>279.0</td>\n",
       "      <td>5.0</td>\n",
       "      <td>14.0</td>\n",
       "      <td>39.0</td>\n",
       "      <td>239554.0</td>\n",
       "      <td>...</td>\n",
       "      <td>0.0</td>\n",
       "      <td>1.0</td>\n",
       "      <td>2.0</td>\n",
       "      <td>1.0</td>\n",
       "      <td>1.0</td>\n",
       "      <td>0.0</td>\n",
       "      <td>68.0</td>\n",
       "      <td>168.0</td>\n",
       "      <td>24.0</td>\n",
       "      <td>4.0</td>\n",
       "    </tr>\n",
       "    <tr>\n",
       "      <th>4</th>\n",
       "      <td>11</td>\n",
       "      <td>23.0</td>\n",
       "      <td>7.0</td>\n",
       "      <td>5</td>\n",
       "      <td>1</td>\n",
       "      <td>289.0</td>\n",
       "      <td>36.0</td>\n",
       "      <td>13.0</td>\n",
       "      <td>33.0</td>\n",
       "      <td>239554.0</td>\n",
       "      <td>...</td>\n",
       "      <td>0.0</td>\n",
       "      <td>1.0</td>\n",
       "      <td>2.0</td>\n",
       "      <td>1.0</td>\n",
       "      <td>0.0</td>\n",
       "      <td>1.0</td>\n",
       "      <td>90.0</td>\n",
       "      <td>172.0</td>\n",
       "      <td>30.0</td>\n",
       "      <td>2.0</td>\n",
       "    </tr>\n",
       "  </tbody>\n",
       "</table>\n",
       "<p>5 rows × 21 columns</p>\n",
       "</div>"
      ],
      "text/plain": [
       "   id  reason  month  day  seasons  trans_exp  distance  serv_time   age  \\\n",
       "0  11    26.0    7.0    3        1      289.0      36.0       13.0  33.0   \n",
       "1  36     0.0    7.0    3        1      118.0      13.0       18.0  50.0   \n",
       "2   3    23.0    7.0    4        1      179.0      51.0       18.0  38.0   \n",
       "3   7     7.0    7.0    5        1      279.0       5.0       14.0  39.0   \n",
       "4  11    23.0    7.0    5        1      289.0      36.0       13.0  33.0   \n",
       "\n",
       "   work_load  ...  disc_fail  education  num_child  drinker  smoker  num_pet  \\\n",
       "0   239554.0  ...        0.0        1.0        2.0      1.0     0.0      1.0   \n",
       "1   239554.0  ...        1.0        1.0        1.0      1.0     0.0      0.0   \n",
       "2   239554.0  ...        0.0        1.0        0.0      1.0     0.0      0.0   \n",
       "3   239554.0  ...        0.0        1.0        2.0      1.0     1.0      0.0   \n",
       "4   239554.0  ...        0.0        1.0        2.0      1.0     0.0      1.0   \n",
       "\n",
       "   weight  height   bmi  abs_hours  \n",
       "0    90.0   172.0  30.0        4.0  \n",
       "1    98.0   178.0  31.0        0.0  \n",
       "2    89.0   170.0  31.0        2.0  \n",
       "3    68.0   168.0  24.0        4.0  \n",
       "4    90.0   172.0  30.0        2.0  \n",
       "\n",
       "[5 rows x 21 columns]"
      ]
     },
     "execution_count": 255,
     "metadata": {},
     "output_type": "execute_result"
    }
   ],
   "source": [
    "absenteeism.head()"
   ]
  },
  {
   "cell_type": "code",
   "execution_count": 256,
   "metadata": {},
   "outputs": [
    {
     "data": {
      "text/plain": [
       "id            0\n",
       "reason        3\n",
       "month         1\n",
       "day           0\n",
       "seasons       0\n",
       "trans_exp     7\n",
       "distance      3\n",
       "serv_time     3\n",
       "age           3\n",
       "work_load    10\n",
       "hit_tg        6\n",
       "disc_fail     6\n",
       "education    10\n",
       "num_child     6\n",
       "drinker       3\n",
       "smoker        4\n",
       "num_pet       2\n",
       "weight        1\n",
       "height       14\n",
       "bmi          31\n",
       "abs_hours    22\n",
       "dtype: int64"
      ]
     },
     "execution_count": 256,
     "metadata": {},
     "output_type": "execute_result"
    }
   ],
   "source": [
    "#Check null\n",
    "absenteeism.isnull().sum()"
   ]
  },
  {
   "cell_type": "code",
   "execution_count": 257,
   "metadata": {},
   "outputs": [
    {
     "name": "stderr",
     "output_type": "stream",
     "text": [
      "C:\\Users\\phamv\\AppData\\Local\\Temp\\ipykernel_23604\\1689352245.py:14: SettingWithCopyWarning: \n",
      "A value is trying to be set on a copy of a slice from a DataFrame\n",
      "\n",
      "See the caveats in the documentation: https://pandas.pydata.org/pandas-docs/stable/user_guide/indexing.html#returning-a-view-versus-a-copy\n",
      "  df[col][i] = (df[col][i-1] + df[col][i+1]) / 2\n",
      "C:\\Users\\phamv\\AppData\\Local\\Temp\\ipykernel_23604\\1689352245.py:15: SettingWithCopyWarning: \n",
      "A value is trying to be set on a copy of a slice from a DataFrame\n",
      "\n",
      "See the caveats in the documentation: https://pandas.pydata.org/pandas-docs/stable/user_guide/indexing.html#returning-a-view-versus-a-copy\n",
      "  df[col][i] = round(df[col][i],0)\n"
     ]
    }
   ],
   "source": [
    "# replace null by mean of column\n",
    "def replace_null_with_mean(df):\n",
    "    for col in df.columns:\n",
    "        if df[col].isnull().any():\n",
    "            for i in range(len(df[col])):\n",
    "                if pd.isnull(df[col][i]):\n",
    "                    if i == 0:\n",
    "                        df[col][i] = df[col][i+1]\n",
    "                        df[col][i] = round(df[col][i],0)\n",
    "                    elif i == len(df[col]) - 1:\n",
    "                        df[col][i] = df[col][i-1]\n",
    "                        df[col][i] = round(df[col][i],0)\n",
    "                    else:\n",
    "                        df[col][i] = (df[col][i-1] + df[col][i+1]) / 2\n",
    "                        df[col][i] = round(df[col][i],0)\n",
    "    return df\n",
    "\n",
    "absenteeism = replace_null_with_mean(absenteeism)"
   ]
  },
  {
   "cell_type": "code",
   "execution_count": 258,
   "metadata": {},
   "outputs": [
    {
     "name": "stdout",
     "output_type": "stream",
     "text": [
      "trans_exp: 2\n",
      "work_load: 4\n",
      "hit_tg: 2\n",
      "disc_fail: 2\n",
      "education: 6\n",
      "height: 10\n",
      "bmi: 22\n",
      "abs_hours: 5\n"
     ]
    }
   ],
   "source": [
    "null_counts = absenteeism.isnull().sum()\n",
    "columns_with_null = null_counts[null_counts != 0]\n",
    "\n",
    "for col, null_count in columns_with_null.items():\n",
    "    print(f\"{col}: {null_count}\")"
   ]
  },
  {
   "cell_type": "code",
   "execution_count": 259,
   "metadata": {},
   "outputs": [],
   "source": [
    "# There are still null values because the upper and lower bounds of these cells are both 0, so the returned result is 0.\n",
    "\n",
    "def replace_null_with_avg(df):\n",
    "    for col in df.columns:\n",
    "        if df[col].isnull().any():\n",
    "            mean_value = df[col].mean()\n",
    "            df[col] = df[col].fillna(mean_value)\n",
    "            df[col] = round(df[col], 0)\n",
    "    return df\n",
    "absenteeism = replace_null_with_avg(absenteeism)"
   ]
  },
  {
   "cell_type": "code",
   "execution_count": 260,
   "metadata": {},
   "outputs": [
    {
     "name": "stdout",
     "output_type": "stream",
     "text": [
      "Not Value\n"
     ]
    }
   ],
   "source": [
    "null_columns = []\n",
    "not_null_columns = []\n",
    "\n",
    "for col in absenteeism.columns:\n",
    "    if absenteeism[col].isnull().any():\n",
    "        null_columns.append(col)\n",
    "    else:\n",
    "        not_null_columns.append(col)\n",
    "\n",
    "if len(null_columns) > 0:\n",
    "    print(\"Columns with null values:\")\n",
    "    for col in null_columns:\n",
    "        print(col)\n",
    "else:\n",
    "    if len(not_null_columns) == len(absenteeism.columns):\n",
    "        print(\"Not Value\")"
   ]
  },
  {
   "cell_type": "code",
   "execution_count": 261,
   "metadata": {},
   "outputs": [
    {
     "name": "stdout",
     "output_type": "stream",
     "text": [
      "<class 'pandas.core.frame.DataFrame'>\n",
      "RangeIndex: 740 entries, 0 to 739\n",
      "Data columns (total 21 columns):\n",
      " #   Column     Non-Null Count  Dtype  \n",
      "---  ------     --------------  -----  \n",
      " 0   id         740 non-null    int64  \n",
      " 1   reason     740 non-null    Int64  \n",
      " 2   month      740 non-null    Int64  \n",
      " 3   day        740 non-null    int64  \n",
      " 4   seasons    740 non-null    int64  \n",
      " 5   trans_exp  740 non-null    Int64  \n",
      " 6   distance   740 non-null    Int64  \n",
      " 7   serv_time  740 non-null    Int64  \n",
      " 8   age        740 non-null    Int64  \n",
      " 9   work_load  740 non-null    float64\n",
      " 10  hit_tg     740 non-null    Int64  \n",
      " 11  disc_fail  740 non-null    Int64  \n",
      " 12  education  740 non-null    Int64  \n",
      " 13  num_child  740 non-null    Int64  \n",
      " 14  drinker    740 non-null    Int64  \n",
      " 15  smoker     740 non-null    Int64  \n",
      " 16  num_pet    740 non-null    Int64  \n",
      " 17  weight     740 non-null    float64\n",
      " 18  height     740 non-null    float64\n",
      " 19  bmi        740 non-null    float64\n",
      " 20  abs_hours  740 non-null    Int64  \n",
      "dtypes: Int64(14), float64(4), int64(3)\n",
      "memory usage: 131.6 KB\n"
     ]
    }
   ],
   "source": [
    "#convert some columns to the correct data type\n",
    "column_to_convert = ['reason','month', 'trans_exp', 'distance', 'serv_time', 'age',\n",
    "                    'hit_tg', 'disc_fail', 'education', 'num_child', 'drinker', 'smoker', 'num_pet', 'abs_hours']\n",
    "absenteeism[column_to_convert] = absenteeism[column_to_convert].astype('Int64')\n",
    "absenteeism.info()\n"
   ]
  },
  {
   "cell_type": "markdown",
   "metadata": {},
   "source": [
    "Check the correctness of the data"
   ]
  },
  {
   "cell_type": "code",
   "execution_count": 262,
   "metadata": {},
   "outputs": [
    {
     "name": "stdout",
     "output_type": "stream",
     "text": [
      "All values range from 18 to 65\n"
     ]
    }
   ],
   "source": [
    "unique_age = absenteeism['age'].unique()\n",
    "\n",
    "out_of_range_age = [age for age in unique_age if age < 18 or age > 65]\n",
    "\n",
    "if len(out_of_range_age) > 0:\n",
    "    print(\"The values are not between 18 and 65:\", out_of_range_age)\n",
    "else:\n",
    "    print(\"All values range from 18 to 65\")"
   ]
  },
  {
   "cell_type": "code",
   "execution_count": 263,
   "metadata": {},
   "outputs": [
    {
     "name": "stdout",
     "output_type": "stream",
     "text": [
      "The values are not between 1 and 12: [0]\n"
     ]
    }
   ],
   "source": [
    "unique_months = absenteeism['month'].unique()\n",
    "\n",
    "out_of_range_months = [month for month in unique_months if month < 1 or month > 12]\n",
    "\n",
    "if len(out_of_range_months) > 0:\n",
    "    print(\"The values are not between 1 and 12:\", out_of_range_months)\n",
    "else:\n",
    "    print(\"All values range from 1 to 12.\")\n"
   ]
  },
  {
   "cell_type": "code",
   "execution_count": 264,
   "metadata": {},
   "outputs": [
    {
     "name": "stdout",
     "output_type": "stream",
     "text": [
      "Number of 0 values:  3\n"
     ]
    }
   ],
   "source": [
    "print(\"Number of 0 values: \", (absenteeism['month'] == 0).sum())"
   ]
  },
  {
   "cell_type": "code",
   "execution_count": 265,
   "metadata": {},
   "outputs": [],
   "source": [
    "# Replace month = 0 by 12\n",
    "absenteeism['month'] = absenteeism['month'].replace(0,12)"
   ]
  },
  {
   "cell_type": "code",
   "execution_count": 266,
   "metadata": {},
   "outputs": [
    {
     "data": {
      "text/plain": [
       "Index(['id', 'reason', 'month', 'day', 'seasons', 'trans_exp', 'distance',\n",
       "       'serv_time', 'age', 'work_load', 'hit_tg', 'disc_fail', 'education',\n",
       "       'num_child', 'drinker', 'smoker', 'num_pet', 'weight', 'height', 'bmi',\n",
       "       'abs_hours'],\n",
       "      dtype='object')"
      ]
     },
     "execution_count": 266,
     "metadata": {},
     "output_type": "execute_result"
    }
   ],
   "source": [
    "absenteeism.columns"
   ]
  },
  {
   "cell_type": "code",
   "execution_count": 267,
   "metadata": {},
   "outputs": [],
   "source": [
    "# Remove column id\n",
    "absenteeism =  absenteeism.drop(columns='id')"
   ]
  },
  {
   "cell_type": "code",
   "execution_count": null,
   "metadata": {},
   "outputs": [],
   "source": []
  }
 ],
 "metadata": {
  "kernelspec": {
   "display_name": "Python 3",
   "language": "python",
   "name": "python3"
  },
  "language_info": {
   "codemirror_mode": {
    "name": "ipython",
    "version": 3
   },
   "file_extension": ".py",
   "mimetype": "text/x-python",
   "name": "python",
   "nbconvert_exporter": "python",
   "pygments_lexer": "ipython3",
   "version": "3.10.11"
  }
 },
 "nbformat": 4,
 "nbformat_minor": 2
}
