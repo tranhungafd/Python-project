{
 "cells": [
  {
   "cell_type": "markdown",
   "id": "88d53c62",
   "metadata": {
    "id": "cr_e4Gc-IefQ",
    "papermill": {
     "duration": 0.094892,
     "end_time": "2021-10-02T01:03:38.542826",
     "exception": false,
     "start_time": "2021-10-02T01:03:38.447934",
     "status": "completed"
    },
    "tags": []
   },
   "source": [
    "# ****Introdução****\n",
    "\n",
    "Atualmente o absenteísmo no trabalho é considerado como a ausência do trabalhador em seu posto de trabalho, seja em decorrência de atrasos ou saídas antecipadas do serviço e é, atualmente, um dos principais problemas enfrentados pelas empresas e organizações.\n",
    "\n",
    "O absenteísmo no trabalho é algo indesejável para as empresas e organizações, impactando negativamente na produtividade e no próprio clima organizacional (os funcionários, em geral, sentem-se desmotivados com as faltas dos colegas, além de sofrer com a sobrecarga de trabalho), gerando prejuizos financeiros as empresas.\n",
    "\n",
    "A ausência de um único funcionário pode gerar uma lacuna naquele dia, numa linha de produção, na elaboração de um projeto ou uma tomada de decisão etc...\n",
    "\n",
    " O banco de dados foi criado com registros de absenteísmo no trabalho de julho de 2007 a julho de 2010 em uma empresa de courier no Brasil.\n",
    "O conjunto de dados permite várias novas combinações de atributos e exclusões de atributos, ou a modificação do tipo de atributo (categórico, inteiro ou real) dependendo do propósito da pesquisa.\n",
    "\n",
    "Vamos analisar os dados e observar algumas caracteristicas interessantes de perfis de funcionários, muitas vezes imaginamos que o funcionário mais indiciplinado é o que mais se falta, ou o funcionário com mais filhos, tais dados nesta empresa demonstram que muitas vezes nem tudo segue uma regra.\n",
    "\n",
    "Ao final vamos elaborar um algoritimo com base no perfil dos funcionários que não possuem faltas, caso haja novas constratações poderá o Recursos Humanos se utilizar do algoritimopara o auxilio da contratação, se contrata ou não contrata, se tem o perfil de ser um colaborador que falta ou não."
   ]
  },
  {
   "cell_type": "markdown",
   "id": "d8a88149",
   "metadata": {
    "papermill": {
     "duration": 0.091256,
     "end_time": "2021-10-02T01:03:38.727272",
     "exception": false,
     "start_time": "2021-10-02T01:03:38.636016",
     "status": "completed"
    },
    "tags": []
   },
   "source": []
  },
  {
   "cell_type": "markdown",
   "id": "c66724c6",
   "metadata": {
    "id": "U9HRStB1Ir3T",
    "papermill": {
     "duration": 0.112338,
     "end_time": "2021-10-02T01:03:38.939255",
     "exception": false,
     "start_time": "2021-10-02T01:03:38.826917",
     "status": "completed"
    },
    "tags": []
   },
   "source": [
    "# **** Introduction ****\n",
    "\n",
    "Currently, absenteeism at work is considered as the absence of the worker from his/her job, either as a result of delays or anticipated service and, currently, one of the main problems faced by companies and associations.\n",
    "\n",
    "Absenteeism at work is something undesirable for companies and associations, negatively impacting productivity and the organizational climate itself (employees, in general, feel unmotivated by the absences of colleagues, in addition to suffering from work overload), generating financial losses as companies.\n",
    "\n",
    "The absence of an employee can generate a gap certain day, in a production line, in the elaboration of a project or a decision making etc...\n",
    "\n",
    " The database was created with records of absenteeism at work from July 2007 to July 2010 at a courier company in Brazil.\n",
    "The dataset allows for various attribute novations and attribute deletions, or a modification of the attribute type (categorical, integer or real) dependent on the purpose of the search.\n",
    "\n",
    "Let's analyze the data and observe some interesting characteristics of employee profiles, we often imagine that the most unruly employee is the one who is most lacking, or the employee with the most children, such data in this company demonstrate that often not everything follows a rule.\n",
    "\n",
    "At the end, we will develop an algorithm based on the profile of employees who have no absences, if there are new hires, Human Resources can use the algorithm to help the hiring, whether you hire or not, if you have the profile of being a missing employee or not."
   ]
  },
  {
   "cell_type": "markdown",
   "id": "66d5a531",
   "metadata": {
    "id": "7Ncmi2pVIxwN",
    "papermill": {
     "duration": 0.094436,
     "end_time": "2021-10-02T01:03:39.125537",
     "exception": false,
     "start_time": "2021-10-02T01:03:39.031101",
     "status": "completed"
    },
    "tags": []
   },
   "source": [
    "# Importando as Bibliotecas\n",
    "\n",
    "# Importing Libraries"
   ]
  },
  {
   "cell_type": "code",
   "execution_count": 1,
   "id": "524a22c7",
   "metadata": {
    "execution": {
     "iopub.execute_input": "2021-10-02T01:03:39.313753Z",
     "iopub.status.busy": "2021-10-02T01:03:39.312564Z",
     "iopub.status.idle": "2021-10-02T01:03:45.683389Z",
     "shell.execute_reply": "2021-10-02T01:03:45.682633Z",
     "shell.execute_reply.started": "2021-09-27T22:12:20.412455Z"
    },
    "executionInfo": {
     "elapsed": 613,
     "status": "ok",
     "timestamp": 1632342356426,
     "user": {
      "displayName": "junior bueno",
      "photoUrl": "https://lh3.googleusercontent.com/a-/AOh14GhOPf8Uzb8OInVUJ8cenIYMk58mqjaiTlroJoQXmg=s64",
      "userId": "07862107075158255468"
     },
     "user_tz": 180
    },
    "id": "r5mEG6ZrI3cX",
    "papermill": {
     "duration": 6.466123,
     "end_time": "2021-10-02T01:03:45.683564",
     "exception": false,
     "start_time": "2021-10-02T01:03:39.217441",
     "status": "completed"
    },
    "tags": []
   },
   "outputs": [
    {
     "name": "stderr",
     "output_type": "stream",
     "text": [
      "2021-10-02 01:03:40.916516: W tensorflow/stream_executor/platform/default/dso_loader.cc:60] Could not load dynamic library 'libcudart.so.11.0'; dlerror: libcudart.so.11.0: cannot open shared object file: No such file or directory; LD_LIBRARY_PATH: /opt/conda/lib\n",
      "2021-10-02 01:03:40.916641: I tensorflow/stream_executor/cuda/cudart_stub.cc:29] Ignore above cudart dlerror if you do not have a GPU set up on your machine.\n"
     ]
    }
   ],
   "source": [
    "import pandas as pd \n",
    "import numpy as np \n",
    "import seaborn as sns \n",
    "import matplotlib.pyplot as plt\n",
    "import os\n",
    "import tensorflow as tf\n",
    "from tensorflow import keras\n"
   ]
  },
  {
   "cell_type": "code",
   "execution_count": 2,
   "id": "40aab774",
   "metadata": {
    "execution": {
     "iopub.execute_input": "2021-10-02T01:03:45.877600Z",
     "iopub.status.busy": "2021-10-02T01:03:45.876927Z",
     "iopub.status.idle": "2021-10-02T01:03:45.900847Z",
     "shell.execute_reply": "2021-10-02T01:03:45.900212Z",
     "shell.execute_reply.started": "2021-09-27T22:12:20.418709Z"
    },
    "executionInfo": {
     "elapsed": 584,
     "status": "ok",
     "timestamp": 1632342357540,
     "user": {
      "displayName": "junior bueno",
      "photoUrl": "https://lh3.googleusercontent.com/a-/AOh14GhOPf8Uzb8OInVUJ8cenIYMk58mqjaiTlroJoQXmg=s64",
      "userId": "07862107075158255468"
     },
     "user_tz": 180
    },
    "id": "h5wSl3fuI6nh",
    "papermill": {
     "duration": 0.124331,
     "end_time": "2021-10-02T01:03:45.900993",
     "exception": false,
     "start_time": "2021-10-02T01:03:45.776662",
     "status": "completed"
    },
    "tags": []
   },
   "outputs": [],
   "source": [
    "dados_df = pd.read_csv('../input/absenteeism-at-company/dados.csv')"
   ]
  },
  {
   "cell_type": "code",
   "execution_count": 3,
   "id": "c0ef2e70",
   "metadata": {
    "execution": {
     "iopub.execute_input": "2021-10-02T01:03:46.101523Z",
     "iopub.status.busy": "2021-10-02T01:03:46.100464Z",
     "iopub.status.idle": "2021-10-02T01:03:46.123717Z",
     "shell.execute_reply": "2021-10-02T01:03:46.124244Z",
     "shell.execute_reply.started": "2021-09-27T22:12:20.448398Z"
    },
    "papermill": {
     "duration": 0.129885,
     "end_time": "2021-10-02T01:03:46.124419",
     "exception": false,
     "start_time": "2021-10-02T01:03:45.994534",
     "status": "completed"
    },
    "tags": []
   },
   "outputs": [
    {
     "data": {
      "text/html": [
       "<div>\n",
       "<style scoped>\n",
       "    .dataframe tbody tr th:only-of-type {\n",
       "        vertical-align: middle;\n",
       "    }\n",
       "\n",
       "    .dataframe tbody tr th {\n",
       "        vertical-align: top;\n",
       "    }\n",
       "\n",
       "    .dataframe thead th {\n",
       "        text-align: right;\n",
       "    }\n",
       "</style>\n",
       "<table border=\"1\" class=\"dataframe\">\n",
       "  <thead>\n",
       "    <tr style=\"text-align: right;\">\n",
       "      <th></th>\n",
       "      <th>ID</th>\n",
       "      <th>Reason for absence</th>\n",
       "      <th>Month of absence</th>\n",
       "      <th>Day of the week</th>\n",
       "      <th>Seasons</th>\n",
       "      <th>Transportation expense</th>\n",
       "      <th>Distance from Residence to Work</th>\n",
       "      <th>Service time</th>\n",
       "      <th>Age</th>\n",
       "      <th>Work load Average/day</th>\n",
       "      <th>...</th>\n",
       "      <th>Disciplinary failure</th>\n",
       "      <th>Education</th>\n",
       "      <th>Son</th>\n",
       "      <th>Social drinker</th>\n",
       "      <th>Social smoker</th>\n",
       "      <th>Pet</th>\n",
       "      <th>Weight</th>\n",
       "      <th>Height</th>\n",
       "      <th>Body mass index</th>\n",
       "      <th>Absenteeism time in hours</th>\n",
       "    </tr>\n",
       "  </thead>\n",
       "  <tbody>\n",
       "    <tr>\n",
       "      <th>0</th>\n",
       "      <td>11</td>\n",
       "      <td>26</td>\n",
       "      <td>7</td>\n",
       "      <td>3</td>\n",
       "      <td>1</td>\n",
       "      <td>289</td>\n",
       "      <td>36</td>\n",
       "      <td>13</td>\n",
       "      <td>33</td>\n",
       "      <td>239.554</td>\n",
       "      <td>...</td>\n",
       "      <td>0</td>\n",
       "      <td>1</td>\n",
       "      <td>2</td>\n",
       "      <td>1</td>\n",
       "      <td>0</td>\n",
       "      <td>1</td>\n",
       "      <td>90</td>\n",
       "      <td>172</td>\n",
       "      <td>30</td>\n",
       "      <td>4</td>\n",
       "    </tr>\n",
       "    <tr>\n",
       "      <th>1</th>\n",
       "      <td>36</td>\n",
       "      <td>0</td>\n",
       "      <td>7</td>\n",
       "      <td>3</td>\n",
       "      <td>1</td>\n",
       "      <td>118</td>\n",
       "      <td>13</td>\n",
       "      <td>18</td>\n",
       "      <td>50</td>\n",
       "      <td>239.554</td>\n",
       "      <td>...</td>\n",
       "      <td>1</td>\n",
       "      <td>1</td>\n",
       "      <td>1</td>\n",
       "      <td>1</td>\n",
       "      <td>0</td>\n",
       "      <td>0</td>\n",
       "      <td>98</td>\n",
       "      <td>178</td>\n",
       "      <td>31</td>\n",
       "      <td>0</td>\n",
       "    </tr>\n",
       "    <tr>\n",
       "      <th>2</th>\n",
       "      <td>3</td>\n",
       "      <td>23</td>\n",
       "      <td>7</td>\n",
       "      <td>4</td>\n",
       "      <td>1</td>\n",
       "      <td>179</td>\n",
       "      <td>51</td>\n",
       "      <td>18</td>\n",
       "      <td>38</td>\n",
       "      <td>239.554</td>\n",
       "      <td>...</td>\n",
       "      <td>0</td>\n",
       "      <td>1</td>\n",
       "      <td>0</td>\n",
       "      <td>1</td>\n",
       "      <td>0</td>\n",
       "      <td>0</td>\n",
       "      <td>89</td>\n",
       "      <td>170</td>\n",
       "      <td>31</td>\n",
       "      <td>2</td>\n",
       "    </tr>\n",
       "    <tr>\n",
       "      <th>3</th>\n",
       "      <td>7</td>\n",
       "      <td>7</td>\n",
       "      <td>7</td>\n",
       "      <td>5</td>\n",
       "      <td>1</td>\n",
       "      <td>279</td>\n",
       "      <td>5</td>\n",
       "      <td>14</td>\n",
       "      <td>39</td>\n",
       "      <td>239.554</td>\n",
       "      <td>...</td>\n",
       "      <td>0</td>\n",
       "      <td>1</td>\n",
       "      <td>2</td>\n",
       "      <td>1</td>\n",
       "      <td>1</td>\n",
       "      <td>0</td>\n",
       "      <td>68</td>\n",
       "      <td>168</td>\n",
       "      <td>24</td>\n",
       "      <td>4</td>\n",
       "    </tr>\n",
       "    <tr>\n",
       "      <th>4</th>\n",
       "      <td>11</td>\n",
       "      <td>23</td>\n",
       "      <td>7</td>\n",
       "      <td>5</td>\n",
       "      <td>1</td>\n",
       "      <td>289</td>\n",
       "      <td>36</td>\n",
       "      <td>13</td>\n",
       "      <td>33</td>\n",
       "      <td>239.554</td>\n",
       "      <td>...</td>\n",
       "      <td>0</td>\n",
       "      <td>1</td>\n",
       "      <td>2</td>\n",
       "      <td>1</td>\n",
       "      <td>0</td>\n",
       "      <td>1</td>\n",
       "      <td>90</td>\n",
       "      <td>172</td>\n",
       "      <td>30</td>\n",
       "      <td>2</td>\n",
       "    </tr>\n",
       "    <tr>\n",
       "      <th>...</th>\n",
       "      <td>...</td>\n",
       "      <td>...</td>\n",
       "      <td>...</td>\n",
       "      <td>...</td>\n",
       "      <td>...</td>\n",
       "      <td>...</td>\n",
       "      <td>...</td>\n",
       "      <td>...</td>\n",
       "      <td>...</td>\n",
       "      <td>...</td>\n",
       "      <td>...</td>\n",
       "      <td>...</td>\n",
       "      <td>...</td>\n",
       "      <td>...</td>\n",
       "      <td>...</td>\n",
       "      <td>...</td>\n",
       "      <td>...</td>\n",
       "      <td>...</td>\n",
       "      <td>...</td>\n",
       "      <td>...</td>\n",
       "      <td>...</td>\n",
       "    </tr>\n",
       "    <tr>\n",
       "      <th>735</th>\n",
       "      <td>11</td>\n",
       "      <td>14</td>\n",
       "      <td>7</td>\n",
       "      <td>3</td>\n",
       "      <td>1</td>\n",
       "      <td>289</td>\n",
       "      <td>36</td>\n",
       "      <td>13</td>\n",
       "      <td>33</td>\n",
       "      <td>264.604</td>\n",
       "      <td>...</td>\n",
       "      <td>0</td>\n",
       "      <td>1</td>\n",
       "      <td>2</td>\n",
       "      <td>1</td>\n",
       "      <td>0</td>\n",
       "      <td>1</td>\n",
       "      <td>90</td>\n",
       "      <td>172</td>\n",
       "      <td>30</td>\n",
       "      <td>8</td>\n",
       "    </tr>\n",
       "    <tr>\n",
       "      <th>736</th>\n",
       "      <td>1</td>\n",
       "      <td>11</td>\n",
       "      <td>7</td>\n",
       "      <td>3</td>\n",
       "      <td>1</td>\n",
       "      <td>235</td>\n",
       "      <td>11</td>\n",
       "      <td>14</td>\n",
       "      <td>37</td>\n",
       "      <td>264.604</td>\n",
       "      <td>...</td>\n",
       "      <td>0</td>\n",
       "      <td>3</td>\n",
       "      <td>1</td>\n",
       "      <td>0</td>\n",
       "      <td>0</td>\n",
       "      <td>1</td>\n",
       "      <td>88</td>\n",
       "      <td>172</td>\n",
       "      <td>29</td>\n",
       "      <td>4</td>\n",
       "    </tr>\n",
       "    <tr>\n",
       "      <th>737</th>\n",
       "      <td>4</td>\n",
       "      <td>0</td>\n",
       "      <td>0</td>\n",
       "      <td>3</td>\n",
       "      <td>1</td>\n",
       "      <td>118</td>\n",
       "      <td>14</td>\n",
       "      <td>13</td>\n",
       "      <td>40</td>\n",
       "      <td>271.219</td>\n",
       "      <td>...</td>\n",
       "      <td>0</td>\n",
       "      <td>1</td>\n",
       "      <td>1</td>\n",
       "      <td>1</td>\n",
       "      <td>0</td>\n",
       "      <td>8</td>\n",
       "      <td>98</td>\n",
       "      <td>170</td>\n",
       "      <td>34</td>\n",
       "      <td>0</td>\n",
       "    </tr>\n",
       "    <tr>\n",
       "      <th>738</th>\n",
       "      <td>8</td>\n",
       "      <td>0</td>\n",
       "      <td>0</td>\n",
       "      <td>4</td>\n",
       "      <td>2</td>\n",
       "      <td>231</td>\n",
       "      <td>35</td>\n",
       "      <td>14</td>\n",
       "      <td>39</td>\n",
       "      <td>271.219</td>\n",
       "      <td>...</td>\n",
       "      <td>0</td>\n",
       "      <td>1</td>\n",
       "      <td>2</td>\n",
       "      <td>1</td>\n",
       "      <td>0</td>\n",
       "      <td>2</td>\n",
       "      <td>100</td>\n",
       "      <td>170</td>\n",
       "      <td>35</td>\n",
       "      <td>0</td>\n",
       "    </tr>\n",
       "    <tr>\n",
       "      <th>739</th>\n",
       "      <td>35</td>\n",
       "      <td>0</td>\n",
       "      <td>0</td>\n",
       "      <td>6</td>\n",
       "      <td>3</td>\n",
       "      <td>179</td>\n",
       "      <td>45</td>\n",
       "      <td>14</td>\n",
       "      <td>53</td>\n",
       "      <td>271.219</td>\n",
       "      <td>...</td>\n",
       "      <td>0</td>\n",
       "      <td>1</td>\n",
       "      <td>1</td>\n",
       "      <td>0</td>\n",
       "      <td>0</td>\n",
       "      <td>1</td>\n",
       "      <td>77</td>\n",
       "      <td>175</td>\n",
       "      <td>25</td>\n",
       "      <td>0</td>\n",
       "    </tr>\n",
       "  </tbody>\n",
       "</table>\n",
       "<p>740 rows × 21 columns</p>\n",
       "</div>"
      ],
      "text/plain": [
       "     ID  Reason for absence  Month of absence  Day of the week  Seasons  \\\n",
       "0    11                  26                 7                3        1   \n",
       "1    36                   0                 7                3        1   \n",
       "2     3                  23                 7                4        1   \n",
       "3     7                   7                 7                5        1   \n",
       "4    11                  23                 7                5        1   \n",
       "..   ..                 ...               ...              ...      ...   \n",
       "735  11                  14                 7                3        1   \n",
       "736   1                  11                 7                3        1   \n",
       "737   4                   0                 0                3        1   \n",
       "738   8                   0                 0                4        2   \n",
       "739  35                   0                 0                6        3   \n",
       "\n",
       "     Transportation expense  Distance from Residence to Work  Service time  \\\n",
       "0                       289                               36            13   \n",
       "1                       118                               13            18   \n",
       "2                       179                               51            18   \n",
       "3                       279                                5            14   \n",
       "4                       289                               36            13   \n",
       "..                      ...                              ...           ...   \n",
       "735                     289                               36            13   \n",
       "736                     235                               11            14   \n",
       "737                     118                               14            13   \n",
       "738                     231                               35            14   \n",
       "739                     179                               45            14   \n",
       "\n",
       "     Age  Work load Average/day   ...  Disciplinary failure  Education  Son  \\\n",
       "0     33                 239.554  ...                     0          1    2   \n",
       "1     50                 239.554  ...                     1          1    1   \n",
       "2     38                 239.554  ...                     0          1    0   \n",
       "3     39                 239.554  ...                     0          1    2   \n",
       "4     33                 239.554  ...                     0          1    2   \n",
       "..   ...                     ...  ...                   ...        ...  ...   \n",
       "735   33                 264.604  ...                     0          1    2   \n",
       "736   37                 264.604  ...                     0          3    1   \n",
       "737   40                 271.219  ...                     0          1    1   \n",
       "738   39                 271.219  ...                     0          1    2   \n",
       "739   53                 271.219  ...                     0          1    1   \n",
       "\n",
       "     Social drinker  Social smoker  Pet  Weight  Height  Body mass index  \\\n",
       "0                 1              0    1      90     172               30   \n",
       "1                 1              0    0      98     178               31   \n",
       "2                 1              0    0      89     170               31   \n",
       "3                 1              1    0      68     168               24   \n",
       "4                 1              0    1      90     172               30   \n",
       "..              ...            ...  ...     ...     ...              ...   \n",
       "735               1              0    1      90     172               30   \n",
       "736               0              0    1      88     172               29   \n",
       "737               1              0    8      98     170               34   \n",
       "738               1              0    2     100     170               35   \n",
       "739               0              0    1      77     175               25   \n",
       "\n",
       "     Absenteeism time in hours  \n",
       "0                            4  \n",
       "1                            0  \n",
       "2                            2  \n",
       "3                            4  \n",
       "4                            2  \n",
       "..                         ...  \n",
       "735                          8  \n",
       "736                          4  \n",
       "737                          0  \n",
       "738                          0  \n",
       "739                          0  \n",
       "\n",
       "[740 rows x 21 columns]"
      ]
     },
     "execution_count": 3,
     "metadata": {},
     "output_type": "execute_result"
    }
   ],
   "source": [
    "dados_df"
   ]
  },
  {
   "cell_type": "code",
   "execution_count": 4,
   "id": "3150bc9c",
   "metadata": {
    "execution": {
     "iopub.execute_input": "2021-10-02T01:03:46.313210Z",
     "iopub.status.busy": "2021-10-02T01:03:46.312519Z",
     "iopub.status.idle": "2021-10-02T01:03:46.337749Z",
     "shell.execute_reply": "2021-10-02T01:03:46.336587Z",
     "shell.execute_reply.started": "2021-09-27T22:12:20.486616Z"
    },
    "executionInfo": {
     "elapsed": 17,
     "status": "ok",
     "timestamp": 1632342357541,
     "user": {
      "displayName": "junior bueno",
      "photoUrl": "https://lh3.googleusercontent.com/a-/AOh14GhOPf8Uzb8OInVUJ8cenIYMk58mqjaiTlroJoQXmg=s64",
      "userId": "07862107075158255468"
     },
     "user_tz": 180
    },
    "id": "if1VjOuZJE4n",
    "outputId": "461c3f2a-93cf-43db-ace8-6c5e6accd381",
    "papermill": {
     "duration": 0.120935,
     "end_time": "2021-10-02T01:03:46.338019",
     "exception": false,
     "start_time": "2021-10-02T01:03:46.217084",
     "status": "completed"
    },
    "tags": []
   },
   "outputs": [
    {
     "name": "stdout",
     "output_type": "stream",
     "text": [
      "<class 'pandas.core.frame.DataFrame'>\n",
      "RangeIndex: 740 entries, 0 to 739\n",
      "Data columns (total 21 columns):\n",
      " #   Column                           Non-Null Count  Dtype  \n",
      "---  ------                           --------------  -----  \n",
      " 0   ID                               740 non-null    int64  \n",
      " 1   Reason for absence               740 non-null    int64  \n",
      " 2   Month of absence                 740 non-null    int64  \n",
      " 3   Day of the week                  740 non-null    int64  \n",
      " 4   Seasons                          740 non-null    int64  \n",
      " 5   Transportation expense           740 non-null    int64  \n",
      " 6   Distance from Residence to Work  740 non-null    int64  \n",
      " 7   Service time                     740 non-null    int64  \n",
      " 8   Age                              740 non-null    int64  \n",
      " 9   Work load Average/day            740 non-null    float64\n",
      " 10  Hit target                       740 non-null    int64  \n",
      " 11  Disciplinary failure             740 non-null    int64  \n",
      " 12  Education                        740 non-null    int64  \n",
      " 13  Son                              740 non-null    int64  \n",
      " 14  Social drinker                   740 non-null    int64  \n",
      " 15  Social smoker                    740 non-null    int64  \n",
      " 16  Pet                              740 non-null    int64  \n",
      " 17  Weight                           740 non-null    int64  \n",
      " 18  Height                           740 non-null    int64  \n",
      " 19  Body mass index                  740 non-null    int64  \n",
      " 20  Absenteeism time in hours        740 non-null    int64  \n",
      "dtypes: float64(1), int64(20)\n",
      "memory usage: 121.5 KB\n"
     ]
    }
   ],
   "source": [
    "dados_df.info()"
   ]
  },
  {
   "cell_type": "code",
   "execution_count": 5,
   "id": "22bf8e95",
   "metadata": {
    "execution": {
     "iopub.execute_input": "2021-10-02T01:03:46.555426Z",
     "iopub.status.busy": "2021-10-02T01:03:46.554670Z",
     "iopub.status.idle": "2021-10-02T01:03:46.557674Z",
     "shell.execute_reply": "2021-10-02T01:03:46.558186Z",
     "shell.execute_reply.started": "2021-09-27T22:12:20.509317Z"
    },
    "executionInfo": {
     "elapsed": 8,
     "status": "ok",
     "timestamp": 1632342357542,
     "user": {
      "displayName": "junior bueno",
      "photoUrl": "https://lh3.googleusercontent.com/a-/AOh14GhOPf8Uzb8OInVUJ8cenIYMk58mqjaiTlroJoQXmg=s64",
      "userId": "07862107075158255468"
     },
     "user_tz": 180
    },
    "id": "BnOCvE71mQTC",
    "outputId": "b1366cba-6ee4-4af8-9088-bef62b45f048",
    "papermill": {
     "duration": 0.126287,
     "end_time": "2021-10-02T01:03:46.558360",
     "exception": false,
     "start_time": "2021-10-02T01:03:46.432073",
     "status": "completed"
    },
    "tags": []
   },
   "outputs": [
    {
     "data": {
      "text/html": [
       "<div>\n",
       "<style scoped>\n",
       "    .dataframe tbody tr th:only-of-type {\n",
       "        vertical-align: middle;\n",
       "    }\n",
       "\n",
       "    .dataframe tbody tr th {\n",
       "        vertical-align: top;\n",
       "    }\n",
       "\n",
       "    .dataframe thead th {\n",
       "        text-align: right;\n",
       "    }\n",
       "</style>\n",
       "<table border=\"1\" class=\"dataframe\">\n",
       "  <thead>\n",
       "    <tr style=\"text-align: right;\">\n",
       "      <th></th>\n",
       "      <th>ID</th>\n",
       "      <th>Reason for absence</th>\n",
       "      <th>Month of absence</th>\n",
       "      <th>Day of the week</th>\n",
       "      <th>Seasons</th>\n",
       "      <th>Transportation expense</th>\n",
       "      <th>Distance from Residence to Work</th>\n",
       "      <th>Service time</th>\n",
       "      <th>Age</th>\n",
       "      <th>Work load Average/day</th>\n",
       "      <th>...</th>\n",
       "      <th>Disciplinary failure</th>\n",
       "      <th>Education</th>\n",
       "      <th>Son</th>\n",
       "      <th>Social drinker</th>\n",
       "      <th>Social smoker</th>\n",
       "      <th>Pet</th>\n",
       "      <th>Weight</th>\n",
       "      <th>Height</th>\n",
       "      <th>Body mass index</th>\n",
       "      <th>Absenteeism time in hours</th>\n",
       "    </tr>\n",
       "  </thead>\n",
       "  <tbody>\n",
       "    <tr>\n",
       "      <th>0</th>\n",
       "      <td>False</td>\n",
       "      <td>False</td>\n",
       "      <td>False</td>\n",
       "      <td>False</td>\n",
       "      <td>False</td>\n",
       "      <td>False</td>\n",
       "      <td>False</td>\n",
       "      <td>False</td>\n",
       "      <td>False</td>\n",
       "      <td>False</td>\n",
       "      <td>...</td>\n",
       "      <td>False</td>\n",
       "      <td>False</td>\n",
       "      <td>False</td>\n",
       "      <td>False</td>\n",
       "      <td>False</td>\n",
       "      <td>False</td>\n",
       "      <td>False</td>\n",
       "      <td>False</td>\n",
       "      <td>False</td>\n",
       "      <td>False</td>\n",
       "    </tr>\n",
       "    <tr>\n",
       "      <th>1</th>\n",
       "      <td>False</td>\n",
       "      <td>False</td>\n",
       "      <td>False</td>\n",
       "      <td>False</td>\n",
       "      <td>False</td>\n",
       "      <td>False</td>\n",
       "      <td>False</td>\n",
       "      <td>False</td>\n",
       "      <td>False</td>\n",
       "      <td>False</td>\n",
       "      <td>...</td>\n",
       "      <td>False</td>\n",
       "      <td>False</td>\n",
       "      <td>False</td>\n",
       "      <td>False</td>\n",
       "      <td>False</td>\n",
       "      <td>False</td>\n",
       "      <td>False</td>\n",
       "      <td>False</td>\n",
       "      <td>False</td>\n",
       "      <td>False</td>\n",
       "    </tr>\n",
       "    <tr>\n",
       "      <th>2</th>\n",
       "      <td>False</td>\n",
       "      <td>False</td>\n",
       "      <td>False</td>\n",
       "      <td>False</td>\n",
       "      <td>False</td>\n",
       "      <td>False</td>\n",
       "      <td>False</td>\n",
       "      <td>False</td>\n",
       "      <td>False</td>\n",
       "      <td>False</td>\n",
       "      <td>...</td>\n",
       "      <td>False</td>\n",
       "      <td>False</td>\n",
       "      <td>False</td>\n",
       "      <td>False</td>\n",
       "      <td>False</td>\n",
       "      <td>False</td>\n",
       "      <td>False</td>\n",
       "      <td>False</td>\n",
       "      <td>False</td>\n",
       "      <td>False</td>\n",
       "    </tr>\n",
       "    <tr>\n",
       "      <th>3</th>\n",
       "      <td>False</td>\n",
       "      <td>False</td>\n",
       "      <td>False</td>\n",
       "      <td>False</td>\n",
       "      <td>False</td>\n",
       "      <td>False</td>\n",
       "      <td>False</td>\n",
       "      <td>False</td>\n",
       "      <td>False</td>\n",
       "      <td>False</td>\n",
       "      <td>...</td>\n",
       "      <td>False</td>\n",
       "      <td>False</td>\n",
       "      <td>False</td>\n",
       "      <td>False</td>\n",
       "      <td>False</td>\n",
       "      <td>False</td>\n",
       "      <td>False</td>\n",
       "      <td>False</td>\n",
       "      <td>False</td>\n",
       "      <td>False</td>\n",
       "    </tr>\n",
       "    <tr>\n",
       "      <th>4</th>\n",
       "      <td>False</td>\n",
       "      <td>False</td>\n",
       "      <td>False</td>\n",
       "      <td>False</td>\n",
       "      <td>False</td>\n",
       "      <td>False</td>\n",
       "      <td>False</td>\n",
       "      <td>False</td>\n",
       "      <td>False</td>\n",
       "      <td>False</td>\n",
       "      <td>...</td>\n",
       "      <td>False</td>\n",
       "      <td>False</td>\n",
       "      <td>False</td>\n",
       "      <td>False</td>\n",
       "      <td>False</td>\n",
       "      <td>False</td>\n",
       "      <td>False</td>\n",
       "      <td>False</td>\n",
       "      <td>False</td>\n",
       "      <td>False</td>\n",
       "    </tr>\n",
       "    <tr>\n",
       "      <th>...</th>\n",
       "      <td>...</td>\n",
       "      <td>...</td>\n",
       "      <td>...</td>\n",
       "      <td>...</td>\n",
       "      <td>...</td>\n",
       "      <td>...</td>\n",
       "      <td>...</td>\n",
       "      <td>...</td>\n",
       "      <td>...</td>\n",
       "      <td>...</td>\n",
       "      <td>...</td>\n",
       "      <td>...</td>\n",
       "      <td>...</td>\n",
       "      <td>...</td>\n",
       "      <td>...</td>\n",
       "      <td>...</td>\n",
       "      <td>...</td>\n",
       "      <td>...</td>\n",
       "      <td>...</td>\n",
       "      <td>...</td>\n",
       "      <td>...</td>\n",
       "    </tr>\n",
       "    <tr>\n",
       "      <th>735</th>\n",
       "      <td>False</td>\n",
       "      <td>False</td>\n",
       "      <td>False</td>\n",
       "      <td>False</td>\n",
       "      <td>False</td>\n",
       "      <td>False</td>\n",
       "      <td>False</td>\n",
       "      <td>False</td>\n",
       "      <td>False</td>\n",
       "      <td>False</td>\n",
       "      <td>...</td>\n",
       "      <td>False</td>\n",
       "      <td>False</td>\n",
       "      <td>False</td>\n",
       "      <td>False</td>\n",
       "      <td>False</td>\n",
       "      <td>False</td>\n",
       "      <td>False</td>\n",
       "      <td>False</td>\n",
       "      <td>False</td>\n",
       "      <td>False</td>\n",
       "    </tr>\n",
       "    <tr>\n",
       "      <th>736</th>\n",
       "      <td>False</td>\n",
       "      <td>False</td>\n",
       "      <td>False</td>\n",
       "      <td>False</td>\n",
       "      <td>False</td>\n",
       "      <td>False</td>\n",
       "      <td>False</td>\n",
       "      <td>False</td>\n",
       "      <td>False</td>\n",
       "      <td>False</td>\n",
       "      <td>...</td>\n",
       "      <td>False</td>\n",
       "      <td>False</td>\n",
       "      <td>False</td>\n",
       "      <td>False</td>\n",
       "      <td>False</td>\n",
       "      <td>False</td>\n",
       "      <td>False</td>\n",
       "      <td>False</td>\n",
       "      <td>False</td>\n",
       "      <td>False</td>\n",
       "    </tr>\n",
       "    <tr>\n",
       "      <th>737</th>\n",
       "      <td>False</td>\n",
       "      <td>False</td>\n",
       "      <td>False</td>\n",
       "      <td>False</td>\n",
       "      <td>False</td>\n",
       "      <td>False</td>\n",
       "      <td>False</td>\n",
       "      <td>False</td>\n",
       "      <td>False</td>\n",
       "      <td>False</td>\n",
       "      <td>...</td>\n",
       "      <td>False</td>\n",
       "      <td>False</td>\n",
       "      <td>False</td>\n",
       "      <td>False</td>\n",
       "      <td>False</td>\n",
       "      <td>False</td>\n",
       "      <td>False</td>\n",
       "      <td>False</td>\n",
       "      <td>False</td>\n",
       "      <td>False</td>\n",
       "    </tr>\n",
       "    <tr>\n",
       "      <th>738</th>\n",
       "      <td>False</td>\n",
       "      <td>False</td>\n",
       "      <td>False</td>\n",
       "      <td>False</td>\n",
       "      <td>False</td>\n",
       "      <td>False</td>\n",
       "      <td>False</td>\n",
       "      <td>False</td>\n",
       "      <td>False</td>\n",
       "      <td>False</td>\n",
       "      <td>...</td>\n",
       "      <td>False</td>\n",
       "      <td>False</td>\n",
       "      <td>False</td>\n",
       "      <td>False</td>\n",
       "      <td>False</td>\n",
       "      <td>False</td>\n",
       "      <td>False</td>\n",
       "      <td>False</td>\n",
       "      <td>False</td>\n",
       "      <td>False</td>\n",
       "    </tr>\n",
       "    <tr>\n",
       "      <th>739</th>\n",
       "      <td>False</td>\n",
       "      <td>False</td>\n",
       "      <td>False</td>\n",
       "      <td>False</td>\n",
       "      <td>False</td>\n",
       "      <td>False</td>\n",
       "      <td>False</td>\n",
       "      <td>False</td>\n",
       "      <td>False</td>\n",
       "      <td>False</td>\n",
       "      <td>...</td>\n",
       "      <td>False</td>\n",
       "      <td>False</td>\n",
       "      <td>False</td>\n",
       "      <td>False</td>\n",
       "      <td>False</td>\n",
       "      <td>False</td>\n",
       "      <td>False</td>\n",
       "      <td>False</td>\n",
       "      <td>False</td>\n",
       "      <td>False</td>\n",
       "    </tr>\n",
       "  </tbody>\n",
       "</table>\n",
       "<p>740 rows × 21 columns</p>\n",
       "</div>"
      ],
      "text/plain": [
       "        ID  Reason for absence  Month of absence  Day of the week  Seasons  \\\n",
       "0    False               False             False            False    False   \n",
       "1    False               False             False            False    False   \n",
       "2    False               False             False            False    False   \n",
       "3    False               False             False            False    False   \n",
       "4    False               False             False            False    False   \n",
       "..     ...                 ...               ...              ...      ...   \n",
       "735  False               False             False            False    False   \n",
       "736  False               False             False            False    False   \n",
       "737  False               False             False            False    False   \n",
       "738  False               False             False            False    False   \n",
       "739  False               False             False            False    False   \n",
       "\n",
       "     Transportation expense  Distance from Residence to Work  Service time  \\\n",
       "0                     False                            False         False   \n",
       "1                     False                            False         False   \n",
       "2                     False                            False         False   \n",
       "3                     False                            False         False   \n",
       "4                     False                            False         False   \n",
       "..                      ...                              ...           ...   \n",
       "735                   False                            False         False   \n",
       "736                   False                            False         False   \n",
       "737                   False                            False         False   \n",
       "738                   False                            False         False   \n",
       "739                   False                            False         False   \n",
       "\n",
       "       Age  Work load Average/day   ...  Disciplinary failure  Education  \\\n",
       "0    False                   False  ...                 False      False   \n",
       "1    False                   False  ...                 False      False   \n",
       "2    False                   False  ...                 False      False   \n",
       "3    False                   False  ...                 False      False   \n",
       "4    False                   False  ...                 False      False   \n",
       "..     ...                     ...  ...                   ...        ...   \n",
       "735  False                   False  ...                 False      False   \n",
       "736  False                   False  ...                 False      False   \n",
       "737  False                   False  ...                 False      False   \n",
       "738  False                   False  ...                 False      False   \n",
       "739  False                   False  ...                 False      False   \n",
       "\n",
       "       Son  Social drinker  Social smoker    Pet  Weight  Height  \\\n",
       "0    False           False          False  False   False   False   \n",
       "1    False           False          False  False   False   False   \n",
       "2    False           False          False  False   False   False   \n",
       "3    False           False          False  False   False   False   \n",
       "4    False           False          False  False   False   False   \n",
       "..     ...             ...            ...    ...     ...     ...   \n",
       "735  False           False          False  False   False   False   \n",
       "736  False           False          False  False   False   False   \n",
       "737  False           False          False  False   False   False   \n",
       "738  False           False          False  False   False   False   \n",
       "739  False           False          False  False   False   False   \n",
       "\n",
       "     Body mass index  Absenteeism time in hours  \n",
       "0              False                      False  \n",
       "1              False                      False  \n",
       "2              False                      False  \n",
       "3              False                      False  \n",
       "4              False                      False  \n",
       "..               ...                        ...  \n",
       "735            False                      False  \n",
       "736            False                      False  \n",
       "737            False                      False  \n",
       "738            False                      False  \n",
       "739            False                      False  \n",
       "\n",
       "[740 rows x 21 columns]"
      ]
     },
     "execution_count": 5,
     "metadata": {},
     "output_type": "execute_result"
    }
   ],
   "source": [
    "dados_df.isna()"
   ]
  },
  {
   "cell_type": "code",
   "execution_count": 6,
   "id": "c3d85aa7",
   "metadata": {
    "execution": {
     "iopub.execute_input": "2021-10-02T01:03:46.751900Z",
     "iopub.status.busy": "2021-10-02T01:03:46.751188Z",
     "iopub.status.idle": "2021-10-02T01:03:47.530725Z",
     "shell.execute_reply": "2021-10-02T01:03:47.530194Z",
     "shell.execute_reply.started": "2021-09-27T22:12:20.547935Z"
    },
    "executionInfo": {
     "elapsed": 2068,
     "status": "ok",
     "timestamp": 1632342359603,
     "user": {
      "displayName": "junior bueno",
      "photoUrl": "https://lh3.googleusercontent.com/a-/AOh14GhOPf8Uzb8OInVUJ8cenIYMk58mqjaiTlroJoQXmg=s64",
      "userId": "07862107075158255468"
     },
     "user_tz": 180
    },
    "id": "f63fWmLcJzog",
    "outputId": "619bc353-7b2f-447a-e7f5-754eec1ef24e",
    "papermill": {
     "duration": 0.877958,
     "end_time": "2021-10-02T01:03:47.530876",
     "exception": false,
     "start_time": "2021-10-02T01:03:46.652918",
     "status": "completed"
    },
    "tags": []
   },
   "outputs": [
    {
     "data": {
      "image/png": "[encoded data removed]",
      "text/plain": [
       "<Figure size 432x288 with 2 Axes>"
      ]
     },
     "metadata": {
      "needs_background": "light"
     },
     "output_type": "display_data"
    }
   ],
   "source": [
    "sns.heatmap(dados_df.isnull());"
   ]
  },
  {
   "cell_type": "markdown",
   "id": "129e33b7",
   "metadata": {
    "id": "wST5sH0HLrDn",
    "papermill": {
     "duration": 0.094663,
     "end_time": "2021-10-02T01:03:47.720288",
     "exception": false,
     "start_time": "2021-10-02T01:03:47.625625",
     "status": "completed"
    },
    "tags": []
   },
   "source": [
    "# Tratamento dos dados: \n",
    "\n",
    "Noso objetivo é identificar as caracteristicas e perfil dos funcionários que faltam e os que não faltam;\n",
    "\n",
    "Vamos eliminar alguns atributos que são dispensaveis para essa análise: \n",
    "\n",
    "Reason for absence = não estamos analisando os motivos, mas a falta no trabalho, é um atributo que pode ser deletado neste estudo de caso.\n",
    "\n",
    "Month of absence, Day of the week', 'Seasons', = buscamos o número de faltas e não um período de faltas.\n",
    "\n",
    "Weight,Heigh', Body mass index = são dados muito subjetivos, para nossa análise não influênciara no número de faltas;\n",
    "\n",
    "Pet = é um dado mais objetivo que subjetivo."
   ]
  },
  {
   "cell_type": "markdown",
   "id": "5c0f1776",
   "metadata": {
    "papermill": {
     "duration": 0.097559,
     "end_time": "2021-10-02T01:03:47.913247",
     "exception": false,
     "start_time": "2021-10-02T01:03:47.815688",
     "status": "completed"
    },
    "tags": []
   },
   "source": [
    "# **Data processing: **\n",
    "\n",
    "Our objective is to identify the characteristics and profile of the missing and non-missing employees;\n",
    "\n",
    "Let's eliminate some attributes that are not necessary for this analysis:\n",
    "\n",
    "Reason for absence = we are not analyzing reasons, but absence at work is an attribute that can be deleted in this case study.\n",
    "\n",
    "Month of absence, Day of the week', 'Seasons', = we look for the number of absences and not a period of absences.\n",
    "\n",
    "Weight,Heigh', Body mass index = are very subjective data, for our analysis it will not influence the number of absences;\n",
    "\n",
    "Pet = is more objective than subjective."
   ]
  },
  {
   "cell_type": "code",
   "execution_count": 7,
   "id": "721e46dc",
   "metadata": {
    "execution": {
     "iopub.execute_input": "2021-10-02T01:03:48.112948Z",
     "iopub.status.busy": "2021-10-02T01:03:48.111933Z",
     "iopub.status.idle": "2021-10-02T01:03:48.113792Z",
     "shell.execute_reply": "2021-10-02T01:03:48.114355Z",
     "shell.execute_reply.started": "2021-09-27T22:12:21.537337Z"
    },
    "executionInfo": {
     "elapsed": 45,
     "status": "ok",
     "timestamp": 1632342359608,
     "user": {
      "displayName": "junior bueno",
      "photoUrl": "https://lh3.googleusercontent.com/a-/AOh14GhOPf8Uzb8OInVUJ8cenIYMk58mqjaiTlroJoQXmg=s64",
      "userId": "07862107075158255468"
     },
     "user_tz": 180
    },
    "id": "fcbXabzpLupw",
    "papermill": {
     "duration": 0.105241,
     "end_time": "2021-10-02T01:03:48.114537",
     "exception": false,
     "start_time": "2021-10-02T01:03:48.009296",
     "status": "completed"
    },
    "tags": []
   },
   "outputs": [],
   "source": [
    "dados_df = dados_df.drop(['Reason for absence', 'Month of absence', 'Day of the week', 'Seasons', 'Hit target', 'Pet', 'Weight','Height', 'Body mass index'], axis=1)   "
   ]
  },
  {
   "cell_type": "code",
   "execution_count": 8,
   "id": "0169498a",
   "metadata": {
    "execution": {
     "iopub.execute_input": "2021-10-02T01:03:48.313624Z",
     "iopub.status.busy": "2021-10-02T01:03:48.309022Z",
     "iopub.status.idle": "2021-10-02T01:03:48.316774Z",
     "shell.execute_reply": "2021-10-02T01:03:48.316127Z",
     "shell.execute_reply.started": "2021-09-27T22:12:21.545398Z"
    },
    "executionInfo": {
     "elapsed": 45,
     "status": "ok",
     "timestamp": 1632342359608,
     "user": {
      "displayName": "junior bueno",
      "photoUrl": "https://lh3.googleusercontent.com/a-/AOh14GhOPf8Uzb8OInVUJ8cenIYMk58mqjaiTlroJoQXmg=s64",
      "userId": "07862107075158255468"
     },
     "user_tz": 180
    },
    "id": "dwoi3SZylG38",
    "papermill": {
     "duration": 0.106094,
     "end_time": "2021-10-02T01:03:48.316925",
     "exception": false,
     "start_time": "2021-10-02T01:03:48.210831",
     "status": "completed"
    },
    "tags": []
   },
   "outputs": [],
   "source": [
    "dados_df['Absenteeism time in hours'] = dados_df['Absenteeism time in hours'].apply(lambda x: 1 if x > 0  else 0) "
   ]
  },
  {
   "cell_type": "code",
   "execution_count": 9,
   "id": "9a6f6503",
   "metadata": {
    "execution": {
     "iopub.execute_input": "2021-10-02T01:03:48.524761Z",
     "iopub.status.busy": "2021-10-02T01:03:48.523913Z",
     "iopub.status.idle": "2021-10-02T01:03:48.527469Z",
     "shell.execute_reply": "2021-10-02T01:03:48.527992Z",
     "shell.execute_reply.started": "2021-09-27T22:12:21.558282Z"
    },
    "executionInfo": {
     "elapsed": 45,
     "status": "ok",
     "timestamp": 1632342359609,
     "user": {
      "displayName": "junior bueno",
      "photoUrl": "https://lh3.googleusercontent.com/a-/AOh14GhOPf8Uzb8OInVUJ8cenIYMk58mqjaiTlroJoQXmg=s64",
      "userId": "07862107075158255468"
     },
     "user_tz": 180
    },
    "id": "EWzZvhmLNbKi",
    "outputId": "d0e13b6d-0615-4396-8e3a-cde418afcde0",
    "papermill": {
     "duration": 0.116326,
     "end_time": "2021-10-02T01:03:48.528166",
     "exception": false,
     "start_time": "2021-10-02T01:03:48.411840",
     "status": "completed"
    },
    "tags": []
   },
   "outputs": [
    {
     "data": {
      "text/html": [
       "<div>\n",
       "<style scoped>\n",
       "    .dataframe tbody tr th:only-of-type {\n",
       "        vertical-align: middle;\n",
       "    }\n",
       "\n",
       "    .dataframe tbody tr th {\n",
       "        vertical-align: top;\n",
       "    }\n",
       "\n",
       "    .dataframe thead th {\n",
       "        text-align: right;\n",
       "    }\n",
       "</style>\n",
       "<table border=\"1\" class=\"dataframe\">\n",
       "  <thead>\n",
       "    <tr style=\"text-align: right;\">\n",
       "      <th></th>\n",
       "      <th>ID</th>\n",
       "      <th>Transportation expense</th>\n",
       "      <th>Distance from Residence to Work</th>\n",
       "      <th>Service time</th>\n",
       "      <th>Age</th>\n",
       "      <th>Work load Average/day</th>\n",
       "      <th>Disciplinary failure</th>\n",
       "      <th>Education</th>\n",
       "      <th>Son</th>\n",
       "      <th>Social drinker</th>\n",
       "      <th>Social smoker</th>\n",
       "      <th>Absenteeism time in hours</th>\n",
       "    </tr>\n",
       "  </thead>\n",
       "  <tbody>\n",
       "    <tr>\n",
       "      <th>0</th>\n",
       "      <td>11</td>\n",
       "      <td>289</td>\n",
       "      <td>36</td>\n",
       "      <td>13</td>\n",
       "      <td>33</td>\n",
       "      <td>239.554</td>\n",
       "      <td>0</td>\n",
       "      <td>1</td>\n",
       "      <td>2</td>\n",
       "      <td>1</td>\n",
       "      <td>0</td>\n",
       "      <td>1</td>\n",
       "    </tr>\n",
       "    <tr>\n",
       "      <th>1</th>\n",
       "      <td>36</td>\n",
       "      <td>118</td>\n",
       "      <td>13</td>\n",
       "      <td>18</td>\n",
       "      <td>50</td>\n",
       "      <td>239.554</td>\n",
       "      <td>1</td>\n",
       "      <td>1</td>\n",
       "      <td>1</td>\n",
       "      <td>1</td>\n",
       "      <td>0</td>\n",
       "      <td>0</td>\n",
       "    </tr>\n",
       "    <tr>\n",
       "      <th>2</th>\n",
       "      <td>3</td>\n",
       "      <td>179</td>\n",
       "      <td>51</td>\n",
       "      <td>18</td>\n",
       "      <td>38</td>\n",
       "      <td>239.554</td>\n",
       "      <td>0</td>\n",
       "      <td>1</td>\n",
       "      <td>0</td>\n",
       "      <td>1</td>\n",
       "      <td>0</td>\n",
       "      <td>1</td>\n",
       "    </tr>\n",
       "    <tr>\n",
       "      <th>3</th>\n",
       "      <td>7</td>\n",
       "      <td>279</td>\n",
       "      <td>5</td>\n",
       "      <td>14</td>\n",
       "      <td>39</td>\n",
       "      <td>239.554</td>\n",
       "      <td>0</td>\n",
       "      <td>1</td>\n",
       "      <td>2</td>\n",
       "      <td>1</td>\n",
       "      <td>1</td>\n",
       "      <td>1</td>\n",
       "    </tr>\n",
       "    <tr>\n",
       "      <th>4</th>\n",
       "      <td>11</td>\n",
       "      <td>289</td>\n",
       "      <td>36</td>\n",
       "      <td>13</td>\n",
       "      <td>33</td>\n",
       "      <td>239.554</td>\n",
       "      <td>0</td>\n",
       "      <td>1</td>\n",
       "      <td>2</td>\n",
       "      <td>1</td>\n",
       "      <td>0</td>\n",
       "      <td>1</td>\n",
       "    </tr>\n",
       "    <tr>\n",
       "      <th>...</th>\n",
       "      <td>...</td>\n",
       "      <td>...</td>\n",
       "      <td>...</td>\n",
       "      <td>...</td>\n",
       "      <td>...</td>\n",
       "      <td>...</td>\n",
       "      <td>...</td>\n",
       "      <td>...</td>\n",
       "      <td>...</td>\n",
       "      <td>...</td>\n",
       "      <td>...</td>\n",
       "      <td>...</td>\n",
       "    </tr>\n",
       "    <tr>\n",
       "      <th>735</th>\n",
       "      <td>11</td>\n",
       "      <td>289</td>\n",
       "      <td>36</td>\n",
       "      <td>13</td>\n",
       "      <td>33</td>\n",
       "      <td>264.604</td>\n",
       "      <td>0</td>\n",
       "      <td>1</td>\n",
       "      <td>2</td>\n",
       "      <td>1</td>\n",
       "      <td>0</td>\n",
       "      <td>1</td>\n",
       "    </tr>\n",
       "    <tr>\n",
       "      <th>736</th>\n",
       "      <td>1</td>\n",
       "      <td>235</td>\n",
       "      <td>11</td>\n",
       "      <td>14</td>\n",
       "      <td>37</td>\n",
       "      <td>264.604</td>\n",
       "      <td>0</td>\n",
       "      <td>3</td>\n",
       "      <td>1</td>\n",
       "      <td>0</td>\n",
       "      <td>0</td>\n",
       "      <td>1</td>\n",
       "    </tr>\n",
       "    <tr>\n",
       "      <th>737</th>\n",
       "      <td>4</td>\n",
       "      <td>118</td>\n",
       "      <td>14</td>\n",
       "      <td>13</td>\n",
       "      <td>40</td>\n",
       "      <td>271.219</td>\n",
       "      <td>0</td>\n",
       "      <td>1</td>\n",
       "      <td>1</td>\n",
       "      <td>1</td>\n",
       "      <td>0</td>\n",
       "      <td>0</td>\n",
       "    </tr>\n",
       "    <tr>\n",
       "      <th>738</th>\n",
       "      <td>8</td>\n",
       "      <td>231</td>\n",
       "      <td>35</td>\n",
       "      <td>14</td>\n",
       "      <td>39</td>\n",
       "      <td>271.219</td>\n",
       "      <td>0</td>\n",
       "      <td>1</td>\n",
       "      <td>2</td>\n",
       "      <td>1</td>\n",
       "      <td>0</td>\n",
       "      <td>0</td>\n",
       "    </tr>\n",
       "    <tr>\n",
       "      <th>739</th>\n",
       "      <td>35</td>\n",
       "      <td>179</td>\n",
       "      <td>45</td>\n",
       "      <td>14</td>\n",
       "      <td>53</td>\n",
       "      <td>271.219</td>\n",
       "      <td>0</td>\n",
       "      <td>1</td>\n",
       "      <td>1</td>\n",
       "      <td>0</td>\n",
       "      <td>0</td>\n",
       "      <td>0</td>\n",
       "    </tr>\n",
       "  </tbody>\n",
       "</table>\n",
       "<p>740 rows × 12 columns</p>\n",
       "</div>"
      ],
      "text/plain": [
       "     ID  Transportation expense  Distance from Residence to Work  \\\n",
       "0    11                     289                               36   \n",
       "1    36                     118                               13   \n",
       "2     3                     179                               51   \n",
       "3     7                     279                                5   \n",
       "4    11                     289                               36   \n",
       "..   ..                     ...                              ...   \n",
       "735  11                     289                               36   \n",
       "736   1                     235                               11   \n",
       "737   4                     118                               14   \n",
       "738   8                     231                               35   \n",
       "739  35                     179                               45   \n",
       "\n",
       "     Service time  Age  Work load Average/day   Disciplinary failure  \\\n",
       "0              13   33                 239.554                     0   \n",
       "1              18   50                 239.554                     1   \n",
       "2              18   38                 239.554                     0   \n",
       "3              14   39                 239.554                     0   \n",
       "4              13   33                 239.554                     0   \n",
       "..            ...  ...                     ...                   ...   \n",
       "735            13   33                 264.604                     0   \n",
       "736            14   37                 264.604                     0   \n",
       "737            13   40                 271.219                     0   \n",
       "738            14   39                 271.219                     0   \n",
       "739            14   53                 271.219                     0   \n",
       "\n",
       "     Education  Son  Social drinker  Social smoker  Absenteeism time in hours  \n",
       "0            1    2               1              0                          1  \n",
       "1            1    1               1              0                          0  \n",
       "2            1    0               1              0                          1  \n",
       "3            1    2               1              1                          1  \n",
       "4            1    2               1              0                          1  \n",
       "..         ...  ...             ...            ...                        ...  \n",
       "735          1    2               1              0                          1  \n",
       "736          3    1               0              0                          1  \n",
       "737          1    1               1              0                          0  \n",
       "738          1    2               1              0                          0  \n",
       "739          1    1               0              0                          0  \n",
       "\n",
       "[740 rows x 12 columns]"
      ]
     },
     "execution_count": 9,
     "metadata": {},
     "output_type": "execute_result"
    }
   ],
   "source": [
    "dados_df"
   ]
  },
  {
   "cell_type": "code",
   "execution_count": 10,
   "id": "e690607d",
   "metadata": {
    "execution": {
     "iopub.execute_input": "2021-10-02T01:03:48.724652Z",
     "iopub.status.busy": "2021-10-02T01:03:48.723776Z",
     "iopub.status.idle": "2021-10-02T01:03:51.736954Z",
     "shell.execute_reply": "2021-10-02T01:03:51.736375Z",
     "shell.execute_reply.started": "2021-09-27T22:12:21.581275Z"
    },
    "executionInfo": {
     "elapsed": 1898,
     "status": "ok",
     "timestamp": 1632342361463,
     "user": {
      "displayName": "junior bueno",
      "photoUrl": "https://lh3.googleusercontent.com/a-/AOh14GhOPf8Uzb8OInVUJ8cenIYMk58mqjaiTlroJoQXmg=s64",
      "userId": "07862107075158255468"
     },
     "user_tz": 180
    },
    "id": "77snqnJ-NhAg",
    "outputId": "1cb91a75-0901-4cff-8a23-c7051b101f3b",
    "papermill": {
     "duration": 3.113702,
     "end_time": "2021-10-02T01:03:51.737106",
     "exception": false,
     "start_time": "2021-10-02T01:03:48.623404",
     "status": "completed"
    },
    "tags": []
   },
   "outputs": [
    {
     "data": {
      "image/png": "[encoded data removed]",
      "text/plain": [
       "<Figure size 1440x1440 with 12 Axes>"
      ]
     },
     "metadata": {
      "needs_background": "light"
     },
     "output_type": "display_data"
    }
   ],
   "source": [
    "dados_df.hist(bins= 30, figsize=(20,20), color = 'b');"
   ]
  },
  {
   "cell_type": "code",
   "execution_count": 11,
   "id": "fd7e5d9e",
   "metadata": {
    "execution": {
     "iopub.execute_input": "2021-10-02T01:03:51.940933Z",
     "iopub.status.busy": "2021-10-02T01:03:51.940140Z",
     "iopub.status.idle": "2021-10-02T01:03:51.942778Z",
     "shell.execute_reply": "2021-10-02T01:03:51.943417Z",
     "shell.execute_reply.started": "2021-09-27T22:12:24.313654Z"
    },
    "executionInfo": {
     "elapsed": 39,
     "status": "ok",
     "timestamp": 1632342361475,
     "user": {
      "displayName": "junior bueno",
      "photoUrl": "https://lh3.googleusercontent.com/a-/AOh14GhOPf8Uzb8OInVUJ8cenIYMk58mqjaiTlroJoQXmg=s64",
      "userId": "07862107075158255468"
     },
     "user_tz": 180
    },
    "id": "GgDRh1IuqsDt",
    "outputId": "587d3adb-5043-4dee-e213-69408dc87f85",
    "papermill": {
     "duration": 0.106069,
     "end_time": "2021-10-02T01:03:51.943587",
     "exception": false,
     "start_time": "2021-10-02T01:03:51.837518",
     "status": "completed"
    },
    "tags": []
   },
   "outputs": [
    {
     "data": {
      "text/plain": [
       "(740, 12)"
      ]
     },
     "execution_count": 11,
     "metadata": {},
     "output_type": "execute_result"
    }
   ],
   "source": [
    "dados_df.shape"
   ]
  },
  {
   "cell_type": "markdown",
   "id": "9034f95f",
   "metadata": {
    "id": "Xj0FdjgYNxwk",
    "papermill": {
     "duration": 0.098248,
     "end_time": "2021-10-02T01:03:52.140989",
     "exception": false,
     "start_time": "2021-10-02T01:03:52.042741",
     "status": "completed"
    },
    "tags": []
   },
   "source": [
    "# Vamos Criar dois dataframes para termos uma visão melhor dos números\n",
    "\n",
    "\n",
    "# Let's Create two dataframes to get a better view of the numbers"
   ]
  },
  {
   "cell_type": "code",
   "execution_count": 12,
   "id": "9c09ff1e",
   "metadata": {
    "execution": {
     "iopub.execute_input": "2021-10-02T01:03:52.346170Z",
     "iopub.status.busy": "2021-10-02T01:03:52.342279Z",
     "iopub.status.idle": "2021-10-02T01:03:52.348346Z",
     "shell.execute_reply": "2021-10-02T01:03:52.348908Z",
     "shell.execute_reply.started": "2021-09-27T22:12:24.321956Z"
    },
    "executionInfo": {
     "elapsed": 33,
     "status": "ok",
     "timestamp": 1632342361475,
     "user": {
      "displayName": "junior bueno",
      "photoUrl": "https://lh3.googleusercontent.com/a-/AOh14GhOPf8Uzb8OInVUJ8cenIYMk58mqjaiTlroJoQXmg=s64",
      "userId": "07862107075158255468"
     },
     "user_tz": 180
    },
    "id": "mtXl6Kz8OAFx",
    "papermill": {
     "duration": 0.109824,
     "end_time": "2021-10-02T01:03:52.349087",
     "exception": false,
     "start_time": "2021-10-02T01:03:52.239263",
     "status": "completed"
    },
    "tags": []
   },
   "outputs": [],
   "source": [
    "missed = dados_df[dados_df['Absenteeism time in hours'] == 1] \n",
    "no_missed = dados_df[dados_df['Absenteeism time in hours'] == 0]"
   ]
  },
  {
   "cell_type": "code",
   "execution_count": 13,
   "id": "7a1696f4",
   "metadata": {
    "execution": {
     "iopub.execute_input": "2021-10-02T01:03:52.603245Z",
     "iopub.status.busy": "2021-10-02T01:03:52.602202Z",
     "iopub.status.idle": "2021-10-02T01:03:52.607193Z",
     "shell.execute_reply": "2021-10-02T01:03:52.606573Z",
     "shell.execute_reply.started": "2021-09-27T22:12:24.332157Z"
    },
    "executionInfo": {
     "elapsed": 33,
     "status": "ok",
     "timestamp": 1632342361476,
     "user": {
      "displayName": "junior bueno",
      "photoUrl": "https://lh3.googleusercontent.com/a-/AOh14GhOPf8Uzb8OInVUJ8cenIYMk58mqjaiTlroJoQXmg=s64",
      "userId": "07862107075158255468"
     },
     "user_tz": 180
    },
    "id": "yKi2UQFBPYsq",
    "outputId": "4185d023-bb5a-466f-cfee-fafd8c22babe",
    "papermill": {
     "duration": 0.109088,
     "end_time": "2021-10-02T01:03:52.607360",
     "exception": false,
     "start_time": "2021-10-02T01:03:52.498272",
     "status": "completed"
    },
    "tags": []
   },
   "outputs": [
    {
     "name": "stdout",
     "output_type": "stream",
     "text": [
      "Total de de funcionários:  740\n",
      "Número de funcionários que faltaram ao trabalho:  696\n",
      "Número de funcionários que não faltaram ao trabalho:  44\n",
      "Porcentagem de funcionários que faltaram ao trabalho:  94.05405405405406\n",
      "Porcentagem de funcionários que não faltaram na empresa:  5.9459459459459465\n"
     ]
    }
   ],
   "source": [
    "###Em português:\n",
    "print('Total de de funcionários: ', len(dados_df))\n",
    "print('Número de funcionários que faltaram ao trabalho: ', len(missed))\n",
    "print('Número de funcionários que não faltaram ao trabalho: ', len(no_missed))\n",
    "print('Porcentagem de funcionários que faltaram ao trabalho: ', (len(missed) / len(dados_df)) * 100)\n",
    "print('Porcentagem de funcionários que não faltaram na empresa: ', (len(no_missed) / len(dados_df)) * 100)"
   ]
  },
  {
   "cell_type": "code",
   "execution_count": 14,
   "id": "623a2097",
   "metadata": {
    "execution": {
     "iopub.execute_input": "2021-10-02T01:03:52.812336Z",
     "iopub.status.busy": "2021-10-02T01:03:52.811641Z",
     "iopub.status.idle": "2021-10-02T01:03:52.815452Z",
     "shell.execute_reply": "2021-10-02T01:03:52.814845Z",
     "shell.execute_reply.started": "2021-09-27T22:12:24.343279Z"
    },
    "papermill": {
     "duration": 0.108691,
     "end_time": "2021-10-02T01:03:52.815649",
     "exception": false,
     "start_time": "2021-10-02T01:03:52.706958",
     "status": "completed"
    },
    "tags": []
   },
   "outputs": [
    {
     "name": "stdout",
     "output_type": "stream",
     "text": [
      "Total employees:  740\n",
      "Number of employees who missed work:  696\n",
      "Number of employees who have not missed work:  44\n",
      "Percentage of employees who missed work:  94.05405405405406\n",
      "Percentage of employees who not missed work:  5.9459459459459465\n"
     ]
    }
   ],
   "source": [
    "###Em English:\n",
    "print('Total employees: ', len(dados_df))\n",
    "print('Number of employees who missed work: ', len(missed))\n",
    "print('Number of employees who have not missed work: ', len(no_missed))\n",
    "print('Percentage of employees who missed work: ', (len(missed) / len(dados_df)) * 100)\n",
    "print('Percentage of employees who not missed work: ', (len(no_missed) / len(dados_df)) * 100)"
   ]
  },
  {
   "cell_type": "code",
   "execution_count": 15,
   "id": "10ae98e0",
   "metadata": {
    "execution": {
     "iopub.execute_input": "2021-10-02T01:03:53.023275Z",
     "iopub.status.busy": "2021-10-02T01:03:53.020787Z",
     "iopub.status.idle": "2021-10-02T01:03:53.070479Z",
     "shell.execute_reply": "2021-10-02T01:03:53.069843Z",
     "shell.execute_reply.started": "2021-09-27T22:12:24.354958Z"
    },
    "executionInfo": {
     "elapsed": 28,
     "status": "ok",
     "timestamp": 1632342361476,
     "user": {
      "displayName": "junior bueno",
      "photoUrl": "https://lh3.googleusercontent.com/a-/AOh14GhOPf8Uzb8OInVUJ8cenIYMk58mqjaiTlroJoQXmg=s64",
      "userId": "07862107075158255468"
     },
     "user_tz": 180
    },
    "id": "RYGOvO49TUxa",
    "outputId": "5015534c-3cd9-4618-af59-bad5d24d277d",
    "papermill": {
     "duration": 0.152465,
     "end_time": "2021-10-02T01:03:53.070621",
     "exception": false,
     "start_time": "2021-10-02T01:03:52.918156",
     "status": "completed"
    },
    "tags": []
   },
   "outputs": [
    {
     "data": {
      "text/html": [
       "<div>\n",
       "<style scoped>\n",
       "    .dataframe tbody tr th:only-of-type {\n",
       "        vertical-align: middle;\n",
       "    }\n",
       "\n",
       "    .dataframe tbody tr th {\n",
       "        vertical-align: top;\n",
       "    }\n",
       "\n",
       "    .dataframe thead th {\n",
       "        text-align: right;\n",
       "    }\n",
       "</style>\n",
       "<table border=\"1\" class=\"dataframe\">\n",
       "  <thead>\n",
       "    <tr style=\"text-align: right;\">\n",
       "      <th></th>\n",
       "      <th>ID</th>\n",
       "      <th>Transportation expense</th>\n",
       "      <th>Distance from Residence to Work</th>\n",
       "      <th>Service time</th>\n",
       "      <th>Age</th>\n",
       "      <th>Work load Average/day</th>\n",
       "      <th>Disciplinary failure</th>\n",
       "      <th>Education</th>\n",
       "      <th>Son</th>\n",
       "      <th>Social drinker</th>\n",
       "      <th>Social smoker</th>\n",
       "      <th>Absenteeism time in hours</th>\n",
       "    </tr>\n",
       "  </thead>\n",
       "  <tbody>\n",
       "    <tr>\n",
       "      <th>count</th>\n",
       "      <td>696.000000</td>\n",
       "      <td>696.000000</td>\n",
       "      <td>696.000000</td>\n",
       "      <td>696.000000</td>\n",
       "      <td>696.000000</td>\n",
       "      <td>696.000000</td>\n",
       "      <td>696.0</td>\n",
       "      <td>696.000000</td>\n",
       "      <td>696.000000</td>\n",
       "      <td>696.000000</td>\n",
       "      <td>696.000000</td>\n",
       "      <td>696.0</td>\n",
       "    </tr>\n",
       "    <tr>\n",
       "      <th>mean</th>\n",
       "      <td>17.992816</td>\n",
       "      <td>219.916667</td>\n",
       "      <td>29.853448</td>\n",
       "      <td>12.553161</td>\n",
       "      <td>36.254310</td>\n",
       "      <td>271.165718</td>\n",
       "      <td>0.0</td>\n",
       "      <td>1.303161</td>\n",
       "      <td>1.000000</td>\n",
       "      <td>0.561782</td>\n",
       "      <td>0.066092</td>\n",
       "      <td>1.0</td>\n",
       "    </tr>\n",
       "    <tr>\n",
       "      <th>std</th>\n",
       "      <td>10.974723</td>\n",
       "      <td>65.803295</td>\n",
       "      <td>14.855615</td>\n",
       "      <td>4.440175</td>\n",
       "      <td>6.380725</td>\n",
       "      <td>39.096003</td>\n",
       "      <td>0.0</td>\n",
       "      <td>0.685967</td>\n",
       "      <td>1.098069</td>\n",
       "      <td>0.496525</td>\n",
       "      <td>0.248621</td>\n",
       "      <td>0.0</td>\n",
       "    </tr>\n",
       "    <tr>\n",
       "      <th>min</th>\n",
       "      <td>1.000000</td>\n",
       "      <td>118.000000</td>\n",
       "      <td>5.000000</td>\n",
       "      <td>1.000000</td>\n",
       "      <td>27.000000</td>\n",
       "      <td>205.917000</td>\n",
       "      <td>0.0</td>\n",
       "      <td>1.000000</td>\n",
       "      <td>0.000000</td>\n",
       "      <td>0.000000</td>\n",
       "      <td>0.000000</td>\n",
       "      <td>1.0</td>\n",
       "    </tr>\n",
       "    <tr>\n",
       "      <th>25%</th>\n",
       "      <td>10.000000</td>\n",
       "      <td>179.000000</td>\n",
       "      <td>16.000000</td>\n",
       "      <td>9.000000</td>\n",
       "      <td>31.000000</td>\n",
       "      <td>243.659250</td>\n",
       "      <td>0.0</td>\n",
       "      <td>1.000000</td>\n",
       "      <td>0.000000</td>\n",
       "      <td>0.000000</td>\n",
       "      <td>0.000000</td>\n",
       "      <td>1.0</td>\n",
       "    </tr>\n",
       "    <tr>\n",
       "      <th>50%</th>\n",
       "      <td>18.000000</td>\n",
       "      <td>225.000000</td>\n",
       "      <td>26.000000</td>\n",
       "      <td>13.000000</td>\n",
       "      <td>37.000000</td>\n",
       "      <td>264.249000</td>\n",
       "      <td>0.0</td>\n",
       "      <td>1.000000</td>\n",
       "      <td>1.000000</td>\n",
       "      <td>1.000000</td>\n",
       "      <td>0.000000</td>\n",
       "      <td>1.0</td>\n",
       "    </tr>\n",
       "    <tr>\n",
       "      <th>75%</th>\n",
       "      <td>28.000000</td>\n",
       "      <td>260.000000</td>\n",
       "      <td>50.000000</td>\n",
       "      <td>16.000000</td>\n",
       "      <td>40.000000</td>\n",
       "      <td>294.217000</td>\n",
       "      <td>0.0</td>\n",
       "      <td>1.000000</td>\n",
       "      <td>2.000000</td>\n",
       "      <td>1.000000</td>\n",
       "      <td>0.000000</td>\n",
       "      <td>1.0</td>\n",
       "    </tr>\n",
       "    <tr>\n",
       "      <th>max</th>\n",
       "      <td>36.000000</td>\n",
       "      <td>388.000000</td>\n",
       "      <td>52.000000</td>\n",
       "      <td>29.000000</td>\n",
       "      <td>58.000000</td>\n",
       "      <td>378.884000</td>\n",
       "      <td>0.0</td>\n",
       "      <td>4.000000</td>\n",
       "      <td>4.000000</td>\n",
       "      <td>1.000000</td>\n",
       "      <td>1.000000</td>\n",
       "      <td>1.0</td>\n",
       "    </tr>\n",
       "  </tbody>\n",
       "</table>\n",
       "</div>"
      ],
      "text/plain": [
       "               ID  Transportation expense  Distance from Residence to Work  \\\n",
       "count  696.000000              696.000000                       696.000000   \n",
       "mean    17.992816              219.916667                        29.853448   \n",
       "std     10.974723               65.803295                        14.855615   \n",
       "min      1.000000              118.000000                         5.000000   \n",
       "25%     10.000000              179.000000                        16.000000   \n",
       "50%     18.000000              225.000000                        26.000000   \n",
       "75%     28.000000              260.000000                        50.000000   \n",
       "max     36.000000              388.000000                        52.000000   \n",
       "\n",
       "       Service time         Age  Work load Average/day   Disciplinary failure  \\\n",
       "count    696.000000  696.000000              696.000000                 696.0   \n",
       "mean      12.553161   36.254310              271.165718                   0.0   \n",
       "std        4.440175    6.380725               39.096003                   0.0   \n",
       "min        1.000000   27.000000              205.917000                   0.0   \n",
       "25%        9.000000   31.000000              243.659250                   0.0   \n",
       "50%       13.000000   37.000000              264.249000                   0.0   \n",
       "75%       16.000000   40.000000              294.217000                   0.0   \n",
       "max       29.000000   58.000000              378.884000                   0.0   \n",
       "\n",
       "        Education         Son  Social drinker  Social smoker  \\\n",
       "count  696.000000  696.000000      696.000000     696.000000   \n",
       "mean     1.303161    1.000000        0.561782       0.066092   \n",
       "std      0.685967    1.098069        0.496525       0.248621   \n",
       "min      1.000000    0.000000        0.000000       0.000000   \n",
       "25%      1.000000    0.000000        0.000000       0.000000   \n",
       "50%      1.000000    1.000000        1.000000       0.000000   \n",
       "75%      1.000000    2.000000        1.000000       0.000000   \n",
       "max      4.000000    4.000000        1.000000       1.000000   \n",
       "\n",
       "       Absenteeism time in hours  \n",
       "count                      696.0  \n",
       "mean                         1.0  \n",
       "std                          0.0  \n",
       "min                          1.0  \n",
       "25%                          1.0  \n",
       "50%                          1.0  \n",
       "75%                          1.0  \n",
       "max                          1.0  "
      ]
     },
     "execution_count": 15,
     "metadata": {},
     "output_type": "execute_result"
    }
   ],
   "source": [
    "missed.describe()"
   ]
  },
  {
   "cell_type": "code",
   "execution_count": 16,
   "id": "2e663f75",
   "metadata": {
    "execution": {
     "iopub.execute_input": "2021-10-02T01:03:53.283021Z",
     "iopub.status.busy": "2021-10-02T01:03:53.282301Z",
     "iopub.status.idle": "2021-10-02T01:03:53.320263Z",
     "shell.execute_reply": "2021-10-02T01:03:53.319597Z",
     "shell.execute_reply.started": "2021-09-27T22:12:24.404033Z"
    },
    "executionInfo": {
     "elapsed": 27,
     "status": "ok",
     "timestamp": 1632342361476,
     "user": {
      "displayName": "junior bueno",
      "photoUrl": "https://lh3.googleusercontent.com/a-/AOh14GhOPf8Uzb8OInVUJ8cenIYMk58mqjaiTlroJoQXmg=s64",
      "userId": "07862107075158255468"
     },
     "user_tz": 180
    },
    "id": "wO5yyyowUfVT",
    "outputId": "239856de-435c-4b71-c03b-5053cdb6256e",
    "papermill": {
     "duration": 0.145493,
     "end_time": "2021-10-02T01:03:53.320408",
     "exception": false,
     "start_time": "2021-10-02T01:03:53.174915",
     "status": "completed"
    },
    "tags": []
   },
   "outputs": [
    {
     "data": {
      "text/html": [
       "<div>\n",
       "<style scoped>\n",
       "    .dataframe tbody tr th:only-of-type {\n",
       "        vertical-align: middle;\n",
       "    }\n",
       "\n",
       "    .dataframe tbody tr th {\n",
       "        vertical-align: top;\n",
       "    }\n",
       "\n",
       "    .dataframe thead th {\n",
       "        text-align: right;\n",
       "    }\n",
       "</style>\n",
       "<table border=\"1\" class=\"dataframe\">\n",
       "  <thead>\n",
       "    <tr style=\"text-align: right;\">\n",
       "      <th></th>\n",
       "      <th>ID</th>\n",
       "      <th>Transportation expense</th>\n",
       "      <th>Distance from Residence to Work</th>\n",
       "      <th>Service time</th>\n",
       "      <th>Age</th>\n",
       "      <th>Work load Average/day</th>\n",
       "      <th>Disciplinary failure</th>\n",
       "      <th>Education</th>\n",
       "      <th>Son</th>\n",
       "      <th>Social drinker</th>\n",
       "      <th>Social smoker</th>\n",
       "      <th>Absenteeism time in hours</th>\n",
       "    </tr>\n",
       "  </thead>\n",
       "  <tbody>\n",
       "    <tr>\n",
       "      <th>count</th>\n",
       "      <td>44.000000</td>\n",
       "      <td>44.000000</td>\n",
       "      <td>44.000000</td>\n",
       "      <td>44.000000</td>\n",
       "      <td>44.000000</td>\n",
       "      <td>44.000000</td>\n",
       "      <td>44.000000</td>\n",
       "      <td>44.000000</td>\n",
       "      <td>44.000000</td>\n",
       "      <td>44.000000</td>\n",
       "      <td>44.000000</td>\n",
       "      <td>44.0</td>\n",
       "    </tr>\n",
       "    <tr>\n",
       "      <th>mean</th>\n",
       "      <td>18.409091</td>\n",
       "      <td>243.681818</td>\n",
       "      <td>26.113636</td>\n",
       "      <td>12.568182</td>\n",
       "      <td>39.545455</td>\n",
       "      <td>276.623500</td>\n",
       "      <td>0.909091</td>\n",
       "      <td>1.113636</td>\n",
       "      <td>1.318182</td>\n",
       "      <td>0.659091</td>\n",
       "      <td>0.181818</td>\n",
       "      <td>0.0</td>\n",
       "    </tr>\n",
       "    <tr>\n",
       "      <th>std</th>\n",
       "      <td>11.860268</td>\n",
       "      <td>80.675570</td>\n",
       "      <td>14.239179</td>\n",
       "      <td>3.433066</td>\n",
       "      <td>7.273573</td>\n",
       "      <td>38.529052</td>\n",
       "      <td>0.290803</td>\n",
       "      <td>0.386752</td>\n",
       "      <td>1.073415</td>\n",
       "      <td>0.479495</td>\n",
       "      <td>0.390154</td>\n",
       "      <td>0.0</td>\n",
       "    </tr>\n",
       "    <tr>\n",
       "      <th>min</th>\n",
       "      <td>1.000000</td>\n",
       "      <td>118.000000</td>\n",
       "      <td>5.000000</td>\n",
       "      <td>4.000000</td>\n",
       "      <td>28.000000</td>\n",
       "      <td>237.656000</td>\n",
       "      <td>0.000000</td>\n",
       "      <td>1.000000</td>\n",
       "      <td>0.000000</td>\n",
       "      <td>0.000000</td>\n",
       "      <td>0.000000</td>\n",
       "      <td>0.0</td>\n",
       "    </tr>\n",
       "    <tr>\n",
       "      <th>25%</th>\n",
       "      <td>7.000000</td>\n",
       "      <td>213.500000</td>\n",
       "      <td>13.750000</td>\n",
       "      <td>11.000000</td>\n",
       "      <td>35.250000</td>\n",
       "      <td>244.387000</td>\n",
       "      <td>1.000000</td>\n",
       "      <td>1.000000</td>\n",
       "      <td>1.000000</td>\n",
       "      <td>0.000000</td>\n",
       "      <td>0.000000</td>\n",
       "      <td>0.0</td>\n",
       "    </tr>\n",
       "    <tr>\n",
       "      <th>50%</th>\n",
       "      <td>18.500000</td>\n",
       "      <td>235.000000</td>\n",
       "      <td>22.500000</td>\n",
       "      <td>13.000000</td>\n",
       "      <td>39.000000</td>\n",
       "      <td>268.519000</td>\n",
       "      <td>1.000000</td>\n",
       "      <td>1.000000</td>\n",
       "      <td>1.000000</td>\n",
       "      <td>1.000000</td>\n",
       "      <td>0.000000</td>\n",
       "      <td>0.0</td>\n",
       "    </tr>\n",
       "    <tr>\n",
       "      <th>75%</th>\n",
       "      <td>29.250000</td>\n",
       "      <td>289.500000</td>\n",
       "      <td>35.250000</td>\n",
       "      <td>14.000000</td>\n",
       "      <td>44.000000</td>\n",
       "      <td>284.236500</td>\n",
       "      <td>1.000000</td>\n",
       "      <td>1.000000</td>\n",
       "      <td>2.000000</td>\n",
       "      <td>1.000000</td>\n",
       "      <td>0.000000</td>\n",
       "      <td>0.0</td>\n",
       "    </tr>\n",
       "    <tr>\n",
       "      <th>max</th>\n",
       "      <td>36.000000</td>\n",
       "      <td>388.000000</td>\n",
       "      <td>51.000000</td>\n",
       "      <td>18.000000</td>\n",
       "      <td>53.000000</td>\n",
       "      <td>378.884000</td>\n",
       "      <td>1.000000</td>\n",
       "      <td>3.000000</td>\n",
       "      <td>4.000000</td>\n",
       "      <td>1.000000</td>\n",
       "      <td>1.000000</td>\n",
       "      <td>0.0</td>\n",
       "    </tr>\n",
       "  </tbody>\n",
       "</table>\n",
       "</div>"
      ],
      "text/plain": [
       "              ID  Transportation expense  Distance from Residence to Work  \\\n",
       "count  44.000000               44.000000                        44.000000   \n",
       "mean   18.409091              243.681818                        26.113636   \n",
       "std    11.860268               80.675570                        14.239179   \n",
       "min     1.000000              118.000000                         5.000000   \n",
       "25%     7.000000              213.500000                        13.750000   \n",
       "50%    18.500000              235.000000                        22.500000   \n",
       "75%    29.250000              289.500000                        35.250000   \n",
       "max    36.000000              388.000000                        51.000000   \n",
       "\n",
       "       Service time        Age  Work load Average/day   Disciplinary failure  \\\n",
       "count     44.000000  44.000000               44.000000             44.000000   \n",
       "mean      12.568182  39.545455              276.623500              0.909091   \n",
       "std        3.433066   7.273573               38.529052              0.290803   \n",
       "min        4.000000  28.000000              237.656000              0.000000   \n",
       "25%       11.000000  35.250000              244.387000              1.000000   \n",
       "50%       13.000000  39.000000              268.519000              1.000000   \n",
       "75%       14.000000  44.000000              284.236500              1.000000   \n",
       "max       18.000000  53.000000              378.884000              1.000000   \n",
       "\n",
       "       Education        Son  Social drinker  Social smoker  \\\n",
       "count  44.000000  44.000000       44.000000      44.000000   \n",
       "mean    1.113636   1.318182        0.659091       0.181818   \n",
       "std     0.386752   1.073415        0.479495       0.390154   \n",
       "min     1.000000   0.000000        0.000000       0.000000   \n",
       "25%     1.000000   1.000000        0.000000       0.000000   \n",
       "50%     1.000000   1.000000        1.000000       0.000000   \n",
       "75%     1.000000   2.000000        1.000000       0.000000   \n",
       "max     3.000000   4.000000        1.000000       1.000000   \n",
       "\n",
       "       Absenteeism time in hours  \n",
       "count                       44.0  \n",
       "mean                         0.0  \n",
       "std                          0.0  \n",
       "min                          0.0  \n",
       "25%                          0.0  \n",
       "50%                          0.0  \n",
       "75%                          0.0  \n",
       "max                          0.0  "
      ]
     },
     "execution_count": 16,
     "metadata": {},
     "output_type": "execute_result"
    }
   ],
   "source": [
    "no_missed.describe()"
   ]
  },
  {
   "cell_type": "code",
   "execution_count": 17,
   "id": "103c7f31",
   "metadata": {
    "execution": {
     "iopub.execute_input": "2021-10-02T01:03:53.526600Z",
     "iopub.status.busy": "2021-10-02T01:03:53.525946Z",
     "iopub.status.idle": "2021-10-02T01:03:54.826544Z",
     "shell.execute_reply": "2021-10-02T01:03:54.827088Z",
     "shell.execute_reply.started": "2021-09-27T22:12:24.452197Z"
    },
    "executionInfo": {
     "elapsed": 1454,
     "status": "ok",
     "timestamp": 1632342362904,
     "user": {
      "displayName": "junior bueno",
      "photoUrl": "https://lh3.googleusercontent.com/a-/AOh14GhOPf8Uzb8OInVUJ8cenIYMk58mqjaiTlroJoQXmg=s64",
      "userId": "07862107075158255468"
     },
     "user_tz": 180
    },
    "id": "rsp3KU5nVkFz",
    "outputId": "e3eba124-08ae-4795-a1f0-308de85fe3e6",
    "papermill": {
     "duration": 1.404662,
     "end_time": "2021-10-02T01:03:54.827270",
     "exception": false,
     "start_time": "2021-10-02T01:03:53.422608",
     "status": "completed"
    },
    "tags": []
   },
   "outputs": [
    {
     "data": {
      "image/png": "[encoded data removed]",
      "text/plain": [
       "<Figure size 1440x1440 with 2 Axes>"
      ]
     },
     "metadata": {
      "needs_background": "light"
     },
     "output_type": "display_data"
    }
   ],
   "source": [
    "correlations = dados_df.corr()\n",
    "f, ax = plt.subplots(figsize = (20,20))\n",
    "sns.heatmap(correlations, annot=True)\n",
    "correlations.round(2);"
   ]
  },
  {
   "cell_type": "markdown",
   "id": "78a72f18",
   "metadata": {
    "id": "C5GEi7y2XfSS",
    "papermill": {
     "duration": 0.105672,
     "end_time": "2021-10-02T01:03:55.039470",
     "exception": false,
     "start_time": "2021-10-02T01:03:54.933798",
     "status": "completed"
    },
    "tags": []
   },
   "source": [
    "Geralmente imaginamos que as pessoas que possuem mais faltas diciplinares são as que mais se ausentaram no trabalho, o que vemos é ao contrário;\n",
    "\n",
    "\n",
    "We generally imagine that the people who have the most disciplinary absences are the ones who are absent from work the most, what we see is the opposite;"
   ]
  },
  {
   "cell_type": "code",
   "execution_count": 18,
   "id": "afc70927",
   "metadata": {
    "execution": {
     "iopub.execute_input": "2021-10-02T01:03:55.275964Z",
     "iopub.status.busy": "2021-10-02T01:03:55.256029Z",
     "iopub.status.idle": "2021-10-02T01:03:55.469676Z",
     "shell.execute_reply": "2021-10-02T01:03:55.470292Z",
     "shell.execute_reply.started": "2021-09-27T22:12:25.719016Z"
    },
    "executionInfo": {
     "elapsed": 854,
     "status": "ok",
     "timestamp": 1632342363752,
     "user": {
      "displayName": "junior bueno",
      "photoUrl": "https://lh3.googleusercontent.com/a-/AOh14GhOPf8Uzb8OInVUJ8cenIYMk58mqjaiTlroJoQXmg=s64",
      "userId": "07862107075158255468"
     },
     "user_tz": 180
    },
    "id": "1uMWAG9HXznU",
    "outputId": "9e81f484-a8b1-4525-ae6c-05b74720216c",
    "papermill": {
     "duration": 0.326546,
     "end_time": "2021-10-02T01:03:55.470476",
     "exception": false,
     "start_time": "2021-10-02T01:03:55.143930",
     "status": "completed"
    },
    "tags": []
   },
   "outputs": [
    {
     "data": {
      "image/png": "[encoded data removed]",
      "text/plain": [
       "<Figure size 1440x720 with 1 Axes>"
      ]
     },
     "metadata": {
      "needs_background": "light"
     },
     "output_type": "display_data"
    }
   ],
   "source": [
    "plt.figure(figsize=[20,10])\n",
    "sns.countplot(x = 'Absenteeism time in hours', data=dados_df);"
   ]
  },
  {
   "cell_type": "code",
   "execution_count": 19,
   "id": "288c37cd",
   "metadata": {
    "execution": {
     "iopub.execute_input": "2021-10-02T01:03:55.689815Z",
     "iopub.status.busy": "2021-10-02T01:03:55.685668Z",
     "iopub.status.idle": "2021-10-02T01:03:56.197763Z",
     "shell.execute_reply": "2021-10-02T01:03:56.197123Z",
     "shell.execute_reply.started": "2021-09-27T22:12:25.931827Z"
    },
    "executionInfo": {
     "elapsed": 15,
     "status": "ok",
     "timestamp": 1632342363753,
     "user": {
      "displayName": "junior bueno",
      "photoUrl": "https://lh3.googleusercontent.com/a-/AOh14GhOPf8Uzb8OInVUJ8cenIYMk58mqjaiTlroJoQXmg=s64",
      "userId": "07862107075158255468"
     },
     "user_tz": 180
    },
    "id": "KfGX9kKBaApM",
    "outputId": "fbf4bc82-0142-4cd3-bf67-b1d7d6faaa9e",
    "papermill": {
     "duration": 0.620974,
     "end_time": "2021-10-02T01:03:56.197915",
     "exception": false,
     "start_time": "2021-10-02T01:03:55.576941",
     "status": "completed"
    },
    "tags": []
   },
   "outputs": [
    {
     "data": {
      "image/png": "[encoded data removed]",
      "text/plain": [
       "<Figure size 1440x720 with 1 Axes>"
      ]
     },
     "metadata": {
      "needs_background": "light"
     },
     "output_type": "display_data"
    }
   ],
   "source": [
    "plt.figure(figsize=[20,10])\n",
    "sns.countplot(x = 'Age', hue= 'Absenteeism time in hours', data=dados_df);"
   ]
  },
  {
   "cell_type": "code",
   "execution_count": 20,
   "id": "91fd9fe8",
   "metadata": {
    "execution": {
     "iopub.execute_input": "2021-10-02T01:03:56.442385Z",
     "iopub.status.busy": "2021-10-02T01:03:56.441311Z",
     "iopub.status.idle": "2021-10-02T01:03:58.225061Z",
     "shell.execute_reply": "2021-10-02T01:03:58.224505Z",
     "shell.execute_reply.started": "2021-09-27T22:12:26.434537Z"
    },
    "executionInfo": {
     "elapsed": 1303,
     "status": "ok",
     "timestamp": 1632342365042,
     "user": {
      "displayName": "junior bueno",
      "photoUrl": "https://lh3.googleusercontent.com/a-/AOh14GhOPf8Uzb8OInVUJ8cenIYMk58mqjaiTlroJoQXmg=s64",
      "userId": "07862107075158255468"
     },
     "user_tz": 180
    },
    "id": "1-J4mGDZv53u",
    "outputId": "7d135de7-e4cc-4ad7-ff79-2d88021aae81",
    "papermill": {
     "duration": 1.921272,
     "end_time": "2021-10-02T01:03:58.225205",
     "exception": false,
     "start_time": "2021-10-02T01:03:56.303933",
     "status": "completed"
    },
    "tags": []
   },
   "outputs": [
    {
     "data": {
      "image/png": "[encoded data removed]",
      "text/plain": [
       "<Figure size 1440x1440 with 4 Axes>"
      ]
     },
     "metadata": {
      "needs_background": "light"
     },
     "output_type": "display_data"
    }
   ],
   "source": [
    "plt.figure(figsize=[20,20])\n",
    "plt.subplot(411)  \n",
    "sns.countplot(x = 'Son', hue = 'Absenteeism time in hours', data = dados_df)\n",
    "plt.subplot(412)  \n",
    "sns.countplot(x = 'Transportation expense', hue = 'Absenteeism time in hours', data = dados_df)\n",
    "plt.subplot(413)  \n",
    "sns.countplot(x = 'Distance from Residence to Work', hue = 'Absenteeism time in hours', data = dados_df)\n",
    "plt.subplot(414)  \n",
    "sns.countplot(x = 'Education', hue = 'Absenteeism time in hours', data = dados_df)\n",
    "plt.subplot(414)  \n",
    "sns.countplot(x = 'Disciplinary failure', hue = 'Absenteeism time in hours', data = dados_df);"
   ]
  },
  {
   "cell_type": "code",
   "execution_count": 21,
   "id": "65668511",
   "metadata": {
    "execution": {
     "iopub.execute_input": "2021-10-02T01:03:58.489298Z",
     "iopub.status.busy": "2021-10-02T01:03:58.464533Z",
     "iopub.status.idle": "2021-10-02T01:03:58.764652Z",
     "shell.execute_reply": "2021-10-02T01:03:58.765187Z",
     "shell.execute_reply.started": "2021-09-27T22:12:28.199569Z"
    },
    "executionInfo": {
     "elapsed": 1633,
     "status": "ok",
     "timestamp": 1632342366668,
     "user": {
      "displayName": "junior bueno",
      "photoUrl": "https://lh3.googleusercontent.com/a-/AOh14GhOPf8Uzb8OInVUJ8cenIYMk58mqjaiTlroJoQXmg=s64",
      "userId": "07862107075158255468"
     },
     "user_tz": 180
    },
    "id": "aP3F7BtEz8Hf",
    "outputId": "73921d75-cd9b-4698-ba00-0eb52a4498e0",
    "papermill": {
     "duration": 0.432936,
     "end_time": "2021-10-02T01:03:58.765436",
     "exception": false,
     "start_time": "2021-10-02T01:03:58.332500",
     "status": "completed"
    },
    "tags": []
   },
   "outputs": [
    {
     "data": {
      "image/png": "[encoded data removed]",
      "text/plain": [
       "<Figure size 1800x720 with 1 Axes>"
      ]
     },
     "metadata": {
      "needs_background": "light"
     },
     "output_type": "display_data"
    }
   ],
   "source": [
    "plt.figure(figsize=[25,10])\n",
    "sns.kdeplot(no_missed['Distance from Residence to Work'], label = 'Funcionários que não faltam', shade = True, color = 'b')\n",
    "sns.kdeplot(missed['Distance from Residence to Work'], label = 'Funcionários que faltam', shade = True, color = 'r');"
   ]
  },
  {
   "cell_type": "markdown",
   "id": "2a4641d0",
   "metadata": {
    "id": "pQnkGH7M1sDG",
    "papermill": {
     "duration": 0.11382,
     "end_time": "2021-10-02T01:03:58.992192",
     "exception": false,
     "start_time": "2021-10-02T01:03:58.878372",
     "status": "completed"
    },
    "tags": []
   },
   "source": [
    "# **Vamos fazer uma anáslise mais detalhada do percentual de ausência e seus números**\n",
    "\n",
    "# **Let's do a more detailed analysis of the percentage of absence and their numbers**"
   ]
  },
  {
   "cell_type": "code",
   "execution_count": 22,
   "id": "1a0b2e7a",
   "metadata": {
    "execution": {
     "iopub.execute_input": "2021-10-02T01:03:59.218140Z",
     "iopub.status.busy": "2021-10-02T01:03:59.217442Z",
     "iopub.status.idle": "2021-10-02T01:03:59.226908Z",
     "shell.execute_reply": "2021-10-02T01:03:59.227402Z",
     "shell.execute_reply.started": "2021-09-27T22:12:28.51279Z"
    },
    "executionInfo": {
     "elapsed": 144,
     "status": "ok",
     "timestamp": 1632342366668,
     "user": {
      "displayName": "junior bueno",
      "photoUrl": "https://lh3.googleusercontent.com/a-/AOh14GhOPf8Uzb8OInVUJ8cenIYMk58mqjaiTlroJoQXmg=s64",
      "userId": "07862107075158255468"
     },
     "user_tz": 180
    },
    "id": "s5E-rYgf1qyJ",
    "papermill": {
     "duration": 0.123521,
     "end_time": "2021-10-02T01:03:59.227590",
     "exception": false,
     "start_time": "2021-10-02T01:03:59.104069",
     "status": "completed"
    },
    "tags": []
   },
   "outputs": [],
   "source": [
    "dados_analise = pd.read_csv('../input/absenteeism-at-company/dados.csv')"
   ]
  },
  {
   "cell_type": "code",
   "execution_count": 23,
   "id": "b0ac6ac6",
   "metadata": {
    "execution": {
     "iopub.execute_input": "2021-10-02T01:03:59.453922Z",
     "iopub.status.busy": "2021-10-02T01:03:59.452910Z",
     "iopub.status.idle": "2021-10-02T01:03:59.455851Z",
     "shell.execute_reply": "2021-10-02T01:03:59.455165Z",
     "shell.execute_reply.started": "2021-09-27T22:12:28.52613Z"
    },
    "executionInfo": {
     "elapsed": 144,
     "status": "ok",
     "timestamp": 1632342366669,
     "user": {
      "displayName": "junior bueno",
      "photoUrl": "https://lh3.googleusercontent.com/a-/AOh14GhOPf8Uzb8OInVUJ8cenIYMk58mqjaiTlroJoQXmg=s64",
      "userId": "07862107075158255468"
     },
     "user_tz": 180
    },
    "id": "_xcuPtqC7YwL",
    "papermill": {
     "duration": 0.118715,
     "end_time": "2021-10-02T01:03:59.456003",
     "exception": false,
     "start_time": "2021-10-02T01:03:59.337288",
     "status": "completed"
    },
    "tags": []
   },
   "outputs": [],
   "source": [
    "dados_analise = dados_analise.drop(['Reason for absence', 'Month of absence', 'Day of the week', 'Seasons', 'Hit target', 'Pet', 'Weight', 'Height', 'Body mass index'], axis = 1) "
   ]
  },
  {
   "cell_type": "code",
   "execution_count": 24,
   "id": "15510ba0",
   "metadata": {
    "execution": {
     "iopub.execute_input": "2021-10-02T01:03:59.681663Z",
     "iopub.status.busy": "2021-10-02T01:03:59.680999Z",
     "iopub.status.idle": "2021-10-02T01:03:59.698811Z",
     "shell.execute_reply": "2021-10-02T01:03:59.698219Z",
     "shell.execute_reply.started": "2021-09-27T22:12:28.535749Z"
    },
    "executionInfo": {
     "elapsed": 144,
     "status": "ok",
     "timestamp": 1632342366669,
     "user": {
      "displayName": "junior bueno",
      "photoUrl": "https://lh3.googleusercontent.com/a-/AOh14GhOPf8Uzb8OInVUJ8cenIYMk58mqjaiTlroJoQXmg=s64",
      "userId": "07862107075158255468"
     },
     "user_tz": 180
    },
    "id": "Zazb1CoJ8XyL",
    "outputId": "c227ce6c-9807-4c44-fe81-6f9752ae3013",
    "papermill": {
     "duration": 0.132881,
     "end_time": "2021-10-02T01:03:59.698956",
     "exception": false,
     "start_time": "2021-10-02T01:03:59.566075",
     "status": "completed"
    },
    "tags": []
   },
   "outputs": [
    {
     "data": {
      "text/html": [
       "<div>\n",
       "<style scoped>\n",
       "    .dataframe tbody tr th:only-of-type {\n",
       "        vertical-align: middle;\n",
       "    }\n",
       "\n",
       "    .dataframe tbody tr th {\n",
       "        vertical-align: top;\n",
       "    }\n",
       "\n",
       "    .dataframe thead th {\n",
       "        text-align: right;\n",
       "    }\n",
       "</style>\n",
       "<table border=\"1\" class=\"dataframe\">\n",
       "  <thead>\n",
       "    <tr style=\"text-align: right;\">\n",
       "      <th></th>\n",
       "      <th>ID</th>\n",
       "      <th>Transportation expense</th>\n",
       "      <th>Distance from Residence to Work</th>\n",
       "      <th>Service time</th>\n",
       "      <th>Age</th>\n",
       "      <th>Work load Average/day</th>\n",
       "      <th>Disciplinary failure</th>\n",
       "      <th>Education</th>\n",
       "      <th>Son</th>\n",
       "      <th>Social drinker</th>\n",
       "      <th>Social smoker</th>\n",
       "      <th>Absenteeism time in hours</th>\n",
       "    </tr>\n",
       "  </thead>\n",
       "  <tbody>\n",
       "    <tr>\n",
       "      <th>0</th>\n",
       "      <td>11</td>\n",
       "      <td>289</td>\n",
       "      <td>36</td>\n",
       "      <td>13</td>\n",
       "      <td>33</td>\n",
       "      <td>239.554</td>\n",
       "      <td>0</td>\n",
       "      <td>1</td>\n",
       "      <td>2</td>\n",
       "      <td>1</td>\n",
       "      <td>0</td>\n",
       "      <td>4</td>\n",
       "    </tr>\n",
       "    <tr>\n",
       "      <th>1</th>\n",
       "      <td>36</td>\n",
       "      <td>118</td>\n",
       "      <td>13</td>\n",
       "      <td>18</td>\n",
       "      <td>50</td>\n",
       "      <td>239.554</td>\n",
       "      <td>1</td>\n",
       "      <td>1</td>\n",
       "      <td>1</td>\n",
       "      <td>1</td>\n",
       "      <td>0</td>\n",
       "      <td>0</td>\n",
       "    </tr>\n",
       "    <tr>\n",
       "      <th>2</th>\n",
       "      <td>3</td>\n",
       "      <td>179</td>\n",
       "      <td>51</td>\n",
       "      <td>18</td>\n",
       "      <td>38</td>\n",
       "      <td>239.554</td>\n",
       "      <td>0</td>\n",
       "      <td>1</td>\n",
       "      <td>0</td>\n",
       "      <td>1</td>\n",
       "      <td>0</td>\n",
       "      <td>2</td>\n",
       "    </tr>\n",
       "    <tr>\n",
       "      <th>3</th>\n",
       "      <td>7</td>\n",
       "      <td>279</td>\n",
       "      <td>5</td>\n",
       "      <td>14</td>\n",
       "      <td>39</td>\n",
       "      <td>239.554</td>\n",
       "      <td>0</td>\n",
       "      <td>1</td>\n",
       "      <td>2</td>\n",
       "      <td>1</td>\n",
       "      <td>1</td>\n",
       "      <td>4</td>\n",
       "    </tr>\n",
       "    <tr>\n",
       "      <th>4</th>\n",
       "      <td>11</td>\n",
       "      <td>289</td>\n",
       "      <td>36</td>\n",
       "      <td>13</td>\n",
       "      <td>33</td>\n",
       "      <td>239.554</td>\n",
       "      <td>0</td>\n",
       "      <td>1</td>\n",
       "      <td>2</td>\n",
       "      <td>1</td>\n",
       "      <td>0</td>\n",
       "      <td>2</td>\n",
       "    </tr>\n",
       "    <tr>\n",
       "      <th>...</th>\n",
       "      <td>...</td>\n",
       "      <td>...</td>\n",
       "      <td>...</td>\n",
       "      <td>...</td>\n",
       "      <td>...</td>\n",
       "      <td>...</td>\n",
       "      <td>...</td>\n",
       "      <td>...</td>\n",
       "      <td>...</td>\n",
       "      <td>...</td>\n",
       "      <td>...</td>\n",
       "      <td>...</td>\n",
       "    </tr>\n",
       "    <tr>\n",
       "      <th>735</th>\n",
       "      <td>11</td>\n",
       "      <td>289</td>\n",
       "      <td>36</td>\n",
       "      <td>13</td>\n",
       "      <td>33</td>\n",
       "      <td>264.604</td>\n",
       "      <td>0</td>\n",
       "      <td>1</td>\n",
       "      <td>2</td>\n",
       "      <td>1</td>\n",
       "      <td>0</td>\n",
       "      <td>8</td>\n",
       "    </tr>\n",
       "    <tr>\n",
       "      <th>736</th>\n",
       "      <td>1</td>\n",
       "      <td>235</td>\n",
       "      <td>11</td>\n",
       "      <td>14</td>\n",
       "      <td>37</td>\n",
       "      <td>264.604</td>\n",
       "      <td>0</td>\n",
       "      <td>3</td>\n",
       "      <td>1</td>\n",
       "      <td>0</td>\n",
       "      <td>0</td>\n",
       "      <td>4</td>\n",
       "    </tr>\n",
       "    <tr>\n",
       "      <th>737</th>\n",
       "      <td>4</td>\n",
       "      <td>118</td>\n",
       "      <td>14</td>\n",
       "      <td>13</td>\n",
       "      <td>40</td>\n",
       "      <td>271.219</td>\n",
       "      <td>0</td>\n",
       "      <td>1</td>\n",
       "      <td>1</td>\n",
       "      <td>1</td>\n",
       "      <td>0</td>\n",
       "      <td>0</td>\n",
       "    </tr>\n",
       "    <tr>\n",
       "      <th>738</th>\n",
       "      <td>8</td>\n",
       "      <td>231</td>\n",
       "      <td>35</td>\n",
       "      <td>14</td>\n",
       "      <td>39</td>\n",
       "      <td>271.219</td>\n",
       "      <td>0</td>\n",
       "      <td>1</td>\n",
       "      <td>2</td>\n",
       "      <td>1</td>\n",
       "      <td>0</td>\n",
       "      <td>0</td>\n",
       "    </tr>\n",
       "    <tr>\n",
       "      <th>739</th>\n",
       "      <td>35</td>\n",
       "      <td>179</td>\n",
       "      <td>45</td>\n",
       "      <td>14</td>\n",
       "      <td>53</td>\n",
       "      <td>271.219</td>\n",
       "      <td>0</td>\n",
       "      <td>1</td>\n",
       "      <td>1</td>\n",
       "      <td>0</td>\n",
       "      <td>0</td>\n",
       "      <td>0</td>\n",
       "    </tr>\n",
       "  </tbody>\n",
       "</table>\n",
       "<p>740 rows × 12 columns</p>\n",
       "</div>"
      ],
      "text/plain": [
       "     ID  Transportation expense  Distance from Residence to Work  \\\n",
       "0    11                     289                               36   \n",
       "1    36                     118                               13   \n",
       "2     3                     179                               51   \n",
       "3     7                     279                                5   \n",
       "4    11                     289                               36   \n",
       "..   ..                     ...                              ...   \n",
       "735  11                     289                               36   \n",
       "736   1                     235                               11   \n",
       "737   4                     118                               14   \n",
       "738   8                     231                               35   \n",
       "739  35                     179                               45   \n",
       "\n",
       "     Service time  Age  Work load Average/day   Disciplinary failure  \\\n",
       "0              13   33                 239.554                     0   \n",
       "1              18   50                 239.554                     1   \n",
       "2              18   38                 239.554                     0   \n",
       "3              14   39                 239.554                     0   \n",
       "4              13   33                 239.554                     0   \n",
       "..            ...  ...                     ...                   ...   \n",
       "735            13   33                 264.604                     0   \n",
       "736            14   37                 264.604                     0   \n",
       "737            13   40                 271.219                     0   \n",
       "738            14   39                 271.219                     0   \n",
       "739            14   53                 271.219                     0   \n",
       "\n",
       "     Education  Son  Social drinker  Social smoker  Absenteeism time in hours  \n",
       "0            1    2               1              0                          4  \n",
       "1            1    1               1              0                          0  \n",
       "2            1    0               1              0                          2  \n",
       "3            1    2               1              1                          4  \n",
       "4            1    2               1              0                          2  \n",
       "..         ...  ...             ...            ...                        ...  \n",
       "735          1    2               1              0                          8  \n",
       "736          3    1               0              0                          4  \n",
       "737          1    1               1              0                          0  \n",
       "738          1    2               1              0                          0  \n",
       "739          1    1               0              0                          0  \n",
       "\n",
       "[740 rows x 12 columns]"
      ]
     },
     "execution_count": 24,
     "metadata": {},
     "output_type": "execute_result"
    }
   ],
   "source": [
    "dados_analise"
   ]
  },
  {
   "cell_type": "code",
   "execution_count": 25,
   "id": "49f6fec6",
   "metadata": {
    "execution": {
     "iopub.execute_input": "2021-10-02T01:03:59.928935Z",
     "iopub.status.busy": "2021-10-02T01:03:59.928245Z",
     "iopub.status.idle": "2021-10-02T01:03:59.932504Z",
     "shell.execute_reply": "2021-10-02T01:03:59.933049Z",
     "shell.execute_reply.started": "2021-09-27T22:12:28.55969Z"
    },
    "papermill": {
     "duration": 0.122027,
     "end_time": "2021-10-02T01:03:59.933231",
     "exception": false,
     "start_time": "2021-10-02T01:03:59.811204",
     "status": "completed"
    },
    "tags": []
   },
   "outputs": [],
   "source": [
    "eight_less = dados_analise.loc[dados_analise['Absenteeism time in hours'] < 8] # 63% Se ausentaram do trabalho o equivalente a menos de 8 horas;\n",
    "                                                                               # 63% were absent from work the equivalent of less than 8 hours;"
   ]
  },
  {
   "cell_type": "code",
   "execution_count": 26,
   "id": "4368ed6b",
   "metadata": {
    "execution": {
     "iopub.execute_input": "2021-10-02T01:04:00.165335Z",
     "iopub.status.busy": "2021-10-02T01:04:00.164320Z",
     "iopub.status.idle": "2021-10-02T01:04:00.167553Z",
     "shell.execute_reply": "2021-10-02T01:04:00.166926Z",
     "shell.execute_reply.started": "2021-09-27T22:12:28.567512Z"
    },
    "executionInfo": {
     "elapsed": 143,
     "status": "ok",
     "timestamp": 1632342366669,
     "user": {
      "displayName": "junior bueno",
      "photoUrl": "https://lh3.googleusercontent.com/a-/AOh14GhOPf8Uzb8OInVUJ8cenIYMk58mqjaiTlroJoQXmg=s64",
      "userId": "07862107075158255468"
     },
     "user_tz": 180
    },
    "id": "Y3zWOCsV1qwE",
    "papermill": {
     "duration": 0.123091,
     "end_time": "2021-10-02T01:04:00.167718",
     "exception": false,
     "start_time": "2021-10-02T01:04:00.044627",
     "status": "completed"
    },
    "tags": []
   },
   "outputs": [],
   "source": [
    "eight_hours =  dados_analise.loc[dados_analise['Absenteeism time in hours'] == 8]      #  => Pessoas que se ausentaram pelo período de 8 horas, que seria o equivalente a 1 dias de trabalho;\n",
    "                                                                                       ## 208/740*100 = 28% Se ausentaram do trabalho o equivalente a 8 horas de trabalho que seria relativo a um dia inteiro;    \n",
    "    \n",
    "                                                                                      # => People who were absent for a period of 8 hours, which would be equivalent to 1 working day;\n",
    "                                                                                       ## 208/740*100 = 28% Absent from work the equivalent of 8 hours of work that would be related to a whole day;"
   ]
  },
  {
   "cell_type": "code",
   "execution_count": 27,
   "id": "434fb2a0",
   "metadata": {
    "execution": {
     "iopub.execute_input": "2021-10-02T01:04:00.395525Z",
     "iopub.status.busy": "2021-10-02T01:04:00.394630Z",
     "iopub.status.idle": "2021-10-02T01:04:00.397413Z",
     "shell.execute_reply": "2021-10-02T01:04:00.396904Z",
     "shell.execute_reply.started": "2021-09-27T22:12:28.578283Z"
    },
    "executionInfo": {
     "elapsed": 144,
     "status": "ok",
     "timestamp": 1632342366671,
     "user": {
      "displayName": "junior bueno",
      "photoUrl": "https://lh3.googleusercontent.com/a-/AOh14GhOPf8Uzb8OInVUJ8cenIYMk58mqjaiTlroJoQXmg=s64",
      "userId": "07862107075158255468"
     },
     "user_tz": 180
    },
    "id": "-fpB6oXw1qpO",
    "papermill": {
     "duration": 0.118769,
     "end_time": "2021-10-02T01:04:00.397561",
     "exception": false,
     "start_time": "2021-10-02T01:04:00.278792",
     "status": "completed"
    },
    "tags": []
   },
   "outputs": [],
   "source": [
    "sixteen_hours = dados_analise.loc[dados_analise['Absenteeism time in hours'] == 16]  # 2,5% Se ausentaram do trabalho o equivalente a 16 horas de trabalho que seria relativo a dois dias inteiros;\n",
    "                                                                                     # 2.5% were absent from work the equivalent of 16 hours of work that would be related to two full days;"
   ]
  },
  {
   "cell_type": "code",
   "execution_count": 28,
   "id": "8ef7acf4",
   "metadata": {
    "execution": {
     "iopub.execute_input": "2021-10-02T01:04:00.630427Z",
     "iopub.status.busy": "2021-10-02T01:04:00.628791Z",
     "iopub.status.idle": "2021-10-02T01:04:00.634787Z",
     "shell.execute_reply": "2021-10-02T01:04:00.635361Z",
     "shell.execute_reply.started": "2021-09-27T22:12:28.59159Z"
    },
    "executionInfo": {
     "elapsed": 137,
     "status": "ok",
     "timestamp": 1632342366672,
     "user": {
      "displayName": "junior bueno",
      "photoUrl": "https://lh3.googleusercontent.com/a-/AOh14GhOPf8Uzb8OInVUJ8cenIYMk58mqjaiTlroJoQXmg=s64",
      "userId": "07862107075158255468"
     },
     "user_tz": 180
    },
    "id": "hCWFmrBl1qey",
    "papermill": {
     "duration": 0.126179,
     "end_time": "2021-10-02T01:04:00.635553",
     "exception": false,
     "start_time": "2021-10-02T01:04:00.509374",
     "status": "completed"
    },
    "tags": []
   },
   "outputs": [],
   "source": [
    "twenty_four = dados_analise.loc[dados_analise['Absenteeism time in hours'] == 24] # 2,16% Se ausentaram do trabalho o equivalente a 24 horas de trabalho que seria relativo a três dias inteiros;\n",
    "                                                                                  # 2.16% were absent from work the equivalent of 24 hours of work that would be related to three full days;"
   ]
  },
  {
   "cell_type": "code",
   "execution_count": 29,
   "id": "ea5805e3",
   "metadata": {
    "execution": {
     "iopub.execute_input": "2021-10-02T01:04:00.884528Z",
     "iopub.status.busy": "2021-10-02T01:04:00.883813Z",
     "iopub.status.idle": "2021-10-02T01:04:00.887005Z",
     "shell.execute_reply": "2021-10-02T01:04:00.886450Z",
     "shell.execute_reply.started": "2021-09-27T22:12:28.608732Z"
    },
    "executionInfo": {
     "elapsed": 134,
     "status": "ok",
     "timestamp": 1632342366676,
     "user": {
      "displayName": "junior bueno",
      "photoUrl": "https://lh3.googleusercontent.com/a-/AOh14GhOPf8Uzb8OInVUJ8cenIYMk58mqjaiTlroJoQXmg=s64",
      "userId": "07862107075158255468"
     },
     "user_tz": 180
    },
    "id": "FeiqPRzKIgPu",
    "papermill": {
     "duration": 0.139087,
     "end_time": "2021-10-02T01:04:00.887158",
     "exception": false,
     "start_time": "2021-10-02T01:04:00.748071",
     "status": "completed"
    },
    "tags": []
   },
   "outputs": [],
   "source": [
    "thirty_two = dados_analise.loc[dados_analise['Absenteeism time in hours'] == 32]     # 0,81 Se ausentaram do trabalho o equivalente a 32 horas de trabalho que seria relativo a quatro dias inteiros;   \n",
    "                                                                                     # 0.81 Absent from work the equivalent of 32 hours of work that would be related to four full days;"
   ]
  },
  {
   "cell_type": "code",
   "execution_count": 30,
   "id": "67202bc1",
   "metadata": {
    "execution": {
     "iopub.execute_input": "2021-10-02T01:04:01.125653Z",
     "iopub.status.busy": "2021-10-02T01:04:01.124733Z",
     "iopub.status.idle": "2021-10-02T01:04:01.127395Z",
     "shell.execute_reply": "2021-10-02T01:04:01.126869Z",
     "shell.execute_reply.started": "2021-09-27T22:12:28.615415Z"
    },
    "executionInfo": {
     "elapsed": 126,
     "status": "ok",
     "timestamp": 1632342366677,
     "user": {
      "displayName": "junior bueno",
      "photoUrl": "https://lh3.googleusercontent.com/a-/AOh14GhOPf8Uzb8OInVUJ8cenIYMk58mqjaiTlroJoQXmg=s64",
      "userId": "07862107075158255468"
     },
     "user_tz": 180
    },
    "id": "bHoz7ahpKS_k",
    "papermill": {
     "duration": 0.120318,
     "end_time": "2021-10-02T01:04:01.127551",
     "exception": false,
     "start_time": "2021-10-02T01:04:01.007233",
     "status": "completed"
    },
    "tags": []
   },
   "outputs": [],
   "source": [
    "zero = dados_analise.loc[dados_analise['Absenteeism time in hours'] == 0] # 5,94% Não se ausentaram do trabalho em nenhum momento no período de trabalho;   => um dado interessante quase todos tiveram alguma falta diciplinar; \n",
    "                                                                          # 5.94% were not absent from work at any time during the work period; => an interesting fact almost all had some disciplinary fault;"
   ]
  },
  {
   "cell_type": "code",
   "execution_count": 31,
   "id": "03db93aa",
   "metadata": {
    "execution": {
     "iopub.execute_input": "2021-10-02T01:04:01.367321Z",
     "iopub.status.busy": "2021-10-02T01:04:01.363627Z",
     "iopub.status.idle": "2021-10-02T01:04:01.370576Z",
     "shell.execute_reply": "2021-10-02T01:04:01.371041Z",
     "shell.execute_reply.started": "2021-09-27T22:12:28.626648Z"
    },
    "papermill": {
     "duration": 0.131188,
     "end_time": "2021-10-02T01:04:01.371217",
     "exception": false,
     "start_time": "2021-10-02T01:04:01.240029",
     "status": "completed"
    },
    "tags": []
   },
   "outputs": [
    {
     "data": {
      "text/html": [
       "<div>\n",
       "<style scoped>\n",
       "    .dataframe tbody tr th:only-of-type {\n",
       "        vertical-align: middle;\n",
       "    }\n",
       "\n",
       "    .dataframe tbody tr th {\n",
       "        vertical-align: top;\n",
       "    }\n",
       "\n",
       "    .dataframe thead th {\n",
       "        text-align: right;\n",
       "    }\n",
       "</style>\n",
       "<table border=\"1\" class=\"dataframe\">\n",
       "  <thead>\n",
       "    <tr style=\"text-align: right;\">\n",
       "      <th></th>\n",
       "      <th>0 hour</th>\n",
       "      <th>8 less</th>\n",
       "      <th>8 hours</th>\n",
       "      <th>16 hours</th>\n",
       "      <th>24 hours</th>\n",
       "      <th>32 hours</th>\n",
       "    </tr>\n",
       "  </thead>\n",
       "  <tbody>\n",
       "    <tr>\n",
       "      <th>0</th>\n",
       "      <td>5,94%</td>\n",
       "      <td>63%</td>\n",
       "      <td>28%</td>\n",
       "      <td>2,5%</td>\n",
       "      <td>2,16%</td>\n",
       "      <td>0,81%</td>\n",
       "    </tr>\n",
       "  </tbody>\n",
       "</table>\n",
       "</div>"
      ],
      "text/plain": [
       "  0 hour 8 less 8 hours 16 hours 24 hours 32 hours\n",
       "0  5,94%    63%     28%     2,5%    2,16%    0,81%"
      ]
     },
     "execution_count": 31,
     "metadata": {},
     "output_type": "execute_result"
    }
   ],
   "source": [
    "obj = {'0 hour': ['5,94%'],'8 less': ['63%'],'8 hours': ['28%'],'16 hours': ['2,5%'],'24 hours': ['2,16%'],'32 hours': ['0,81%']}\n",
    "df_porcent = pd.DataFrame(data=obj)\n",
    "df_porcent"
   ]
  },
  {
   "cell_type": "markdown",
   "id": "13d7e2a0",
   "metadata": {
    "id": "PYRLyzJGd-De",
    "papermill": {
     "duration": 0.115275,
     "end_time": "2021-10-02T01:04:01.602161",
     "exception": false,
     "start_time": "2021-10-02T01:04:01.486886",
     "status": "completed"
    },
    "tags": []
   },
   "source": [
    "# **Pré Processamento dos Dados**\n",
    "\n",
    "# **Data Pre-Processing**"
   ]
  },
  {
   "cell_type": "code",
   "execution_count": 32,
   "id": "62b0b739",
   "metadata": {
    "execution": {
     "iopub.execute_input": "2021-10-02T01:04:01.839584Z",
     "iopub.status.busy": "2021-10-02T01:04:01.838909Z",
     "iopub.status.idle": "2021-10-02T01:04:01.840879Z",
     "shell.execute_reply": "2021-10-02T01:04:01.841394Z",
     "shell.execute_reply.started": "2021-09-27T22:12:28.649166Z"
    },
    "executionInfo": {
     "elapsed": 115,
     "status": "ok",
     "timestamp": 1632342366680,
     "user": {
      "displayName": "junior bueno",
      "photoUrl": "https://lh3.googleusercontent.com/a-/AOh14GhOPf8Uzb8OInVUJ8cenIYMk58mqjaiTlroJoQXmg=s64",
      "userId": "07862107075158255468"
     },
     "user_tz": 180
    },
    "id": "Wxs09S5yE9s0",
    "papermill": {
     "duration": 0.127631,
     "end_time": "2021-10-02T01:04:01.841576",
     "exception": false,
     "start_time": "2021-10-02T01:04:01.713945",
     "status": "completed"
    },
    "tags": []
   },
   "outputs": [],
   "source": [
    "X_cat = dados_df[['Transportation expense',\t'Distance from Residence to Work',\t'Age',\t'Disciplinary failure',\t'Education',\t'Son',\t'Social drinker']]"
   ]
  },
  {
   "cell_type": "code",
   "execution_count": 33,
   "id": "2222c442",
   "metadata": {
    "execution": {
     "iopub.execute_input": "2021-10-02T01:04:02.071034Z",
     "iopub.status.busy": "2021-10-02T01:04:02.070306Z",
     "iopub.status.idle": "2021-10-02T01:04:02.082485Z",
     "shell.execute_reply": "2021-10-02T01:04:02.082974Z",
     "shell.execute_reply.started": "2021-09-27T22:12:28.659037Z"
    },
    "executionInfo": {
     "elapsed": 116,
     "status": "ok",
     "timestamp": 1632342366681,
     "user": {
      "displayName": "junior bueno",
      "photoUrl": "https://lh3.googleusercontent.com/a-/AOh14GhOPf8Uzb8OInVUJ8cenIYMk58mqjaiTlroJoQXmg=s64",
      "userId": "07862107075158255468"
     },
     "user_tz": 180
    },
    "id": "o2HwJstV55tQ",
    "outputId": "62a94785-df67-436f-897e-7bbed4e2b228",
    "papermill": {
     "duration": 0.127377,
     "end_time": "2021-10-02T01:04:02.083160",
     "exception": false,
     "start_time": "2021-10-02T01:04:01.955783",
     "status": "completed"
    },
    "tags": []
   },
   "outputs": [
    {
     "data": {
      "text/html": [
       "<div>\n",
       "<style scoped>\n",
       "    .dataframe tbody tr th:only-of-type {\n",
       "        vertical-align: middle;\n",
       "    }\n",
       "\n",
       "    .dataframe tbody tr th {\n",
       "        vertical-align: top;\n",
       "    }\n",
       "\n",
       "    .dataframe thead th {\n",
       "        text-align: right;\n",
       "    }\n",
       "</style>\n",
       "<table border=\"1\" class=\"dataframe\">\n",
       "  <thead>\n",
       "    <tr style=\"text-align: right;\">\n",
       "      <th></th>\n",
       "      <th>Transportation expense</th>\n",
       "      <th>Distance from Residence to Work</th>\n",
       "      <th>Age</th>\n",
       "      <th>Disciplinary failure</th>\n",
       "      <th>Education</th>\n",
       "      <th>Son</th>\n",
       "      <th>Social drinker</th>\n",
       "    </tr>\n",
       "  </thead>\n",
       "  <tbody>\n",
       "    <tr>\n",
       "      <th>0</th>\n",
       "      <td>289</td>\n",
       "      <td>36</td>\n",
       "      <td>33</td>\n",
       "      <td>0</td>\n",
       "      <td>1</td>\n",
       "      <td>2</td>\n",
       "      <td>1</td>\n",
       "    </tr>\n",
       "    <tr>\n",
       "      <th>1</th>\n",
       "      <td>118</td>\n",
       "      <td>13</td>\n",
       "      <td>50</td>\n",
       "      <td>1</td>\n",
       "      <td>1</td>\n",
       "      <td>1</td>\n",
       "      <td>1</td>\n",
       "    </tr>\n",
       "    <tr>\n",
       "      <th>2</th>\n",
       "      <td>179</td>\n",
       "      <td>51</td>\n",
       "      <td>38</td>\n",
       "      <td>0</td>\n",
       "      <td>1</td>\n",
       "      <td>0</td>\n",
       "      <td>1</td>\n",
       "    </tr>\n",
       "    <tr>\n",
       "      <th>3</th>\n",
       "      <td>279</td>\n",
       "      <td>5</td>\n",
       "      <td>39</td>\n",
       "      <td>0</td>\n",
       "      <td>1</td>\n",
       "      <td>2</td>\n",
       "      <td>1</td>\n",
       "    </tr>\n",
       "    <tr>\n",
       "      <th>4</th>\n",
       "      <td>289</td>\n",
       "      <td>36</td>\n",
       "      <td>33</td>\n",
       "      <td>0</td>\n",
       "      <td>1</td>\n",
       "      <td>2</td>\n",
       "      <td>1</td>\n",
       "    </tr>\n",
       "    <tr>\n",
       "      <th>...</th>\n",
       "      <td>...</td>\n",
       "      <td>...</td>\n",
       "      <td>...</td>\n",
       "      <td>...</td>\n",
       "      <td>...</td>\n",
       "      <td>...</td>\n",
       "      <td>...</td>\n",
       "    </tr>\n",
       "    <tr>\n",
       "      <th>735</th>\n",
       "      <td>289</td>\n",
       "      <td>36</td>\n",
       "      <td>33</td>\n",
       "      <td>0</td>\n",
       "      <td>1</td>\n",
       "      <td>2</td>\n",
       "      <td>1</td>\n",
       "    </tr>\n",
       "    <tr>\n",
       "      <th>736</th>\n",
       "      <td>235</td>\n",
       "      <td>11</td>\n",
       "      <td>37</td>\n",
       "      <td>0</td>\n",
       "      <td>3</td>\n",
       "      <td>1</td>\n",
       "      <td>0</td>\n",
       "    </tr>\n",
       "    <tr>\n",
       "      <th>737</th>\n",
       "      <td>118</td>\n",
       "      <td>14</td>\n",
       "      <td>40</td>\n",
       "      <td>0</td>\n",
       "      <td>1</td>\n",
       "      <td>1</td>\n",
       "      <td>1</td>\n",
       "    </tr>\n",
       "    <tr>\n",
       "      <th>738</th>\n",
       "      <td>231</td>\n",
       "      <td>35</td>\n",
       "      <td>39</td>\n",
       "      <td>0</td>\n",
       "      <td>1</td>\n",
       "      <td>2</td>\n",
       "      <td>1</td>\n",
       "    </tr>\n",
       "    <tr>\n",
       "      <th>739</th>\n",
       "      <td>179</td>\n",
       "      <td>45</td>\n",
       "      <td>53</td>\n",
       "      <td>0</td>\n",
       "      <td>1</td>\n",
       "      <td>1</td>\n",
       "      <td>0</td>\n",
       "    </tr>\n",
       "  </tbody>\n",
       "</table>\n",
       "<p>740 rows × 7 columns</p>\n",
       "</div>"
      ],
      "text/plain": [
       "     Transportation expense  Distance from Residence to Work  Age  \\\n",
       "0                       289                               36   33   \n",
       "1                       118                               13   50   \n",
       "2                       179                               51   38   \n",
       "3                       279                                5   39   \n",
       "4                       289                               36   33   \n",
       "..                      ...                              ...  ...   \n",
       "735                     289                               36   33   \n",
       "736                     235                               11   37   \n",
       "737                     118                               14   40   \n",
       "738                     231                               35   39   \n",
       "739                     179                               45   53   \n",
       "\n",
       "     Disciplinary failure  Education  Son  Social drinker  \n",
       "0                       0          1    2               1  \n",
       "1                       1          1    1               1  \n",
       "2                       0          1    0               1  \n",
       "3                       0          1    2               1  \n",
       "4                       0          1    2               1  \n",
       "..                    ...        ...  ...             ...  \n",
       "735                     0          1    2               1  \n",
       "736                     0          3    1               0  \n",
       "737                     0          1    1               1  \n",
       "738                     0          1    2               1  \n",
       "739                     0          1    1               0  \n",
       "\n",
       "[740 rows x 7 columns]"
      ]
     },
     "execution_count": 33,
     "metadata": {},
     "output_type": "execute_result"
    }
   ],
   "source": [
    "X_cat"
   ]
  },
  {
   "cell_type": "code",
   "execution_count": 34,
   "id": "1526caa7",
   "metadata": {
    "execution": {
     "iopub.execute_input": "2021-10-02T01:04:02.311200Z",
     "iopub.status.busy": "2021-10-02T01:04:02.310489Z",
     "iopub.status.idle": "2021-10-02T01:04:02.434646Z",
     "shell.execute_reply": "2021-10-02T01:04:02.435195Z",
     "shell.execute_reply.started": "2021-09-27T22:12:28.680553Z"
    },
    "executionInfo": {
     "elapsed": 115,
     "status": "ok",
     "timestamp": 1632342366681,
     "user": {
      "displayName": "junior bueno",
      "photoUrl": "https://lh3.googleusercontent.com/a-/AOh14GhOPf8Uzb8OInVUJ8cenIYMk58mqjaiTlroJoQXmg=s64",
      "userId": "07862107075158255468"
     },
     "user_tz": 180
    },
    "id": "iyvc074J6dgw",
    "papermill": {
     "duration": 0.239963,
     "end_time": "2021-10-02T01:04:02.435389",
     "exception": false,
     "start_time": "2021-10-02T01:04:02.195426",
     "status": "completed"
    },
    "tags": []
   },
   "outputs": [],
   "source": [
    "from sklearn.preprocessing import OneHotEncoder\n",
    "onehotencoder = OneHotEncoder() "
   ]
  },
  {
   "cell_type": "code",
   "execution_count": 35,
   "id": "13a3c9d2",
   "metadata": {
    "execution": {
     "iopub.execute_input": "2021-10-02T01:04:02.665577Z",
     "iopub.status.busy": "2021-10-02T01:04:02.664645Z",
     "iopub.status.idle": "2021-10-02T01:04:02.674206Z",
     "shell.execute_reply": "2021-10-02T01:04:02.674767Z",
     "shell.execute_reply.started": "2021-09-27T22:12:28.790668Z"
    },
    "executionInfo": {
     "elapsed": 115,
     "status": "ok",
     "timestamp": 1632342366682,
     "user": {
      "displayName": "junior bueno",
      "photoUrl": "https://lh3.googleusercontent.com/a-/AOh14GhOPf8Uzb8OInVUJ8cenIYMk58mqjaiTlroJoQXmg=s64",
      "userId": "07862107075158255468"
     },
     "user_tz": 180
    },
    "id": "Vy4Qiv_O6lQh",
    "papermill": {
     "duration": 0.125308,
     "end_time": "2021-10-02T01:04:02.674946",
     "exception": false,
     "start_time": "2021-10-02T01:04:02.549638",
     "status": "completed"
    },
    "tags": []
   },
   "outputs": [],
   "source": [
    "X_cat = onehotencoder.fit_transform(X_cat).toarray()"
   ]
  },
  {
   "cell_type": "code",
   "execution_count": 36,
   "id": "b6d83ab0",
   "metadata": {
    "execution": {
     "iopub.execute_input": "2021-10-02T01:04:02.909160Z",
     "iopub.status.busy": "2021-10-02T01:04:02.908460Z",
     "iopub.status.idle": "2021-10-02T01:04:02.912624Z",
     "shell.execute_reply": "2021-10-02T01:04:02.913222Z",
     "shell.execute_reply.started": "2021-09-27T22:12:28.804259Z"
    },
    "executionInfo": {
     "elapsed": 115,
     "status": "ok",
     "timestamp": 1632342366682,
     "user": {
      "displayName": "junior bueno",
      "photoUrl": "https://lh3.googleusercontent.com/a-/AOh14GhOPf8Uzb8OInVUJ8cenIYMk58mqjaiTlroJoQXmg=s64",
      "userId": "07862107075158255468"
     },
     "user_tz": 180
    },
    "id": "lfiv_h246qNY",
    "outputId": "9492d205-fc36-47aa-e5ab-e5607ba4e021",
    "papermill": {
     "duration": 0.122661,
     "end_time": "2021-10-02T01:04:02.913416",
     "exception": false,
     "start_time": "2021-10-02T01:04:02.790755",
     "status": "completed"
    },
    "tags": []
   },
   "outputs": [
    {
     "data": {
      "text/plain": [
       "(740, 84)"
      ]
     },
     "execution_count": 36,
     "metadata": {},
     "output_type": "execute_result"
    }
   ],
   "source": [
    "X_cat.shape   "
   ]
  },
  {
   "cell_type": "code",
   "execution_count": 37,
   "id": "d4a7470e",
   "metadata": {
    "execution": {
     "iopub.execute_input": "2021-10-02T01:04:03.146754Z",
     "iopub.status.busy": "2021-10-02T01:04:03.146021Z",
     "iopub.status.idle": "2021-10-02T01:04:03.150592Z",
     "shell.execute_reply": "2021-10-02T01:04:03.151154Z",
     "shell.execute_reply.started": "2021-09-27T22:12:28.812896Z"
    },
    "executionInfo": {
     "elapsed": 106,
     "status": "ok",
     "timestamp": 1632342366682,
     "user": {
      "displayName": "junior bueno",
      "photoUrl": "https://lh3.googleusercontent.com/a-/AOh14GhOPf8Uzb8OInVUJ8cenIYMk58mqjaiTlroJoQXmg=s64",
      "userId": "07862107075158255468"
     },
     "user_tz": 180
    },
    "id": "mViPa2zc6tbx",
    "outputId": "3131128a-ace0-4603-af59-4d5936ca7ac2",
    "papermill": {
     "duration": 0.124325,
     "end_time": "2021-10-02T01:04:03.151352",
     "exception": false,
     "start_time": "2021-10-02T01:04:03.027027",
     "status": "completed"
    },
    "tags": []
   },
   "outputs": [
    {
     "data": {
      "text/plain": [
       "numpy.ndarray"
      ]
     },
     "execution_count": 37,
     "metadata": {},
     "output_type": "execute_result"
    }
   ],
   "source": [
    "type(X_cat)"
   ]
  },
  {
   "cell_type": "code",
   "execution_count": 38,
   "id": "f38a5b61",
   "metadata": {
    "execution": {
     "iopub.execute_input": "2021-10-02T01:04:03.379881Z",
     "iopub.status.busy": "2021-10-02T01:04:03.379192Z",
     "iopub.status.idle": "2021-10-02T01:04:03.382479Z",
     "shell.execute_reply": "2021-10-02T01:04:03.382986Z",
     "shell.execute_reply.started": "2021-09-27T22:12:28.823862Z"
    },
    "executionInfo": {
     "elapsed": 102,
     "status": "ok",
     "timestamp": 1632342366683,
     "user": {
      "displayName": "junior bueno",
      "photoUrl": "https://lh3.googleusercontent.com/a-/AOh14GhOPf8Uzb8OInVUJ8cenIYMk58mqjaiTlroJoQXmg=s64",
      "userId": "07862107075158255468"
     },
     "user_tz": 180
    },
    "id": "SP9pRiNu6y5I",
    "papermill": {
     "duration": 0.119127,
     "end_time": "2021-10-02T01:04:03.383166",
     "exception": false,
     "start_time": "2021-10-02T01:04:03.264039",
     "status": "completed"
    },
    "tags": []
   },
   "outputs": [],
   "source": [
    "X_cat = pd.DataFrame(X_cat)"
   ]
  },
  {
   "cell_type": "code",
   "execution_count": 39,
   "id": "82c6bfc9",
   "metadata": {
    "execution": {
     "iopub.execute_input": "2021-10-02T01:04:03.614083Z",
     "iopub.status.busy": "2021-10-02T01:04:03.613377Z",
     "iopub.status.idle": "2021-10-02T01:04:03.615958Z",
     "shell.execute_reply": "2021-10-02T01:04:03.616441Z",
     "shell.execute_reply.started": "2021-09-27T22:12:28.833388Z"
    },
    "executionInfo": {
     "elapsed": 102,
     "status": "ok",
     "timestamp": 1632342366683,
     "user": {
      "displayName": "junior bueno",
      "photoUrl": "https://lh3.googleusercontent.com/a-/AOh14GhOPf8Uzb8OInVUJ8cenIYMk58mqjaiTlroJoQXmg=s64",
      "userId": "07862107075158255468"
     },
     "user_tz": 180
    },
    "id": "CK3Qz0AL64Lg",
    "outputId": "ccfc74d5-3957-4d5d-ecb4-a27be8acdd3d",
    "papermill": {
     "duration": 0.121572,
     "end_time": "2021-10-02T01:04:03.616611",
     "exception": false,
     "start_time": "2021-10-02T01:04:03.495039",
     "status": "completed"
    },
    "tags": []
   },
   "outputs": [
    {
     "data": {
      "text/plain": [
       "pandas.core.frame.DataFrame"
      ]
     },
     "execution_count": 39,
     "metadata": {},
     "output_type": "execute_result"
    }
   ],
   "source": [
    "type(X_cat)"
   ]
  },
  {
   "cell_type": "code",
   "execution_count": 40,
   "id": "cd2d7316",
   "metadata": {
    "execution": {
     "iopub.execute_input": "2021-10-02T01:04:03.848434Z",
     "iopub.status.busy": "2021-10-02T01:04:03.847466Z",
     "iopub.status.idle": "2021-10-02T01:04:03.850390Z",
     "shell.execute_reply": "2021-10-02T01:04:03.849780Z",
     "shell.execute_reply.started": "2021-09-27T22:12:28.847323Z"
    },
    "executionInfo": {
     "elapsed": 97,
     "status": "ok",
     "timestamp": 1632342366683,
     "user": {
      "displayName": "junior bueno",
      "photoUrl": "https://lh3.googleusercontent.com/a-/AOh14GhOPf8Uzb8OInVUJ8cenIYMk58mqjaiTlroJoQXmg=s64",
      "userId": "07862107075158255468"
     },
     "user_tz": 180
    },
    "id": "GZvcopXt68Tw",
    "papermill": {
     "duration": 0.120648,
     "end_time": "2021-10-02T01:04:03.850529",
     "exception": false,
     "start_time": "2021-10-02T01:04:03.729881",
     "status": "completed"
    },
    "tags": []
   },
   "outputs": [],
   "source": [
    "X = X_cat"
   ]
  },
  {
   "cell_type": "code",
   "execution_count": 41,
   "id": "cdc328a3",
   "metadata": {
    "execution": {
     "iopub.execute_input": "2021-10-02T01:04:04.089477Z",
     "iopub.status.busy": "2021-10-02T01:04:04.088520Z",
     "iopub.status.idle": "2021-10-02T01:04:04.092595Z",
     "shell.execute_reply": "2021-10-02T01:04:04.092092Z",
     "shell.execute_reply.started": "2021-09-27T22:12:28.856269Z"
    },
    "executionInfo": {
     "elapsed": 97,
     "status": "ok",
     "timestamp": 1632342366684,
     "user": {
      "displayName": "junior bueno",
      "photoUrl": "https://lh3.googleusercontent.com/a-/AOh14GhOPf8Uzb8OInVUJ8cenIYMk58mqjaiTlroJoQXmg=s64",
      "userId": "07862107075158255468"
     },
     "user_tz": 180
    },
    "id": "Niph9fzX7rGZ",
    "outputId": "531e6fb4-ddd8-47ac-849e-26e806eadb6d",
    "papermill": {
     "duration": 0.128626,
     "end_time": "2021-10-02T01:04:04.092757",
     "exception": false,
     "start_time": "2021-10-02T01:04:03.964131",
     "status": "completed"
    },
    "tags": []
   },
   "outputs": [
    {
     "data": {
      "text/plain": [
       "0      1\n",
       "1      0\n",
       "2      1\n",
       "3      1\n",
       "4      1\n",
       "      ..\n",
       "735    1\n",
       "736    1\n",
       "737    0\n",
       "738    0\n",
       "739    0\n",
       "Name: Absenteeism time in hours, Length: 740, dtype: int64"
      ]
     },
     "execution_count": 41,
     "metadata": {},
     "output_type": "execute_result"
    }
   ],
   "source": [
    "y = dados_df['Absenteeism time in hours']\n",
    "y"
   ]
  },
  {
   "cell_type": "code",
   "execution_count": 42,
   "id": "b96f1edc",
   "metadata": {
    "execution": {
     "iopub.execute_input": "2021-10-02T01:04:04.325986Z",
     "iopub.status.busy": "2021-10-02T01:04:04.325284Z",
     "iopub.status.idle": "2021-10-02T01:04:04.381640Z",
     "shell.execute_reply": "2021-10-02T01:04:04.382218Z",
     "shell.execute_reply.started": "2021-09-27T22:12:28.869302Z"
    },
    "executionInfo": {
     "elapsed": 93,
     "status": "ok",
     "timestamp": 1632342366685,
     "user": {
      "displayName": "junior bueno",
      "photoUrl": "https://lh3.googleusercontent.com/a-/AOh14GhOPf8Uzb8OInVUJ8cenIYMk58mqjaiTlroJoQXmg=s64",
      "userId": "07862107075158255468"
     },
     "user_tz": 180
    },
    "id": "ZIEVPU2W8m25",
    "outputId": "38364a76-bfbf-4fc6-bf9f-0ee61c66285b",
    "papermill": {
     "duration": 0.173737,
     "end_time": "2021-10-02T01:04:04.382397",
     "exception": false,
     "start_time": "2021-10-02T01:04:04.208660",
     "status": "completed"
    },
    "tags": []
   },
   "outputs": [
    {
     "data": {
      "text/plain": [
       "<function sklearn.model_selection._split.train_test_split(*arrays, **options)>"
      ]
     },
     "execution_count": 42,
     "metadata": {},
     "output_type": "execute_result"
    }
   ],
   "source": [
    "from sklearn.model_selection import train_test_split\n",
    "train_test_split"
   ]
  },
  {
   "cell_type": "code",
   "execution_count": 43,
   "id": "e046249e",
   "metadata": {
    "execution": {
     "iopub.execute_input": "2021-10-02T01:04:04.615316Z",
     "iopub.status.busy": "2021-10-02T01:04:04.614273Z",
     "iopub.status.idle": "2021-10-02T01:04:04.623376Z",
     "shell.execute_reply": "2021-10-02T01:04:04.622579Z",
     "shell.execute_reply.started": "2021-09-27T22:12:28.927602Z"
    },
    "executionInfo": {
     "elapsed": 88,
     "status": "ok",
     "timestamp": 1632342366685,
     "user": {
      "displayName": "junior bueno",
      "photoUrl": "https://lh3.googleusercontent.com/a-/AOh14GhOPf8Uzb8OInVUJ8cenIYMk58mqjaiTlroJoQXmg=s64",
      "userId": "07862107075158255468"
     },
     "user_tz": 180
    },
    "id": "eju1bkGi8xCJ",
    "papermill": {
     "duration": 0.125585,
     "end_time": "2021-10-02T01:04:04.623582",
     "exception": false,
     "start_time": "2021-10-02T01:04:04.497997",
     "status": "completed"
    },
    "tags": []
   },
   "outputs": [],
   "source": [
    "X_train, X_test, y_train, y_test = train_test_split(X, y, test_size = 0.25)"
   ]
  },
  {
   "cell_type": "code",
   "execution_count": 44,
   "id": "a180ae6a",
   "metadata": {
    "execution": {
     "iopub.execute_input": "2021-10-02T01:04:04.869777Z",
     "iopub.status.busy": "2021-10-02T01:04:04.868944Z",
     "iopub.status.idle": "2021-10-02T01:04:04.872311Z",
     "shell.execute_reply": "2021-10-02T01:04:04.872820Z",
     "shell.execute_reply.started": "2021-09-27T22:12:28.935435Z"
    },
    "executionInfo": {
     "elapsed": 88,
     "status": "ok",
     "timestamp": 1632342366685,
     "user": {
      "displayName": "junior bueno",
      "photoUrl": "https://lh3.googleusercontent.com/a-/AOh14GhOPf8Uzb8OInVUJ8cenIYMk58mqjaiTlroJoQXmg=s64",
      "userId": "07862107075158255468"
     },
     "user_tz": 180
    },
    "id": "JBAXPOYP810B",
    "outputId": "1dce404e-b489-41f0-d2c7-0d660764388a",
    "papermill": {
     "duration": 0.135745,
     "end_time": "2021-10-02T01:04:04.873022",
     "exception": false,
     "start_time": "2021-10-02T01:04:04.737277",
     "status": "completed"
    },
    "tags": []
   },
   "outputs": [
    {
     "data": {
      "text/plain": [
       "((555, 84),\n",
       " 424    1\n",
       " 574    1\n",
       " 67     1\n",
       " 596    1\n",
       " 275    1\n",
       "       ..\n",
       " 393    1\n",
       " 215    0\n",
       " 263    1\n",
       " 264    1\n",
       " 439    1\n",
       " Name: Absenteeism time in hours, Length: 555, dtype: int64)"
      ]
     },
     "execution_count": 44,
     "metadata": {},
     "output_type": "execute_result"
    }
   ],
   "source": [
    "X_train.shape, y_train"
   ]
  },
  {
   "cell_type": "code",
   "execution_count": 45,
   "id": "91e972b6",
   "metadata": {
    "execution": {
     "iopub.execute_input": "2021-10-02T01:04:05.116849Z",
     "iopub.status.busy": "2021-10-02T01:04:05.115987Z",
     "iopub.status.idle": "2021-10-02T01:04:05.120018Z",
     "shell.execute_reply": "2021-10-02T01:04:05.119398Z",
     "shell.execute_reply.started": "2021-09-27T22:12:28.949445Z"
    },
    "executionInfo": {
     "elapsed": 83,
     "status": "ok",
     "timestamp": 1632342366686,
     "user": {
      "displayName": "junior bueno",
      "photoUrl": "https://lh3.googleusercontent.com/a-/AOh14GhOPf8Uzb8OInVUJ8cenIYMk58mqjaiTlroJoQXmg=s64",
      "userId": "07862107075158255468"
     },
     "user_tz": 180
    },
    "id": "1EEZ6HCA9dsh",
    "outputId": "3b1e6f22-13f8-4bcd-88b1-f0cb0eaa3f51",
    "papermill": {
     "duration": 0.128055,
     "end_time": "2021-10-02T01:04:05.120160",
     "exception": false,
     "start_time": "2021-10-02T01:04:04.992105",
     "status": "completed"
    },
    "tags": []
   },
   "outputs": [
    {
     "data": {
      "text/plain": [
       "((185, 84),\n",
       " 575    1\n",
       " 258    1\n",
       " 382    1\n",
       " 343    1\n",
       " 420    1\n",
       "       ..\n",
       " 638    1\n",
       " 621    1\n",
       " 34     1\n",
       " 408    1\n",
       " 32     1\n",
       " Name: Absenteeism time in hours, Length: 185, dtype: int64)"
      ]
     },
     "execution_count": 45,
     "metadata": {},
     "output_type": "execute_result"
    }
   ],
   "source": [
    "X_test.shape, y_test"
   ]
  },
  {
   "cell_type": "markdown",
   "id": "86b5732f",
   "metadata": {
    "id": "aNITcUaqOapr",
    "papermill": {
     "duration": 0.114716,
     "end_time": "2021-10-02T01:04:05.350476",
     "exception": false,
     "start_time": "2021-10-02T01:04:05.235760",
     "status": "completed"
    },
    "tags": []
   },
   "source": [
    "# **Regressão Logística**\n",
    "\n",
    "# **Logistics Regression**"
   ]
  },
  {
   "cell_type": "code",
   "execution_count": 46,
   "id": "2c16c0a6",
   "metadata": {
    "execution": {
     "iopub.execute_input": "2021-10-02T01:04:05.583649Z",
     "iopub.status.busy": "2021-10-02T01:04:05.583020Z",
     "iopub.status.idle": "2021-10-02T01:04:05.666742Z",
     "shell.execute_reply": "2021-10-02T01:04:05.666106Z",
     "shell.execute_reply.started": "2021-09-27T22:12:28.960708Z"
    },
    "executionInfo": {
     "elapsed": 79,
     "status": "ok",
     "timestamp": 1632342366686,
     "user": {
      "displayName": "junior bueno",
      "photoUrl": "https://lh3.googleusercontent.com/a-/AOh14GhOPf8Uzb8OInVUJ8cenIYMk58mqjaiTlroJoQXmg=s64",
      "userId": "07862107075158255468"
     },
     "user_tz": 180
    },
    "id": "qTGhqTQ99t-5",
    "papermill": {
     "duration": 0.201565,
     "end_time": "2021-10-02T01:04:05.666889",
     "exception": false,
     "start_time": "2021-10-02T01:04:05.465324",
     "status": "completed"
    },
    "tags": []
   },
   "outputs": [],
   "source": [
    "from sklearn.linear_model import LogisticRegression"
   ]
  },
  {
   "cell_type": "code",
   "execution_count": 47,
   "id": "373efd21",
   "metadata": {
    "execution": {
     "iopub.execute_input": "2021-10-02T01:04:05.908354Z",
     "iopub.status.busy": "2021-10-02T01:04:05.905788Z",
     "iopub.status.idle": "2021-10-02T01:04:05.937555Z",
     "shell.execute_reply": "2021-10-02T01:04:05.939042Z",
     "shell.execute_reply.started": "2021-09-27T22:12:29.044294Z"
    },
    "executionInfo": {
     "elapsed": 79,
     "status": "ok",
     "timestamp": 1632342366687,
     "user": {
      "displayName": "junior bueno",
      "photoUrl": "https://lh3.googleusercontent.com/a-/AOh14GhOPf8Uzb8OInVUJ8cenIYMk58mqjaiTlroJoQXmg=s64",
      "userId": "07862107075158255468"
     },
     "user_tz": 180
    },
    "id": "BjcuyLge9yYy",
    "outputId": "9ee0dfdb-965d-405c-9fcc-d409507ba216",
    "papermill": {
     "duration": 0.157217,
     "end_time": "2021-10-02T01:04:05.939348",
     "exception": false,
     "start_time": "2021-10-02T01:04:05.782131",
     "status": "completed"
    },
    "tags": []
   },
   "outputs": [
    {
     "data": {
      "text/plain": [
       "LogisticRegression()"
      ]
     },
     "execution_count": 47,
     "metadata": {},
     "output_type": "execute_result"
    }
   ],
   "source": [
    "logistic = LogisticRegression()\n",
    "logistic.fit(X_train, y_train) "
   ]
  },
  {
   "cell_type": "code",
   "execution_count": 48,
   "id": "bd1172cb",
   "metadata": {
    "execution": {
     "iopub.execute_input": "2021-10-02T01:04:06.231051Z",
     "iopub.status.busy": "2021-10-02T01:04:06.229884Z",
     "iopub.status.idle": "2021-10-02T01:04:06.234276Z",
     "shell.execute_reply": "2021-10-02T01:04:06.235177Z",
     "shell.execute_reply.started": "2021-09-27T22:12:29.07898Z"
    },
    "executionInfo": {
     "elapsed": 74,
     "status": "ok",
     "timestamp": 1632342366687,
     "user": {
      "displayName": "junior bueno",
      "photoUrl": "https://lh3.googleusercontent.com/a-/AOh14GhOPf8Uzb8OInVUJ8cenIYMk58mqjaiTlroJoQXmg=s64",
      "userId": "07862107075158255468"
     },
     "user_tz": 180
    },
    "id": "7lMxeLP-91fi",
    "outputId": "f69d835e-c412-47dc-a1d7-a562a9d42cda",
    "papermill": {
     "duration": 0.129612,
     "end_time": "2021-10-02T01:04:06.235478",
     "exception": false,
     "start_time": "2021-10-02T01:04:06.105866",
     "status": "completed"
    },
    "tags": []
   },
   "outputs": [
    {
     "data": {
      "text/plain": [
       "array([1, 1, 1, 1, 1, 1, 1, 1, 1, 1, 1, 1, 1, 1, 0, 1, 1, 1, 0, 1, 1, 1,\n",
       "       1, 1, 1, 1, 1, 1, 0, 1, 1, 0, 1, 1, 1, 1, 1, 1, 1, 1, 1, 1, 1, 1,\n",
       "       1, 1, 1, 1, 0, 1, 1, 0, 1, 1, 1, 1, 1, 1, 1, 1, 1, 1, 1, 1, 1, 1,\n",
       "       1, 1, 1, 1, 1, 1, 1, 1, 1, 1, 1, 1, 1, 1, 1, 1, 1, 1, 1, 1, 1, 1,\n",
       "       1, 1, 1, 1, 1, 0, 1, 1, 1, 1, 1, 0, 0, 1, 1, 1, 1, 1, 1, 1, 1, 0,\n",
       "       1, 1, 1, 1, 1, 1, 1, 1, 1, 1, 1, 1, 1, 1, 1, 1, 1, 1, 1, 1, 1, 1,\n",
       "       1, 1, 1, 1, 1, 1, 1, 1, 1, 1, 1, 1, 1, 1, 1, 0, 1, 1, 1, 1, 1, 0,\n",
       "       1, 1, 1, 1, 1, 1, 1, 1, 1, 1, 1, 1, 1, 1, 1, 1, 1, 0, 1, 0, 1, 1,\n",
       "       1, 1, 1, 1, 1, 1, 1, 1, 1])"
      ]
     },
     "execution_count": 48,
     "metadata": {},
     "output_type": "execute_result"
    }
   ],
   "source": [
    "y_pred = logistic.predict(X_test)   \n",
    "y_pred"
   ]
  },
  {
   "cell_type": "code",
   "execution_count": 49,
   "id": "2bd1c8eb",
   "metadata": {
    "execution": {
     "iopub.execute_input": "2021-10-02T01:04:06.525785Z",
     "iopub.status.busy": "2021-10-02T01:04:06.524834Z",
     "iopub.status.idle": "2021-10-02T01:04:06.528820Z",
     "shell.execute_reply": "2021-10-02T01:04:06.528271Z",
     "shell.execute_reply.started": "2021-09-27T22:12:29.092937Z"
    },
    "executionInfo": {
     "elapsed": 69,
     "status": "ok",
     "timestamp": 1632342366687,
     "user": {
      "displayName": "junior bueno",
      "photoUrl": "https://lh3.googleusercontent.com/a-/AOh14GhOPf8Uzb8OInVUJ8cenIYMk58mqjaiTlroJoQXmg=s64",
      "userId": "07862107075158255468"
     },
     "user_tz": 180
    },
    "id": "eAHBOPZQ-NPh",
    "outputId": "3a432a01-c02e-4546-9e4b-eb6f7d26e087",
    "papermill": {
     "duration": 0.126568,
     "end_time": "2021-10-02T01:04:06.528972",
     "exception": false,
     "start_time": "2021-10-02T01:04:06.402404",
     "status": "completed"
    },
    "tags": []
   },
   "outputs": [
    {
     "data": {
      "text/plain": [
       "575    1\n",
       "258    1\n",
       "382    1\n",
       "343    1\n",
       "420    1\n",
       "      ..\n",
       "638    1\n",
       "621    1\n",
       "34     1\n",
       "408    1\n",
       "32     1\n",
       "Name: Absenteeism time in hours, Length: 185, dtype: int64"
      ]
     },
     "execution_count": 49,
     "metadata": {},
     "output_type": "execute_result"
    }
   ],
   "source": [
    "y_test "
   ]
  },
  {
   "cell_type": "code",
   "execution_count": 50,
   "id": "f57ee470",
   "metadata": {
    "execution": {
     "iopub.execute_input": "2021-10-02T01:04:06.763938Z",
     "iopub.status.busy": "2021-10-02T01:04:06.763218Z",
     "iopub.status.idle": "2021-10-02T01:04:06.764923Z",
     "shell.execute_reply": "2021-10-02T01:04:06.765432Z",
     "shell.execute_reply.started": "2021-09-27T22:12:29.104244Z"
    },
    "executionInfo": {
     "elapsed": 65,
     "status": "ok",
     "timestamp": 1632342366688,
     "user": {
      "displayName": "junior bueno",
      "photoUrl": "https://lh3.googleusercontent.com/a-/AOh14GhOPf8Uzb8OInVUJ8cenIYMk58mqjaiTlroJoQXmg=s64",
      "userId": "07862107075158255468"
     },
     "user_tz": 180
    },
    "id": "oiSSEtRl-Qab",
    "papermill": {
     "duration": 0.121976,
     "end_time": "2021-10-02T01:04:06.765610",
     "exception": false,
     "start_time": "2021-10-02T01:04:06.643634",
     "status": "completed"
    },
    "tags": []
   },
   "outputs": [],
   "source": [
    "from sklearn.metrics import accuracy_score"
   ]
  },
  {
   "cell_type": "code",
   "execution_count": 51,
   "id": "ee0c1847",
   "metadata": {
    "execution": {
     "iopub.execute_input": "2021-10-02T01:04:07.011746Z",
     "iopub.status.busy": "2021-10-02T01:04:07.008261Z",
     "iopub.status.idle": "2021-10-02T01:04:07.016007Z",
     "shell.execute_reply": "2021-10-02T01:04:07.015316Z",
     "shell.execute_reply.started": "2021-09-27T22:12:29.110645Z"
    },
    "executionInfo": {
     "elapsed": 65,
     "status": "ok",
     "timestamp": 1632342366688,
     "user": {
      "displayName": "junior bueno",
      "photoUrl": "https://lh3.googleusercontent.com/a-/AOh14GhOPf8Uzb8OInVUJ8cenIYMk58mqjaiTlroJoQXmg=s64",
      "userId": "07862107075158255468"
     },
     "user_tz": 180
    },
    "id": "GHhUg5KC-TXC",
    "outputId": "418412ed-e043-474e-ed33-37d354eebd68",
    "papermill": {
     "duration": 0.128063,
     "end_time": "2021-10-02T01:04:07.016162",
     "exception": false,
     "start_time": "2021-10-02T01:04:06.888099",
     "status": "completed"
    },
    "tags": []
   },
   "outputs": [
    {
     "data": {
      "text/plain": [
       "0.9945945945945946"
      ]
     },
     "execution_count": 51,
     "metadata": {},
     "output_type": "execute_result"
    }
   ],
   "source": [
    "accuracy_score(y_test, y_pred) # => é um ótimo valor para duas classes;"
   ]
  },
  {
   "cell_type": "code",
   "execution_count": 52,
   "id": "629a3822",
   "metadata": {
    "execution": {
     "iopub.execute_input": "2021-10-02T01:04:07.252793Z",
     "iopub.status.busy": "2021-10-02T01:04:07.251748Z",
     "iopub.status.idle": "2021-10-02T01:04:07.254431Z",
     "shell.execute_reply": "2021-10-02T01:04:07.254962Z",
     "shell.execute_reply.started": "2021-09-27T22:12:29.124361Z"
    },
    "executionInfo": {
     "elapsed": 61,
     "status": "ok",
     "timestamp": 1632342366689,
     "user": {
      "displayName": "junior bueno",
      "photoUrl": "https://lh3.googleusercontent.com/a-/AOh14GhOPf8Uzb8OInVUJ8cenIYMk58mqjaiTlroJoQXmg=s64",
      "userId": "07862107075158255468"
     },
     "user_tz": 180
    },
    "id": "o1NNZLk6-X5x",
    "papermill": {
     "duration": 0.123129,
     "end_time": "2021-10-02T01:04:07.255142",
     "exception": false,
     "start_time": "2021-10-02T01:04:07.132013",
     "status": "completed"
    },
    "tags": []
   },
   "outputs": [],
   "source": [
    "from sklearn.metrics import confusion_matrix"
   ]
  },
  {
   "cell_type": "code",
   "execution_count": 53,
   "id": "2b0bc3a1",
   "metadata": {
    "execution": {
     "iopub.execute_input": "2021-10-02T01:04:07.497215Z",
     "iopub.status.busy": "2021-10-02T01:04:07.496343Z",
     "iopub.status.idle": "2021-10-02T01:04:07.504511Z",
     "shell.execute_reply": "2021-10-02T01:04:07.503971Z",
     "shell.execute_reply.started": "2021-09-27T22:12:29.131126Z"
    },
    "executionInfo": {
     "elapsed": 61,
     "status": "ok",
     "timestamp": 1632342366689,
     "user": {
      "displayName": "junior bueno",
      "photoUrl": "https://lh3.googleusercontent.com/a-/AOh14GhOPf8Uzb8OInVUJ8cenIYMk58mqjaiTlroJoQXmg=s64",
      "userId": "07862107075158255468"
     },
     "user_tz": 180
    },
    "id": "zwYejgph-zqh",
    "outputId": "93b8c4aa-1f58-408d-9c2c-c26ff4c93e97",
    "papermill": {
     "duration": 0.128146,
     "end_time": "2021-10-02T01:04:07.504657",
     "exception": false,
     "start_time": "2021-10-02T01:04:07.376511",
     "status": "completed"
    },
    "tags": []
   },
   "outputs": [
    {
     "data": {
      "text/plain": [
       "array([[ 14,   1],\n",
       "       [  0, 170]])"
      ]
     },
     "execution_count": 53,
     "metadata": {},
     "output_type": "execute_result"
    }
   ],
   "source": [
    "cm = confusion_matrix(y_test, y_pred)\n",
    "cm"
   ]
  },
  {
   "cell_type": "code",
   "execution_count": 54,
   "id": "456b87bc",
   "metadata": {
    "execution": {
     "iopub.execute_input": "2021-10-02T01:04:07.741240Z",
     "iopub.status.busy": "2021-10-02T01:04:07.740472Z",
     "iopub.status.idle": "2021-10-02T01:04:08.008654Z",
     "shell.execute_reply": "2021-10-02T01:04:08.008129Z",
     "shell.execute_reply.started": "2021-09-27T22:12:29.146428Z"
    },
    "executionInfo": {
     "elapsed": 706,
     "status": "ok",
     "timestamp": 1632342367339,
     "user": {
      "displayName": "junior bueno",
      "photoUrl": "https://lh3.googleusercontent.com/a-/AOh14GhOPf8Uzb8OInVUJ8cenIYMk58mqjaiTlroJoQXmg=s64",
      "userId": "07862107075158255468"
     },
     "user_tz": 180
    },
    "id": "ygSQlPpT-2Ax",
    "outputId": "7f2f61cf-c86a-46db-dc6b-abb93c20fcce",
    "papermill": {
     "duration": 0.388356,
     "end_time": "2021-10-02T01:04:08.008834",
     "exception": false,
     "start_time": "2021-10-02T01:04:07.620478",
     "status": "completed"
    },
    "tags": []
   },
   "outputs": [
    {
     "data": {
      "image/png": "[encoded data removed]",
      "text/plain": [
       "<Figure size 432x288 with 2 Axes>"
      ]
     },
     "metadata": {
      "needs_background": "light"
     },
     "output_type": "display_data"
    }
   ],
   "source": [
    "sns.heatmap(cm, annot=True);"
   ]
  },
  {
   "cell_type": "code",
   "execution_count": null,
   "id": "575aa297",
   "metadata": {
    "executionInfo": {
     "elapsed": 78,
     "status": "ok",
     "timestamp": 1632342367340,
     "user": {
      "displayName": "junior bueno",
      "photoUrl": "https://lh3.googleusercontent.com/a-/AOh14GhOPf8Uzb8OInVUJ8cenIYMk58mqjaiTlroJoQXmg=s64",
      "userId": "07862107075158255468"
     },
     "user_tz": 180
    },
    "id": "pZ7CnXAs-6iC",
    "papermill": {
     "duration": 0.117157,
     "end_time": "2021-10-02T01:04:08.244646",
     "exception": false,
     "start_time": "2021-10-02T01:04:08.127489",
     "status": "completed"
    },
    "tags": []
   },
   "outputs": [],
   "source": []
  },
  {
   "cell_type": "markdown",
   "id": "d73301b8",
   "metadata": {
    "id": "QH95cG7R_Duu",
    "papermill": {
     "duration": 0.117436,
     "end_time": "2021-10-02T01:04:08.479532",
     "exception": false,
     "start_time": "2021-10-02T01:04:08.362096",
     "status": "completed"
    },
    "tags": []
   },
   "source": [
    "# **Sklearn**"
   ]
  },
  {
   "cell_type": "code",
   "execution_count": 55,
   "id": "0ad36f28",
   "metadata": {
    "execution": {
     "iopub.execute_input": "2021-10-02T01:04:08.724421Z",
     "iopub.status.busy": "2021-10-02T01:04:08.723501Z",
     "iopub.status.idle": "2021-10-02T01:04:08.726439Z",
     "shell.execute_reply": "2021-10-02T01:04:08.725939Z",
     "shell.execute_reply.started": "2021-09-27T22:12:29.423266Z"
    },
    "executionInfo": {
     "elapsed": 77,
     "status": "ok",
     "timestamp": 1632342367340,
     "user": {
      "displayName": "junior bueno",
      "photoUrl": "https://lh3.googleusercontent.com/a-/AOh14GhOPf8Uzb8OInVUJ8cenIYMk58mqjaiTlroJoQXmg=s64",
      "userId": "07862107075158255468"
     },
     "user_tz": 180
    },
    "id": "LqjFo7eB_Hz5",
    "papermill": {
     "duration": 0.124792,
     "end_time": "2021-10-02T01:04:08.726579",
     "exception": false,
     "start_time": "2021-10-02T01:04:08.601787",
     "status": "completed"
    },
    "tags": []
   },
   "outputs": [],
   "source": [
    "from sklearn.metrics import precision_score, recall_score, f1_score, classification_report"
   ]
  },
  {
   "cell_type": "code",
   "execution_count": 56,
   "id": "d57ea96b",
   "metadata": {
    "execution": {
     "iopub.execute_input": "2021-10-02T01:04:08.970296Z",
     "iopub.status.busy": "2021-10-02T01:04:08.969559Z",
     "iopub.status.idle": "2021-10-02T01:04:08.973753Z",
     "shell.execute_reply": "2021-10-02T01:04:08.973195Z",
     "shell.execute_reply.started": "2021-09-27T22:12:29.427938Z"
    },
    "executionInfo": {
     "elapsed": 78,
     "status": "ok",
     "timestamp": 1632342367341,
     "user": {
      "displayName": "junior bueno",
      "photoUrl": "https://lh3.googleusercontent.com/a-/AOh14GhOPf8Uzb8OInVUJ8cenIYMk58mqjaiTlroJoQXmg=s64",
      "userId": "07862107075158255468"
     },
     "user_tz": 180
    },
    "id": "__aJGFkI_KYC",
    "outputId": "b849b9ec-1b31-470a-cc97-3caa38d75fdc",
    "papermill": {
     "duration": 0.129875,
     "end_time": "2021-10-02T01:04:08.973906",
     "exception": false,
     "start_time": "2021-10-02T01:04:08.844031",
     "status": "completed"
    },
    "tags": []
   },
   "outputs": [
    {
     "data": {
      "text/plain": [
       "0.9941520467836257"
      ]
     },
     "execution_count": 56,
     "metadata": {},
     "output_type": "execute_result"
    }
   ],
   "source": [
    "precision_score(y_test, y_pred) "
   ]
  },
  {
   "cell_type": "code",
   "execution_count": 57,
   "id": "083f2569",
   "metadata": {
    "execution": {
     "iopub.execute_input": "2021-10-02T01:04:09.213265Z",
     "iopub.status.busy": "2021-10-02T01:04:09.212540Z",
     "iopub.status.idle": "2021-10-02T01:04:09.219763Z",
     "shell.execute_reply": "2021-10-02T01:04:09.219147Z",
     "shell.execute_reply.started": "2021-09-27T22:12:29.443723Z"
    },
    "executionInfo": {
     "elapsed": 70,
     "status": "ok",
     "timestamp": 1632342367342,
     "user": {
      "displayName": "junior bueno",
      "photoUrl": "https://lh3.googleusercontent.com/a-/AOh14GhOPf8Uzb8OInVUJ8cenIYMk58mqjaiTlroJoQXmg=s64",
      "userId": "07862107075158255468"
     },
     "user_tz": 180
    },
    "id": "uW3kL7p2_N9K",
    "outputId": "3b514156-1b11-4ade-b9fc-5558040c4b5b",
    "papermill": {
     "duration": 0.128953,
     "end_time": "2021-10-02T01:04:09.219910",
     "exception": false,
     "start_time": "2021-10-02T01:04:09.090957",
     "status": "completed"
    },
    "tags": []
   },
   "outputs": [
    {
     "data": {
      "text/plain": [
       "1.0"
      ]
     },
     "execution_count": 57,
     "metadata": {},
     "output_type": "execute_result"
    }
   ],
   "source": [
    "recall_score(y_test, y_pred) "
   ]
  },
  {
   "cell_type": "code",
   "execution_count": 58,
   "id": "4340e187",
   "metadata": {
    "execution": {
     "iopub.execute_input": "2021-10-02T01:04:09.462503Z",
     "iopub.status.busy": "2021-10-02T01:04:09.461726Z",
     "iopub.status.idle": "2021-10-02T01:04:09.465052Z",
     "shell.execute_reply": "2021-10-02T01:04:09.465561Z",
     "shell.execute_reply.started": "2021-09-27T22:12:29.454208Z"
    },
    "executionInfo": {
     "elapsed": 60,
     "status": "ok",
     "timestamp": 1632342367342,
     "user": {
      "displayName": "junior bueno",
      "photoUrl": "https://lh3.googleusercontent.com/a-/AOh14GhOPf8Uzb8OInVUJ8cenIYMk58mqjaiTlroJoQXmg=s64",
      "userId": "07862107075158255468"
     },
     "user_tz": 180
    },
    "id": "fmllT2bm_UDC",
    "outputId": "5b0f84ab-a108-47fe-f3f2-b20429eb89e8",
    "papermill": {
     "duration": 0.128529,
     "end_time": "2021-10-02T01:04:09.465756",
     "exception": false,
     "start_time": "2021-10-02T01:04:09.337227",
     "status": "completed"
    },
    "tags": []
   },
   "outputs": [
    {
     "data": {
      "text/plain": [
       "0.9812923450298312"
      ]
     },
     "execution_count": 58,
     "metadata": {},
     "output_type": "execute_result"
    }
   ],
   "source": [
    "f1_score(y_test, y_pred, average='macro')    "
   ]
  },
  {
   "cell_type": "code",
   "execution_count": 59,
   "id": "cf25d51b",
   "metadata": {
    "execution": {
     "iopub.execute_input": "2021-10-02T01:04:09.708051Z",
     "iopub.status.busy": "2021-10-02T01:04:09.706941Z",
     "iopub.status.idle": "2021-10-02T01:04:09.715423Z",
     "shell.execute_reply": "2021-10-02T01:04:09.714882Z",
     "shell.execute_reply.started": "2021-09-27T22:12:29.464961Z"
    },
    "executionInfo": {
     "elapsed": 55,
     "status": "ok",
     "timestamp": 1632342367343,
     "user": {
      "displayName": "junior bueno",
      "photoUrl": "https://lh3.googleusercontent.com/a-/AOh14GhOPf8Uzb8OInVUJ8cenIYMk58mqjaiTlroJoQXmg=s64",
      "userId": "07862107075158255468"
     },
     "user_tz": 180
    },
    "id": "ZSj_Rtix_Zr6",
    "outputId": "9a73454d-3ba2-4351-8a6e-044b91a89968",
    "papermill": {
     "duration": 0.132385,
     "end_time": "2021-10-02T01:04:09.715566",
     "exception": false,
     "start_time": "2021-10-02T01:04:09.583181",
     "status": "completed"
    },
    "tags": []
   },
   "outputs": [
    {
     "name": "stdout",
     "output_type": "stream",
     "text": [
      "              precision    recall  f1-score   support\n",
      "\n",
      "           0       1.00      0.93      0.97        15\n",
      "           1       0.99      1.00      1.00       170\n",
      "\n",
      "    accuracy                           0.99       185\n",
      "   macro avg       1.00      0.97      0.98       185\n",
      "weighted avg       0.99      0.99      0.99       185\n",
      "\n"
     ]
    }
   ],
   "source": [
    "print(classification_report(y_test, y_pred))"
   ]
  },
  {
   "cell_type": "code",
   "execution_count": null,
   "id": "f135e569",
   "metadata": {
    "executionInfo": {
     "elapsed": 50,
     "status": "ok",
     "timestamp": 1632342367343,
     "user": {
      "displayName": "junior bueno",
      "photoUrl": "https://lh3.googleusercontent.com/a-/AOh14GhOPf8Uzb8OInVUJ8cenIYMk58mqjaiTlroJoQXmg=s64",
      "userId": "07862107075158255468"
     },
     "user_tz": 180
    },
    "id": "RvnVychz_eBi",
    "papermill": {
     "duration": 0.118356,
     "end_time": "2021-10-02T01:04:09.955929",
     "exception": false,
     "start_time": "2021-10-02T01:04:09.837573",
     "status": "completed"
    },
    "tags": []
   },
   "outputs": [],
   "source": []
  },
  {
   "cell_type": "markdown",
   "id": "091aa609",
   "metadata": {
    "id": "ZNDph4CJ_yfi",
    "papermill": {
     "duration": 0.117694,
     "end_time": "2021-10-02T01:04:10.193005",
     "exception": false,
     "start_time": "2021-10-02T01:04:10.075311",
     "status": "completed"
    },
    "tags": []
   },
   "source": [
    "# **Random forest**"
   ]
  },
  {
   "cell_type": "code",
   "execution_count": 60,
   "id": "2afcaf3a",
   "metadata": {
    "execution": {
     "iopub.execute_input": "2021-10-02T01:04:10.433279Z",
     "iopub.status.busy": "2021-10-02T01:04:10.432433Z",
     "iopub.status.idle": "2021-10-02T01:04:10.540421Z",
     "shell.execute_reply": "2021-10-02T01:04:10.539823Z",
     "shell.execute_reply.started": "2021-09-27T22:12:29.477642Z"
    },
    "executionInfo": {
     "elapsed": 50,
     "status": "ok",
     "timestamp": 1632342367344,
     "user": {
      "displayName": "junior bueno",
      "photoUrl": "https://lh3.googleusercontent.com/a-/AOh14GhOPf8Uzb8OInVUJ8cenIYMk58mqjaiTlroJoQXmg=s64",
      "userId": "07862107075158255468"
     },
     "user_tz": 180
    },
    "id": "bv6IleH6_3aB",
    "papermill": {
     "duration": 0.229816,
     "end_time": "2021-10-02T01:04:10.540567",
     "exception": false,
     "start_time": "2021-10-02T01:04:10.310751",
     "status": "completed"
    },
    "tags": []
   },
   "outputs": [],
   "source": [
    "from sklearn.ensemble import RandomForestClassifier  "
   ]
  },
  {
   "cell_type": "code",
   "execution_count": 61,
   "id": "0774998b",
   "metadata": {
    "execution": {
     "iopub.execute_input": "2021-10-02T01:04:10.785277Z",
     "iopub.status.busy": "2021-10-02T01:04:10.784509Z",
     "iopub.status.idle": "2021-10-02T01:04:10.993337Z",
     "shell.execute_reply": "2021-10-02T01:04:10.992716Z",
     "shell.execute_reply.started": "2021-09-27T22:12:29.584864Z"
    },
    "executionInfo": {
     "elapsed": 51,
     "status": "ok",
     "timestamp": 1632342367345,
     "user": {
      "displayName": "junior bueno",
      "photoUrl": "https://lh3.googleusercontent.com/a-/AOh14GhOPf8Uzb8OInVUJ8cenIYMk58mqjaiTlroJoQXmg=s64",
      "userId": "07862107075158255468"
     },
     "user_tz": 180
    },
    "id": "cRg_risoTGut",
    "outputId": "e8e40715-da92-44c8-a7ec-07ca10922e26",
    "papermill": {
     "duration": 0.333454,
     "end_time": "2021-10-02T01:04:10.993483",
     "exception": false,
     "start_time": "2021-10-02T01:04:10.660029",
     "status": "completed"
    },
    "tags": []
   },
   "outputs": [
    {
     "data": {
      "text/plain": [
       "RandomForestClassifier()"
      ]
     },
     "execution_count": 61,
     "metadata": {},
     "output_type": "execute_result"
    }
   ],
   "source": [
    "forest = RandomForestClassifier()\n",
    "forest.fit(X_train, y_train)"
   ]
  },
  {
   "cell_type": "code",
   "execution_count": 62,
   "id": "2f56155c",
   "metadata": {
    "execution": {
     "iopub.execute_input": "2021-10-02T01:04:11.240498Z",
     "iopub.status.busy": "2021-10-02T01:04:11.239718Z",
     "iopub.status.idle": "2021-10-02T01:04:11.253167Z",
     "shell.execute_reply": "2021-10-02T01:04:11.252532Z",
     "shell.execute_reply.started": "2021-09-27T22:12:29.818689Z"
    },
    "executionInfo": {
     "elapsed": 45,
     "status": "ok",
     "timestamp": 1632342367345,
     "user": {
      "displayName": "junior bueno",
      "photoUrl": "https://lh3.googleusercontent.com/a-/AOh14GhOPf8Uzb8OInVUJ8cenIYMk58mqjaiTlroJoQXmg=s64",
      "userId": "07862107075158255468"
     },
     "user_tz": 180
    },
    "id": "DaUKs9Q3TJRl",
    "papermill": {
     "duration": 0.141505,
     "end_time": "2021-10-02T01:04:11.253343",
     "exception": false,
     "start_time": "2021-10-02T01:04:11.111838",
     "status": "completed"
    },
    "tags": []
   },
   "outputs": [],
   "source": [
    "y_pred = forest.predict(X_test)"
   ]
  },
  {
   "cell_type": "code",
   "execution_count": 63,
   "id": "ead5cdb9",
   "metadata": {
    "execution": {
     "iopub.execute_input": "2021-10-02T01:04:11.496532Z",
     "iopub.status.busy": "2021-10-02T01:04:11.495572Z",
     "iopub.status.idle": "2021-10-02T01:04:11.499752Z",
     "shell.execute_reply": "2021-10-02T01:04:11.499062Z",
     "shell.execute_reply.started": "2021-09-27T22:12:29.841847Z"
    },
    "executionInfo": {
     "elapsed": 45,
     "status": "ok",
     "timestamp": 1632342367346,
     "user": {
      "displayName": "junior bueno",
      "photoUrl": "https://lh3.googleusercontent.com/a-/AOh14GhOPf8Uzb8OInVUJ8cenIYMk58mqjaiTlroJoQXmg=s64",
      "userId": "07862107075158255468"
     },
     "user_tz": 180
    },
    "id": "gLEOgzSTTbCF",
    "outputId": "684cd140-b725-4ab8-c98c-80db3744e85c",
    "papermill": {
     "duration": 0.128013,
     "end_time": "2021-10-02T01:04:11.499917",
     "exception": false,
     "start_time": "2021-10-02T01:04:11.371904",
     "status": "completed"
    },
    "tags": []
   },
   "outputs": [
    {
     "data": {
      "text/plain": [
       "array([1, 1, 1, 1, 1, 1, 1, 1, 1, 1, 1, 1, 1, 1, 0, 1, 1, 1, 0, 1, 1, 1,\n",
       "       1, 1, 1, 1, 1, 1, 0, 1, 1, 0, 1, 1, 1, 1, 1, 1, 1, 1, 1, 1, 1, 1,\n",
       "       1, 1, 1, 1, 0, 1, 1, 0, 1, 1, 1, 1, 1, 1, 1, 1, 1, 1, 1, 1, 1, 1,\n",
       "       1, 1, 1, 1, 1, 1, 1, 1, 1, 1, 1, 1, 1, 1, 1, 1, 1, 1, 1, 1, 1, 1,\n",
       "       1, 1, 1, 1, 1, 0, 1, 1, 1, 1, 1, 0, 0, 1, 1, 1, 1, 1, 1, 1, 1, 0,\n",
       "       1, 1, 1, 1, 1, 1, 1, 1, 1, 1, 1, 1, 1, 1, 1, 1, 1, 1, 1, 1, 1, 1,\n",
       "       1, 1, 1, 1, 1, 1, 1, 1, 1, 1, 1, 1, 1, 1, 1, 0, 1, 1, 1, 1, 1, 0,\n",
       "       1, 1, 1, 1, 1, 1, 1, 1, 1, 1, 1, 1, 1, 1, 1, 1, 1, 0, 1, 0, 1, 1,\n",
       "       1, 1, 1, 1, 1, 1, 1, 1, 1])"
      ]
     },
     "execution_count": 63,
     "metadata": {},
     "output_type": "execute_result"
    }
   ],
   "source": [
    "y_pred"
   ]
  },
  {
   "cell_type": "code",
   "execution_count": 64,
   "id": "f880c4d1",
   "metadata": {
    "execution": {
     "iopub.execute_input": "2021-10-02T01:04:11.745512Z",
     "iopub.status.busy": "2021-10-02T01:04:11.744546Z",
     "iopub.status.idle": "2021-10-02T01:04:11.749091Z",
     "shell.execute_reply": "2021-10-02T01:04:11.748459Z",
     "shell.execute_reply.started": "2021-09-27T22:12:29.84994Z"
    },
    "executionInfo": {
     "elapsed": 40,
     "status": "ok",
     "timestamp": 1632342367346,
     "user": {
      "displayName": "junior bueno",
      "photoUrl": "https://lh3.googleusercontent.com/a-/AOh14GhOPf8Uzb8OInVUJ8cenIYMk58mqjaiTlroJoQXmg=s64",
      "userId": "07862107075158255468"
     },
     "user_tz": 180
    },
    "id": "1Eg_a7FgTdfX",
    "outputId": "7d7d2f24-4b7d-4339-d9a7-58fc84273a46",
    "papermill": {
     "duration": 0.129953,
     "end_time": "2021-10-02T01:04:11.749253",
     "exception": false,
     "start_time": "2021-10-02T01:04:11.619300",
     "status": "completed"
    },
    "tags": []
   },
   "outputs": [
    {
     "data": {
      "text/plain": [
       "0.9945945945945946"
      ]
     },
     "execution_count": 64,
     "metadata": {},
     "output_type": "execute_result"
    }
   ],
   "source": [
    "accuracy_score(y_test, y_pred)"
   ]
  },
  {
   "cell_type": "code",
   "execution_count": 65,
   "id": "1bba03bb",
   "metadata": {
    "execution": {
     "iopub.execute_input": "2021-10-02T01:04:12.018689Z",
     "iopub.status.busy": "2021-10-02T01:04:12.016603Z",
     "iopub.status.idle": "2021-10-02T01:04:12.024605Z",
     "shell.execute_reply": "2021-10-02T01:04:12.024070Z",
     "shell.execute_reply.started": "2021-09-27T22:12:29.861031Z"
    },
    "executionInfo": {
     "elapsed": 32,
     "status": "ok",
     "timestamp": 1632342367346,
     "user": {
      "displayName": "junior bueno",
      "photoUrl": "https://lh3.googleusercontent.com/a-/AOh14GhOPf8Uzb8OInVUJ8cenIYMk58mqjaiTlroJoQXmg=s64",
      "userId": "07862107075158255468"
     },
     "user_tz": 180
    },
    "id": "nJjgD9lfTgyO",
    "outputId": "0ff48213-1608-4c5d-f798-0de07d44e801",
    "papermill": {
     "duration": 0.141567,
     "end_time": "2021-10-02T01:04:12.024761",
     "exception": false,
     "start_time": "2021-10-02T01:04:11.883194",
     "status": "completed"
    },
    "tags": []
   },
   "outputs": [
    {
     "data": {
      "text/plain": [
       "array([[ 14,   0],\n",
       "       [  1, 170]])"
      ]
     },
     "execution_count": 65,
     "metadata": {},
     "output_type": "execute_result"
    }
   ],
   "source": [
    "cm = confusion_matrix(y_pred, y_test)\n",
    "cm"
   ]
  },
  {
   "cell_type": "code",
   "execution_count": 66,
   "id": "3a5b0acb",
   "metadata": {
    "_kg_hide-input": false,
    "_kg_hide-output": false,
    "execution": {
     "iopub.execute_input": "2021-10-02T01:04:12.298310Z",
     "iopub.status.busy": "2021-10-02T01:04:12.290426Z",
     "iopub.status.idle": "2021-10-02T01:04:12.530821Z",
     "shell.execute_reply": "2021-10-02T01:04:12.531293Z",
     "shell.execute_reply.started": "2021-09-27T22:12:29.878666Z"
    },
    "executionInfo": {
     "elapsed": 27,
     "status": "ok",
     "timestamp": 1632342367347,
     "user": {
      "displayName": "junior bueno",
      "photoUrl": "https://lh3.googleusercontent.com/a-/AOh14GhOPf8Uzb8OInVUJ8cenIYMk58mqjaiTlroJoQXmg=s64",
      "userId": "07862107075158255468"
     },
     "user_tz": 180
    },
    "id": "tdKqAAsRTkX9",
    "outputId": "353b2baa-a044-4e52-ca9f-361a966aa3ff",
    "papermill": {
     "duration": 0.386514,
     "end_time": "2021-10-02T01:04:12.531471",
     "exception": false,
     "start_time": "2021-10-02T01:04:12.144957",
     "status": "completed"
    },
    "tags": []
   },
   "outputs": [
    {
     "data": {
      "image/png": "[encoded data removed]",
      "text/plain": [
       "<Figure size 432x288 with 2 Axes>"
      ]
     },
     "metadata": {
      "needs_background": "light"
     },
     "output_type": "display_data"
    }
   ],
   "source": [
    "sns.heatmap(cm, annot=True);"
   ]
  },
  {
   "cell_type": "code",
   "execution_count": 67,
   "id": "5c650112",
   "metadata": {
    "execution": {
     "iopub.execute_input": "2021-10-02T01:04:12.778330Z",
     "iopub.status.busy": "2021-10-02T01:04:12.777307Z",
     "iopub.status.idle": "2021-10-02T01:04:12.785581Z",
     "shell.execute_reply": "2021-10-02T01:04:12.784875Z",
     "shell.execute_reply.started": "2021-09-27T22:12:30.132875Z"
    },
    "executionInfo": {
     "elapsed": 26,
     "status": "ok",
     "timestamp": 1632342367347,
     "user": {
      "displayName": "junior bueno",
      "photoUrl": "https://lh3.googleusercontent.com/a-/AOh14GhOPf8Uzb8OInVUJ8cenIYMk58mqjaiTlroJoQXmg=s64",
      "userId": "07862107075158255468"
     },
     "user_tz": 180
    },
    "id": "iHB34NhYTn-l",
    "outputId": "3ed08e46-e8a0-4f16-c094-12537e3d1eb0",
    "papermill": {
     "duration": 0.134356,
     "end_time": "2021-10-02T01:04:12.785749",
     "exception": false,
     "start_time": "2021-10-02T01:04:12.651393",
     "status": "completed"
    },
    "tags": []
   },
   "outputs": [
    {
     "name": "stdout",
     "output_type": "stream",
     "text": [
      "              precision    recall  f1-score   support\n",
      "\n",
      "           0       1.00      0.93      0.97        15\n",
      "           1       0.99      1.00      1.00       170\n",
      "\n",
      "    accuracy                           0.99       185\n",
      "   macro avg       1.00      0.97      0.98       185\n",
      "weighted avg       0.99      0.99      0.99       185\n",
      "\n"
     ]
    }
   ],
   "source": [
    "print(classification_report(y_test, y_pred))"
   ]
  },
  {
   "cell_type": "code",
   "execution_count": null,
   "id": "9ca635cd",
   "metadata": {
    "executionInfo": {
     "elapsed": 17,
     "status": "ok",
     "timestamp": 1632342367347,
     "user": {
      "displayName": "junior bueno",
      "photoUrl": "https://lh3.googleusercontent.com/a-/AOh14GhOPf8Uzb8OInVUJ8cenIYMk58mqjaiTlroJoQXmg=s64",
      "userId": "07862107075158255468"
     },
     "user_tz": 180
    },
    "id": "IjSimxdSTst9",
    "papermill": {
     "duration": 0.123225,
     "end_time": "2021-10-02T01:04:13.031532",
     "exception": false,
     "start_time": "2021-10-02T01:04:12.908307",
     "status": "completed"
    },
    "tags": []
   },
   "outputs": [],
   "source": []
  },
  {
   "cell_type": "markdown",
   "id": "9df6b6c9",
   "metadata": {
    "id": "_T11Q-SaT3jZ",
    "papermill": {
     "duration": 0.120778,
     "end_time": "2021-10-02T01:04:13.275110",
     "exception": false,
     "start_time": "2021-10-02T01:04:13.154332",
     "status": "completed"
    },
    "tags": []
   },
   "source": [
    "# Redes Neurais\n",
    "\n",
    "# Neural networks"
   ]
  },
  {
   "cell_type": "code",
   "execution_count": 68,
   "id": "d0f8df57",
   "metadata": {
    "execution": {
     "iopub.execute_input": "2021-10-02T01:04:13.522749Z",
     "iopub.status.busy": "2021-10-02T01:04:13.521891Z",
     "iopub.status.idle": "2021-10-02T01:04:13.525029Z",
     "shell.execute_reply": "2021-10-02T01:04:13.524498Z",
     "shell.execute_reply.started": "2021-09-27T22:20:17.274593Z"
    },
    "executionInfo": {
     "elapsed": 1628,
     "status": "ok",
     "timestamp": 1632342368958,
     "user": {
      "displayName": "junior bueno",
      "photoUrl": "https://lh3.googleusercontent.com/a-/AOh14GhOPf8Uzb8OInVUJ8cenIYMk58mqjaiTlroJoQXmg=s64",
      "userId": "07862107075158255468"
     },
     "user_tz": 180
    },
    "id": "eiQM86igT6Ma",
    "papermill": {
     "duration": 0.129076,
     "end_time": "2021-10-02T01:04:13.525180",
     "exception": false,
     "start_time": "2021-10-02T01:04:13.396104",
     "status": "completed"
    },
    "tags": []
   },
   "outputs": [],
   "source": [
    "import tensorflow as tf\n",
    "\n"
   ]
  },
  {
   "cell_type": "code",
   "execution_count": 69,
   "id": "41a2f7bf",
   "metadata": {
    "execution": {
     "iopub.execute_input": "2021-10-02T01:04:13.778904Z",
     "iopub.status.busy": "2021-10-02T01:04:13.778075Z",
     "iopub.status.idle": "2021-10-02T01:04:13.781597Z",
     "shell.execute_reply": "2021-10-02T01:04:13.782125Z",
     "shell.execute_reply.started": "2021-09-27T22:20:21.625792Z"
    },
    "executionInfo": {
     "elapsed": 21,
     "status": "ok",
     "timestamp": 1632342368958,
     "user": {
      "displayName": "junior bueno",
      "photoUrl": "https://lh3.googleusercontent.com/a-/AOh14GhOPf8Uzb8OInVUJ8cenIYMk58mqjaiTlroJoQXmg=s64",
      "userId": "07862107075158255468"
     },
     "user_tz": 180
    },
    "id": "yundayhNT8rf",
    "outputId": "ecb370c0-8e1b-41fc-d49d-51eea27c3997",
    "papermill": {
     "duration": 0.131852,
     "end_time": "2021-10-02T01:04:13.782313",
     "exception": false,
     "start_time": "2021-10-02T01:04:13.650461",
     "status": "completed"
    },
    "tags": []
   },
   "outputs": [
    {
     "data": {
      "text/plain": [
       "(555, 84)"
      ]
     },
     "execution_count": 69,
     "metadata": {},
     "output_type": "execute_result"
    }
   ],
   "source": [
    "X_train.shape"
   ]
  },
  {
   "cell_type": "code",
   "execution_count": 70,
   "id": "ef747daa",
   "metadata": {
    "execution": {
     "iopub.execute_input": "2021-10-02T01:04:14.034530Z",
     "iopub.status.busy": "2021-10-02T01:04:14.033475Z",
     "iopub.status.idle": "2021-10-02T01:04:14.138667Z",
     "shell.execute_reply": "2021-10-02T01:04:14.138018Z",
     "shell.execute_reply.started": "2021-09-27T22:20:23.674356Z"
    },
    "executionInfo": {
     "elapsed": 1668,
     "status": "ok",
     "timestamp": 1632342370614,
     "user": {
      "displayName": "junior bueno",
      "photoUrl": "https://lh3.googleusercontent.com/a-/AOh14GhOPf8Uzb8OInVUJ8cenIYMk58mqjaiTlroJoQXmg=s64",
      "userId": "07862107075158255468"
     },
     "user_tz": 180
    },
    "id": "0fmM8_V7T-_V",
    "papermill": {
     "duration": 0.235437,
     "end_time": "2021-10-02T01:04:14.138828",
     "exception": false,
     "start_time": "2021-10-02T01:04:13.903391",
     "status": "completed"
    },
    "tags": []
   },
   "outputs": [
    {
     "name": "stderr",
     "output_type": "stream",
     "text": [
      "2021-10-02 01:04:14.046029: I tensorflow/compiler/jit/xla_cpu_device.cc:41] Not creating XLA devices, tf_xla_enable_xla_devices not set\n",
      "2021-10-02 01:04:14.049046: W tensorflow/stream_executor/platform/default/dso_loader.cc:60] Could not load dynamic library 'libcuda.so.1'; dlerror: libcuda.so.1: cannot open shared object file: No such file or directory; LD_LIBRARY_PATH: /opt/conda/lib\n",
      "2021-10-02 01:04:14.049088: W tensorflow/stream_executor/cuda/cuda_driver.cc:326] failed call to cuInit: UNKNOWN ERROR (303)\n",
      "2021-10-02 01:04:14.049114: I tensorflow/stream_executor/cuda/cuda_diagnostics.cc:156] kernel driver does not appear to be running on this host (41d858c208e9): /proc/driver/nvidia/version does not exist\n",
      "2021-10-02 01:04:14.049471: I tensorflow/core/platform/cpu_feature_guard.cc:142] This TensorFlow binary is optimized with oneAPI Deep Neural Network Library (oneDNN) to use the following CPU instructions in performance-critical operations:  AVX2 FMA\n",
      "To enable them in other operations, rebuild TensorFlow with the appropriate compiler flags.\n",
      "2021-10-02 01:04:14.049818: I tensorflow/compiler/jit/xla_gpu_device.cc:99] Not creating XLA devices, tf_xla_enable_xla_devices not set\n"
     ]
    }
   ],
   "source": [
    "rede_neural = tf.keras.models.Sequential()  \n",
    "\n",
    "rede_neural.add(tf.keras.layers.Dense(units = 42, activation='relu', input_shape=(84,))) \n",
    "rede_neural.add(tf.keras.layers.Dense(units = 42, activation = 'relu')) \n",
    "rede_neural.add(tf.keras.layers.Dense(units = 42, activation = 'relu'))\n",
    "rede_neural.add(tf.keras.layers.Dense(units = 1, activation = 'sigmoid'))  \n"
   ]
  },
  {
   "cell_type": "code",
   "execution_count": 71,
   "id": "0fcd3ea4",
   "metadata": {
    "execution": {
     "iopub.execute_input": "2021-10-02T01:04:14.388479Z",
     "iopub.status.busy": "2021-10-02T01:04:14.387715Z",
     "iopub.status.idle": "2021-10-02T01:04:14.393883Z",
     "shell.execute_reply": "2021-10-02T01:04:14.392945Z",
     "shell.execute_reply.started": "2021-09-27T22:20:43.991773Z"
    },
    "executionInfo": {
     "elapsed": 14,
     "status": "ok",
     "timestamp": 1632342370615,
     "user": {
      "displayName": "junior bueno",
      "photoUrl": "https://lh3.googleusercontent.com/a-/AOh14GhOPf8Uzb8OInVUJ8cenIYMk58mqjaiTlroJoQXmg=s64",
      "userId": "07862107075158255468"
     },
     "user_tz": 180
    },
    "id": "IZvoxHTVU5re",
    "outputId": "3583b1af-44e2-4bc9-8432-b25ad1de90a3",
    "papermill": {
     "duration": 0.13399,
     "end_time": "2021-10-02T01:04:14.394082",
     "exception": false,
     "start_time": "2021-10-02T01:04:14.260092",
     "status": "completed"
    },
    "tags": []
   },
   "outputs": [
    {
     "name": "stdout",
     "output_type": "stream",
     "text": [
      "Model: \"sequential\"\n",
      "_________________________________________________________________\n",
      "Layer (type)                 Output Shape              Param #   \n",
      "=================================================================\n",
      "dense (Dense)                (None, 42)                3570      \n",
      "_________________________________________________________________\n",
      "dense_1 (Dense)              (None, 42)                1806      \n",
      "_________________________________________________________________\n",
      "dense_2 (Dense)              (None, 42)                1806      \n",
      "_________________________________________________________________\n",
      "dense_3 (Dense)              (None, 1)                 43        \n",
      "=================================================================\n",
      "Total params: 7,225\n",
      "Trainable params: 7,225\n",
      "Non-trainable params: 0\n",
      "_________________________________________________________________\n"
     ]
    }
   ],
   "source": [
    "rede_neural.summary()"
   ]
  },
  {
   "cell_type": "code",
   "execution_count": 72,
   "id": "c6c3c5c9",
   "metadata": {
    "execution": {
     "iopub.execute_input": "2021-10-02T01:04:14.649305Z",
     "iopub.status.busy": "2021-10-02T01:04:14.644030Z",
     "iopub.status.idle": "2021-10-02T01:04:14.658582Z",
     "shell.execute_reply": "2021-10-02T01:04:14.658046Z",
     "shell.execute_reply.started": "2021-09-27T22:21:38.432582Z"
    },
    "executionInfo": {
     "elapsed": 9,
     "status": "ok",
     "timestamp": 1632342370615,
     "user": {
      "displayName": "junior bueno",
      "photoUrl": "https://lh3.googleusercontent.com/a-/AOh14GhOPf8Uzb8OInVUJ8cenIYMk58mqjaiTlroJoQXmg=s64",
      "userId": "07862107075158255468"
     },
     "user_tz": 180
    },
    "id": "zi0b30hRU6T2",
    "papermill": {
     "duration": 0.142259,
     "end_time": "2021-10-02T01:04:14.658747",
     "exception": false,
     "start_time": "2021-10-02T01:04:14.516488",
     "status": "completed"
    },
    "tags": []
   },
   "outputs": [],
   "source": [
    "rede_neural.compile(optimizer='Adam', loss='binary_crossentropy', metrics = ['accuracy']) "
   ]
  },
  {
   "cell_type": "code",
   "execution_count": 73,
   "id": "0a708580",
   "metadata": {
    "execution": {
     "iopub.execute_input": "2021-10-02T01:04:14.911683Z",
     "iopub.status.busy": "2021-10-02T01:04:14.908566Z",
     "iopub.status.idle": "2021-10-02T01:04:18.905681Z",
     "shell.execute_reply": "2021-10-02T01:04:18.906182Z",
     "shell.execute_reply.started": "2021-09-27T22:21:42.890378Z"
    },
    "executionInfo": {
     "elapsed": 3874,
     "status": "ok",
     "timestamp": 1632342374481,
     "user": {
      "displayName": "junior bueno",
      "photoUrl": "https://lh3.googleusercontent.com/a-/AOh14GhOPf8Uzb8OInVUJ8cenIYMk58mqjaiTlroJoQXmg=s64",
      "userId": "07862107075158255468"
     },
     "user_tz": 180
    },
    "id": "4VQyIlDcU-9G",
    "outputId": "a60cd997-65bb-4477-aa42-c69f88ccde88",
    "papermill": {
     "duration": 4.125474,
     "end_time": "2021-10-02T01:04:18.906370",
     "exception": false,
     "start_time": "2021-10-02T01:04:14.780896",
     "status": "completed"
    },
    "tags": []
   },
   "outputs": [
    {
     "name": "stderr",
     "output_type": "stream",
     "text": [
      "2021-10-02 01:04:15.002752: I tensorflow/compiler/mlir/mlir_graph_optimization_pass.cc:116] None of the MLIR optimization passes are enabled (registered 2)\n",
      "2021-10-02 01:04:15.016828: I tensorflow/core/platform/profile_utils/cpu_utils.cc:112] CPU Frequency: 2199995000 Hz\n"
     ]
    },
    {
     "name": "stdout",
     "output_type": "stream",
     "text": [
      "Epoch 1/100\n",
      "18/18 [==============================] - 1s 1ms/step - loss: 0.6976 - accuracy: 0.4597\n",
      "Epoch 2/100\n",
      "18/18 [==============================] - 0s 1ms/step - loss: 0.3991 - accuracy: 0.9489\n",
      "Epoch 3/100\n",
      "18/18 [==============================] - 0s 1ms/step - loss: 0.1801 - accuracy: 0.9531\n",
      "Epoch 4/100\n",
      "18/18 [==============================] - 0s 2ms/step - loss: 0.1756 - accuracy: 0.9413\n",
      "Epoch 5/100\n",
      "18/18 [==============================] - 0s 2ms/step - loss: 0.0874 - accuracy: 0.9658\n",
      "Epoch 6/100\n",
      "18/18 [==============================] - 0s 2ms/step - loss: 0.1285 - accuracy: 0.9376\n",
      "Epoch 7/100\n",
      "18/18 [==============================] - 0s 2ms/step - loss: 0.0998 - accuracy: 0.9420\n",
      "Epoch 8/100\n",
      "18/18 [==============================] - 0s 2ms/step - loss: 0.0839 - accuracy: 0.9486\n",
      "Epoch 9/100\n",
      "18/18 [==============================] - 0s 2ms/step - loss: 0.0793 - accuracy: 0.9713\n",
      "Epoch 10/100\n",
      "18/18 [==============================] - 0s 2ms/step - loss: 0.0375 - accuracy: 0.9954\n",
      "Epoch 11/100\n",
      "18/18 [==============================] - 0s 2ms/step - loss: 0.0366 - accuracy: 0.9948\n",
      "Epoch 12/100\n",
      "18/18 [==============================] - 0s 2ms/step - loss: 0.0242 - accuracy: 0.9967\n",
      "Epoch 13/100\n",
      "18/18 [==============================] - 0s 2ms/step - loss: 0.0185 - accuracy: 0.9933\n",
      "Epoch 14/100\n",
      "18/18 [==============================] - 0s 2ms/step - loss: 0.0131 - accuracy: 0.9981\n",
      "Epoch 15/100\n",
      "18/18 [==============================] - 0s 2ms/step - loss: 0.0171 - accuracy: 0.9964\n",
      "Epoch 16/100\n",
      "18/18 [==============================] - 0s 2ms/step - loss: 0.0128 - accuracy: 0.9984\n",
      "Epoch 17/100\n",
      "18/18 [==============================] - 0s 2ms/step - loss: 0.0056 - accuracy: 0.9997\n",
      "Epoch 18/100\n",
      "18/18 [==============================] - 0s 2ms/step - loss: 0.0044 - accuracy: 0.9995\n",
      "Epoch 19/100\n",
      "18/18 [==============================] - 0s 2ms/step - loss: 0.0079 - accuracy: 0.9988\n",
      "Epoch 20/100\n",
      "18/18 [==============================] - 0s 2ms/step - loss: 0.0152 - accuracy: 0.9966\n",
      "Epoch 21/100\n",
      "18/18 [==============================] - 0s 2ms/step - loss: 0.0159 - accuracy: 0.9966\n",
      "Epoch 22/100\n",
      "18/18 [==============================] - 0s 2ms/step - loss: 0.0065 - accuracy: 0.9990\n",
      "Epoch 23/100\n",
      "18/18 [==============================] - 0s 2ms/step - loss: 0.0162 - accuracy: 0.9966\n",
      "Epoch 24/100\n",
      "18/18 [==============================] - 0s 2ms/step - loss: 0.0089 - accuracy: 0.9984\n",
      "Epoch 25/100\n",
      "18/18 [==============================] - 0s 2ms/step - loss: 0.0054 - accuracy: 0.9991\n",
      "Epoch 26/100\n",
      "18/18 [==============================] - 0s 2ms/step - loss: 0.0050 - accuracy: 0.9993\n",
      "Epoch 27/100\n",
      "18/18 [==============================] - 0s 2ms/step - loss: 0.0074 - accuracy: 0.9986\n",
      "Epoch 28/100\n",
      "18/18 [==============================] - 0s 2ms/step - loss: 0.0116 - accuracy: 0.9976\n",
      "Epoch 29/100\n",
      "18/18 [==============================] - 0s 2ms/step - loss: 0.0130 - accuracy: 0.9972\n",
      "Epoch 30/100\n",
      "18/18 [==============================] - 0s 2ms/step - loss: 0.0085 - accuracy: 0.9984\n",
      "Epoch 31/100\n",
      "18/18 [==============================] - 0s 2ms/step - loss: 0.0100 - accuracy: 0.9979\n",
      "Epoch 32/100\n",
      "18/18 [==============================] - 0s 2ms/step - loss: 0.0180 - accuracy: 0.9958\n",
      "Epoch 33/100\n",
      "18/18 [==============================] - 0s 2ms/step - loss: 0.0035 - accuracy: 0.9996\n",
      "Epoch 34/100\n",
      "18/18 [==============================] - 0s 2ms/step - loss: 0.0032 - accuracy: 0.9995\n",
      "Epoch 35/100\n",
      "18/18 [==============================] - 0s 2ms/step - loss: 0.0072 - accuracy: 0.9986\n",
      "Epoch 36/100\n",
      "18/18 [==============================] - 0s 2ms/step - loss: 0.0044 - accuracy: 0.9995\n",
      "Epoch 37/100\n",
      "18/18 [==============================] - 0s 2ms/step - loss: 0.0083 - accuracy: 0.9984\n",
      "Epoch 38/100\n",
      "18/18 [==============================] - 0s 2ms/step - loss: 0.0130 - accuracy: 0.9972\n",
      "Epoch 39/100\n",
      "18/18 [==============================] - 0s 2ms/step - loss: 0.0071 - accuracy: 0.9986\n",
      "Epoch 40/100\n",
      "18/18 [==============================] - 0s 2ms/step - loss: 0.0045 - accuracy: 0.9995\n",
      "Epoch 41/100\n",
      "18/18 [==============================] - 0s 2ms/step - loss: 0.0116 - accuracy: 0.9976\n",
      "Epoch 42/100\n",
      "18/18 [==============================] - 0s 2ms/step - loss: 0.0129 - accuracy: 0.9972\n",
      "Epoch 43/100\n",
      "18/18 [==============================] - 0s 2ms/step - loss: 0.0051 - accuracy: 0.9993\n",
      "Epoch 44/100\n",
      "18/18 [==============================] - 0s 2ms/step - loss: 0.0272 - accuracy: 0.9942\n",
      "Epoch 45/100\n",
      "18/18 [==============================] - 0s 1ms/step - loss: 0.0090 - accuracy: 0.9982\n",
      "Epoch 46/100\n",
      "18/18 [==============================] - 0s 2ms/step - loss: 0.0061 - accuracy: 0.9990\n",
      "Epoch 47/100\n",
      "18/18 [==============================] - 0s 2ms/step - loss: 0.0045 - accuracy: 0.9993\n",
      "Epoch 48/100\n",
      "18/18 [==============================] - 0s 1ms/step - loss: 0.0035 - accuracy: 0.9996\n",
      "Epoch 49/100\n",
      "18/18 [==============================] - 0s 1ms/step - loss: 0.0193 - accuracy: 0.9958\n",
      "Epoch 50/100\n",
      "18/18 [==============================] - 0s 1ms/step - loss: 0.0102 - accuracy: 0.9979\n",
      "Epoch 51/100\n",
      "18/18 [==============================] - 0s 1ms/step - loss: 0.0049 - accuracy: 0.9994\n",
      "Epoch 52/100\n",
      "18/18 [==============================] - 0s 1ms/step - loss: 0.0034 - accuracy: 0.9995\n",
      "Epoch 53/100\n",
      "18/18 [==============================] - 0s 1ms/step - loss: 0.0063 - accuracy: 0.9988\n",
      "Epoch 54/100\n",
      "18/18 [==============================] - 0s 1ms/step - loss: 0.0086 - accuracy: 0.9984\n",
      "Epoch 55/100\n",
      "18/18 [==============================] - 0s 1ms/step - loss: 0.0229 - accuracy: 0.9942\n",
      "Epoch 56/100\n",
      "18/18 [==============================] - 0s 1ms/step - loss: 0.0030 - accuracy: 0.9996\n",
      "Epoch 57/100\n",
      "18/18 [==============================] - 0s 1ms/step - loss: 0.0030 - accuracy: 0.9995\n",
      "Epoch 58/100\n",
      "18/18 [==============================] - 0s 2ms/step - loss: 0.0046 - accuracy: 0.9993\n",
      "Epoch 59/100\n",
      "18/18 [==============================] - 0s 1ms/step - loss: 0.0112 - accuracy: 0.9976\n",
      "Epoch 60/100\n",
      "18/18 [==============================] - 0s 2ms/step - loss: 0.0148 - accuracy: 0.9966\n",
      "Epoch 61/100\n",
      "18/18 [==============================] - 0s 2ms/step - loss: 0.0064 - accuracy: 0.9988\n",
      "Epoch 62/100\n",
      "18/18 [==============================] - 0s 2ms/step - loss: 0.0061 - accuracy: 0.9988\n",
      "Epoch 63/100\n",
      "18/18 [==============================] - 0s 2ms/step - loss: 0.0026 - accuracy: 0.9997\n",
      "Epoch 64/100\n",
      "18/18 [==============================] - 0s 1ms/step - loss: 0.0090 - accuracy: 0.9982\n",
      "Epoch 65/100\n",
      "18/18 [==============================] - 0s 2ms/step - loss: 0.0103 - accuracy: 0.9979\n",
      "Epoch 66/100\n",
      "18/18 [==============================] - 0s 2ms/step - loss: 0.0043 - accuracy: 0.9994\n",
      "Epoch 67/100\n",
      "18/18 [==============================] - 0s 1ms/step - loss: 0.0036 - accuracy: 0.9995\n",
      "Epoch 68/100\n",
      "18/18 [==============================] - 0s 2ms/step - loss: 0.0062 - accuracy: 0.9988\n",
      "Epoch 69/100\n",
      "18/18 [==============================] - 0s 2ms/step - loss: 0.0226 - accuracy: 0.9942\n",
      "Epoch 70/100\n",
      "18/18 [==============================] - 0s 2ms/step - loss: 0.0017 - accuracy: 0.9998\n",
      "Epoch 71/100\n",
      "18/18 [==============================] - 0s 2ms/step - loss: 0.0036 - accuracy: 0.9996\n",
      "Epoch 72/100\n",
      "18/18 [==============================] - 0s 1ms/step - loss: 0.0103 - accuracy: 0.9979\n",
      "Epoch 73/100\n",
      "18/18 [==============================] - 0s 2ms/step - loss: 0.0058 - accuracy: 0.9990\n",
      "Epoch 74/100\n",
      "18/18 [==============================] - 0s 2ms/step - loss: 0.0082 - accuracy: 0.9984\n",
      "Epoch 75/100\n",
      "18/18 [==============================] - 0s 1ms/step - loss: 0.0041 - accuracy: 0.9994\n",
      "Epoch 76/100\n",
      "18/18 [==============================] - 0s 2ms/step - loss: 0.0043 - accuracy: 0.9994\n",
      "Epoch 77/100\n",
      "18/18 [==============================] - 0s 1ms/step - loss: 0.0248 - accuracy: 0.9942\n",
      "Epoch 78/100\n",
      "18/18 [==============================] - 0s 1ms/step - loss: 0.0056 - accuracy: 0.9993\n",
      "Epoch 79/100\n",
      "18/18 [==============================] - 0s 2ms/step - loss: 0.0193 - accuracy: 0.9958\n",
      "Epoch 80/100\n",
      "18/18 [==============================] - 0s 2ms/step - loss: 0.0092 - accuracy: 0.9982\n",
      "Epoch 81/100\n",
      "18/18 [==============================] - 0s 2ms/step - loss: 0.0064 - accuracy: 0.9988\n",
      "Epoch 82/100\n",
      "18/18 [==============================] - 0s 1ms/step - loss: 0.0042 - accuracy: 0.9994\n",
      "Epoch 83/100\n",
      "18/18 [==============================] - 0s 1ms/step - loss: 0.0077 - accuracy: 0.9984\n",
      "Epoch 84/100\n",
      "18/18 [==============================] - 0s 1ms/step - loss: 0.0061 - accuracy: 0.9991\n",
      "Epoch 85/100\n",
      "18/18 [==============================] - 0s 1ms/step - loss: 0.0182 - accuracy: 0.9958\n",
      "Epoch 86/100\n",
      "18/18 [==============================] - 0s 2ms/step - loss: 0.0073 - accuracy: 0.9986\n",
      "Epoch 87/100\n",
      "18/18 [==============================] - 0s 1ms/step - loss: 0.0059 - accuracy: 0.9990\n",
      "Epoch 88/100\n",
      "18/18 [==============================] - 0s 2ms/step - loss: 0.0026 - accuracy: 0.9997\n",
      "Epoch 89/100\n",
      "18/18 [==============================] - 0s 1ms/step - loss: 0.0086 - accuracy: 0.9982\n",
      "Epoch 90/100\n",
      "18/18 [==============================] - 0s 2ms/step - loss: 0.0145 - accuracy: 0.9966\n",
      "Epoch 91/100\n",
      "18/18 [==============================] - 0s 2ms/step - loss: 0.0180 - accuracy: 0.9958\n",
      "Epoch 92/100\n",
      "18/18 [==============================] - 0s 1ms/step - loss: 0.0052 - accuracy: 0.9991\n",
      "Epoch 93/100\n",
      "18/18 [==============================] - 0s 1ms/step - loss: 0.0130 - accuracy: 0.9972\n",
      "Epoch 94/100\n",
      "18/18 [==============================] - 0s 1ms/step - loss: 0.0034 - accuracy: 0.9996\n",
      "Epoch 95/100\n",
      "18/18 [==============================] - 0s 1ms/step - loss: 0.0134 - accuracy: 0.9972\n",
      "Epoch 96/100\n",
      "18/18 [==============================] - 0s 2ms/step - loss: 0.0111 - accuracy: 0.9976\n",
      "Epoch 97/100\n",
      "18/18 [==============================] - 0s 2ms/step - loss: 0.0091 - accuracy: 0.9982\n",
      "Epoch 98/100\n",
      "18/18 [==============================] - 0s 1ms/step - loss: 0.0082 - accuracy: 0.9984\n",
      "Epoch 99/100\n",
      "18/18 [==============================] - 0s 2ms/step - loss: 0.0151 - accuracy: 0.9966\n",
      "Epoch 100/100\n",
      "18/18 [==============================] - 0s 2ms/step - loss: 0.0130 - accuracy: 0.9972\n"
     ]
    },
    {
     "data": {
      "text/plain": [
       "<tensorflow.python.keras.callbacks.History at 0x7f570959fbd0>"
      ]
     },
     "execution_count": 73,
     "metadata": {},
     "output_type": "execute_result"
    }
   ],
   "source": [
    "rede_neural.fit(X_train, y_train, epochs=100)"
   ]
  },
  {
   "cell_type": "code",
   "execution_count": 74,
   "id": "2f8fa84c",
   "metadata": {
    "execution": {
     "iopub.execute_input": "2021-10-02T01:04:19.288988Z",
     "iopub.status.busy": "2021-10-02T01:04:19.288006Z",
     "iopub.status.idle": "2021-10-02T01:04:19.427375Z",
     "shell.execute_reply": "2021-10-02T01:04:19.426787Z",
     "shell.execute_reply.started": "2021-09-27T22:21:50.774682Z"
    },
    "executionInfo": {
     "elapsed": 553,
     "status": "ok",
     "timestamp": 1632342375029,
     "user": {
      "displayName": "junior bueno",
      "photoUrl": "https://lh3.googleusercontent.com/a-/AOh14GhOPf8Uzb8OInVUJ8cenIYMk58mqjaiTlroJoQXmg=s64",
      "userId": "07862107075158255468"
     },
     "user_tz": 180
    },
    "id": "NS-UGubHVCuW",
    "papermill": {
     "duration": 0.332197,
     "end_time": "2021-10-02T01:04:19.427531",
     "exception": false,
     "start_time": "2021-10-02T01:04:19.095334",
     "status": "completed"
    },
    "tags": []
   },
   "outputs": [],
   "source": [
    "y_pred = rede_neural.predict(X_test)"
   ]
  },
  {
   "cell_type": "code",
   "execution_count": 75,
   "id": "b540a332",
   "metadata": {
    "execution": {
     "iopub.execute_input": "2021-10-02T01:04:19.808350Z",
     "iopub.status.busy": "2021-10-02T01:04:19.807475Z",
     "iopub.status.idle": "2021-10-02T01:04:19.812196Z",
     "shell.execute_reply": "2021-10-02T01:04:19.811563Z",
     "shell.execute_reply.started": "2021-09-27T22:21:53.282259Z"
    },
    "executionInfo": {
     "elapsed": 35,
     "status": "ok",
     "timestamp": 1632342375030,
     "user": {
      "displayName": "junior bueno",
      "photoUrl": "https://lh3.googleusercontent.com/a-/AOh14GhOPf8Uzb8OInVUJ8cenIYMk58mqjaiTlroJoQXmg=s64",
      "userId": "07862107075158255468"
     },
     "user_tz": 180
    },
    "id": "B_jnJM46V0Mm",
    "outputId": "cce0f288-20f5-4397-fcdc-2c66ed97ac04",
    "papermill": {
     "duration": 0.19926,
     "end_time": "2021-10-02T01:04:19.812387",
     "exception": false,
     "start_time": "2021-10-02T01:04:19.613127",
     "status": "completed"
    },
    "tags": []
   },
   "outputs": [
    {
     "data": {
      "text/plain": [
       "array([[9.9997765e-01],\n",
       "       [9.9998093e-01],\n",
       "       [9.9998689e-01],\n",
       "       [9.9991858e-01],\n",
       "       [9.9991858e-01],\n",
       "       [9.9998689e-01],\n",
       "       [9.9999070e-01],\n",
       "       [9.7807950e-01],\n",
       "       [9.9997735e-01],\n",
       "       [9.9992919e-01],\n",
       "       [9.9991858e-01],\n",
       "       [9.9997735e-01],\n",
       "       [9.9998093e-01],\n",
       "       [9.9998093e-01],\n",
       "       [4.5865796e-05],\n",
       "       [9.7807950e-01],\n",
       "       [9.8476481e-01],\n",
       "       [9.7807950e-01],\n",
       "       [4.5865796e-05],\n",
       "       [9.9997735e-01],\n",
       "       [9.9998271e-01],\n",
       "       [9.9996006e-01],\n",
       "       [9.8476481e-01],\n",
       "       [9.9998689e-01],\n",
       "       [9.9992919e-01],\n",
       "       [9.9962461e-01],\n",
       "       [9.9998093e-01],\n",
       "       [9.7807950e-01],\n",
       "       [3.7297010e-03],\n",
       "       [9.9999785e-01],\n",
       "       [9.9998689e-01],\n",
       "       [1.6385317e-04],\n",
       "       [9.9998266e-01],\n",
       "       [9.7807950e-01],\n",
       "       [9.9998689e-01],\n",
       "       [9.7807950e-01],\n",
       "       [9.9999070e-01],\n",
       "       [9.9998271e-01],\n",
       "       [9.9997830e-01],\n",
       "       [9.9998271e-01],\n",
       "       [9.7807950e-01],\n",
       "       [9.9994922e-01],\n",
       "       [9.9997830e-01],\n",
       "       [9.9998271e-01],\n",
       "       [9.9999905e-01],\n",
       "       [9.9999070e-01],\n",
       "       [9.9997151e-01],\n",
       "       [9.9998271e-01],\n",
       "       [7.8912701e-05],\n",
       "       [9.9998271e-01],\n",
       "       [9.9993849e-01],\n",
       "       [3.3885670e-01],\n",
       "       [9.9997735e-01],\n",
       "       [9.9998271e-01],\n",
       "       [9.9999905e-01],\n",
       "       [9.9998689e-01],\n",
       "       [9.9999905e-01],\n",
       "       [9.9997151e-01],\n",
       "       [9.9998271e-01],\n",
       "       [9.9999905e-01],\n",
       "       [9.9993849e-01],\n",
       "       [9.9998689e-01],\n",
       "       [9.9998283e-01],\n",
       "       [9.9992919e-01],\n",
       "       [9.9997735e-01],\n",
       "       [9.7807950e-01],\n",
       "       [9.9991858e-01],\n",
       "       [9.9998271e-01],\n",
       "       [9.9998271e-01],\n",
       "       [9.9998689e-01],\n",
       "       [9.7807950e-01],\n",
       "       [9.9982774e-01],\n",
       "       [9.9997765e-01],\n",
       "       [9.9997151e-01],\n",
       "       [9.9999905e-01],\n",
       "       [9.9998271e-01],\n",
       "       [9.9998266e-01],\n",
       "       [9.9982774e-01],\n",
       "       [9.9998689e-01],\n",
       "       [9.9997830e-01],\n",
       "       [9.9997735e-01],\n",
       "       [9.9999905e-01],\n",
       "       [9.9999905e-01],\n",
       "       [9.7807950e-01],\n",
       "       [9.9999070e-01],\n",
       "       [9.9991858e-01],\n",
       "       [9.9994022e-01],\n",
       "       [9.9996006e-01],\n",
       "       [9.9998271e-01],\n",
       "       [9.9997735e-01],\n",
       "       [9.9997735e-01],\n",
       "       [9.9999636e-01],\n",
       "       [9.9997270e-01],\n",
       "       [3.3885670e-01],\n",
       "       [9.9998283e-01],\n",
       "       [9.9999785e-01],\n",
       "       [9.9997270e-01],\n",
       "       [9.9991858e-01],\n",
       "       [9.9982774e-01],\n",
       "       [9.6273841e-05],\n",
       "       [1.2940168e-04],\n",
       "       [9.9997735e-01],\n",
       "       [9.9998093e-01],\n",
       "       [9.9998271e-01],\n",
       "       [9.9991691e-01],\n",
       "       [9.9996614e-01],\n",
       "       [9.9982774e-01],\n",
       "       [9.9999011e-01],\n",
       "       [9.9997765e-01],\n",
       "       [1.7125529e-05],\n",
       "       [9.9999905e-01],\n",
       "       [9.9999785e-01],\n",
       "       [9.9999905e-01],\n",
       "       [9.9991691e-01],\n",
       "       [9.9998093e-01],\n",
       "       [9.9999905e-01],\n",
       "       [9.9999785e-01],\n",
       "       [9.8935586e-01],\n",
       "       [9.9997735e-01],\n",
       "       [9.9997765e-01],\n",
       "       [9.9999070e-01],\n",
       "       [9.9997735e-01],\n",
       "       [9.9997735e-01],\n",
       "       [9.9992919e-01],\n",
       "       [9.9997735e-01],\n",
       "       [9.9991858e-01],\n",
       "       [9.9991858e-01],\n",
       "       [9.9997830e-01],\n",
       "       [9.9998271e-01],\n",
       "       [9.9999070e-01],\n",
       "       [9.9998689e-01],\n",
       "       [9.9999535e-01],\n",
       "       [9.9991858e-01],\n",
       "       [9.9999785e-01],\n",
       "       [9.9997735e-01],\n",
       "       [9.9998093e-01],\n",
       "       [9.9999905e-01],\n",
       "       [9.7807950e-01],\n",
       "       [9.9997735e-01],\n",
       "       [9.9999887e-01],\n",
       "       [9.9996006e-01],\n",
       "       [9.9991691e-01],\n",
       "       [9.9992919e-01],\n",
       "       [9.9992919e-01],\n",
       "       [9.9998271e-01],\n",
       "       [9.9996006e-01],\n",
       "       [9.7807950e-01],\n",
       "       [8.9111971e-05],\n",
       "       [9.9998271e-01],\n",
       "       [9.9997735e-01],\n",
       "       [9.9998271e-01],\n",
       "       [9.9998271e-01],\n",
       "       [9.9998093e-01],\n",
       "       [6.7585707e-04],\n",
       "       [9.9997830e-01],\n",
       "       [9.9991858e-01],\n",
       "       [9.9999785e-01],\n",
       "       [9.8476481e-01],\n",
       "       [9.9999785e-01],\n",
       "       [9.9998689e-01],\n",
       "       [9.9998271e-01],\n",
       "       [9.9999702e-01],\n",
       "       [9.9997735e-01],\n",
       "       [9.9999636e-01],\n",
       "       [9.9997735e-01],\n",
       "       [9.9998689e-01],\n",
       "       [9.9999905e-01],\n",
       "       [9.9999636e-01],\n",
       "       [9.9999905e-01],\n",
       "       [9.9997765e-01],\n",
       "       [9.9997735e-01],\n",
       "       [1.6385317e-04],\n",
       "       [9.7807950e-01],\n",
       "       [1.6003847e-04],\n",
       "       [9.8476481e-01],\n",
       "       [9.9997735e-01],\n",
       "       [9.9998271e-01],\n",
       "       [9.9999785e-01],\n",
       "       [9.9992919e-01],\n",
       "       [9.9991858e-01],\n",
       "       [9.9998271e-01],\n",
       "       [9.9997830e-01],\n",
       "       [9.9998271e-01],\n",
       "       [9.9998271e-01],\n",
       "       [9.9996006e-01]], dtype=float32)"
      ]
     },
     "execution_count": 75,
     "metadata": {},
     "output_type": "execute_result"
    }
   ],
   "source": [
    "y_pred"
   ]
  },
  {
   "cell_type": "code",
   "execution_count": 76,
   "id": "d193a871",
   "metadata": {
    "execution": {
     "iopub.execute_input": "2021-10-02T01:04:20.197731Z",
     "iopub.status.busy": "2021-10-02T01:04:20.196742Z",
     "iopub.status.idle": "2021-10-02T01:04:20.199832Z",
     "shell.execute_reply": "2021-10-02T01:04:20.199325Z",
     "shell.execute_reply.started": "2021-09-27T22:21:58.523996Z"
    },
    "executionInfo": {
     "elapsed": 30,
     "status": "ok",
     "timestamp": 1632342375031,
     "user": {
      "displayName": "junior bueno",
      "photoUrl": "https://lh3.googleusercontent.com/a-/AOh14GhOPf8Uzb8OInVUJ8cenIYMk58mqjaiTlroJoQXmg=s64",
      "userId": "07862107075158255468"
     },
     "user_tz": 180
    },
    "id": "lU_z8htOV21n",
    "papermill": {
     "duration": 0.196921,
     "end_time": "2021-10-02T01:04:20.199980",
     "exception": false,
     "start_time": "2021-10-02T01:04:20.003059",
     "status": "completed"
    },
    "tags": []
   },
   "outputs": [],
   "source": [
    "y_pred = (y_pred >= 0.5)  "
   ]
  },
  {
   "cell_type": "code",
   "execution_count": 77,
   "id": "49bb009a",
   "metadata": {
    "execution": {
     "iopub.execute_input": "2021-10-02T01:04:20.577510Z",
     "iopub.status.busy": "2021-10-02T01:04:20.576842Z",
     "iopub.status.idle": "2021-10-02T01:04:20.583122Z",
     "shell.execute_reply": "2021-10-02T01:04:20.583591Z",
     "shell.execute_reply.started": "2021-09-27T22:21:59.878422Z"
    },
    "executionInfo": {
     "elapsed": 31,
     "status": "ok",
     "timestamp": 1632342375032,
     "user": {
      "displayName": "junior bueno",
      "photoUrl": "https://lh3.googleusercontent.com/a-/AOh14GhOPf8Uzb8OInVUJ8cenIYMk58mqjaiTlroJoQXmg=s64",
      "userId": "07862107075158255468"
     },
     "user_tz": 180
    },
    "id": "zw72hOwrV8Nu",
    "outputId": "00f2bfca-d705-4b6d-aa9d-7e40e87e26b0",
    "papermill": {
     "duration": 0.197223,
     "end_time": "2021-10-02T01:04:20.583795",
     "exception": false,
     "start_time": "2021-10-02T01:04:20.386572",
     "status": "completed"
    },
    "tags": []
   },
   "outputs": [
    {
     "data": {
      "text/plain": [
       "array([[ True],\n",
       "       [ True],\n",
       "       [ True],\n",
       "       [ True],\n",
       "       [ True],\n",
       "       [ True],\n",
       "       [ True],\n",
       "       [ True],\n",
       "       [ True],\n",
       "       [ True],\n",
       "       [ True],\n",
       "       [ True],\n",
       "       [ True],\n",
       "       [ True],\n",
       "       [False],\n",
       "       [ True],\n",
       "       [ True],\n",
       "       [ True],\n",
       "       [False],\n",
       "       [ True],\n",
       "       [ True],\n",
       "       [ True],\n",
       "       [ True],\n",
       "       [ True],\n",
       "       [ True],\n",
       "       [ True],\n",
       "       [ True],\n",
       "       [ True],\n",
       "       [False],\n",
       "       [ True],\n",
       "       [ True],\n",
       "       [False],\n",
       "       [ True],\n",
       "       [ True],\n",
       "       [ True],\n",
       "       [ True],\n",
       "       [ True],\n",
       "       [ True],\n",
       "       [ True],\n",
       "       [ True],\n",
       "       [ True],\n",
       "       [ True],\n",
       "       [ True],\n",
       "       [ True],\n",
       "       [ True],\n",
       "       [ True],\n",
       "       [ True],\n",
       "       [ True],\n",
       "       [False],\n",
       "       [ True],\n",
       "       [ True],\n",
       "       [False],\n",
       "       [ True],\n",
       "       [ True],\n",
       "       [ True],\n",
       "       [ True],\n",
       "       [ True],\n",
       "       [ True],\n",
       "       [ True],\n",
       "       [ True],\n",
       "       [ True],\n",
       "       [ True],\n",
       "       [ True],\n",
       "       [ True],\n",
       "       [ True],\n",
       "       [ True],\n",
       "       [ True],\n",
       "       [ True],\n",
       "       [ True],\n",
       "       [ True],\n",
       "       [ True],\n",
       "       [ True],\n",
       "       [ True],\n",
       "       [ True],\n",
       "       [ True],\n",
       "       [ True],\n",
       "       [ True],\n",
       "       [ True],\n",
       "       [ True],\n",
       "       [ True],\n",
       "       [ True],\n",
       "       [ True],\n",
       "       [ True],\n",
       "       [ True],\n",
       "       [ True],\n",
       "       [ True],\n",
       "       [ True],\n",
       "       [ True],\n",
       "       [ True],\n",
       "       [ True],\n",
       "       [ True],\n",
       "       [ True],\n",
       "       [ True],\n",
       "       [False],\n",
       "       [ True],\n",
       "       [ True],\n",
       "       [ True],\n",
       "       [ True],\n",
       "       [ True],\n",
       "       [False],\n",
       "       [False],\n",
       "       [ True],\n",
       "       [ True],\n",
       "       [ True],\n",
       "       [ True],\n",
       "       [ True],\n",
       "       [ True],\n",
       "       [ True],\n",
       "       [ True],\n",
       "       [False],\n",
       "       [ True],\n",
       "       [ True],\n",
       "       [ True],\n",
       "       [ True],\n",
       "       [ True],\n",
       "       [ True],\n",
       "       [ True],\n",
       "       [ True],\n",
       "       [ True],\n",
       "       [ True],\n",
       "       [ True],\n",
       "       [ True],\n",
       "       [ True],\n",
       "       [ True],\n",
       "       [ True],\n",
       "       [ True],\n",
       "       [ True],\n",
       "       [ True],\n",
       "       [ True],\n",
       "       [ True],\n",
       "       [ True],\n",
       "       [ True],\n",
       "       [ True],\n",
       "       [ True],\n",
       "       [ True],\n",
       "       [ True],\n",
       "       [ True],\n",
       "       [ True],\n",
       "       [ True],\n",
       "       [ True],\n",
       "       [ True],\n",
       "       [ True],\n",
       "       [ True],\n",
       "       [ True],\n",
       "       [ True],\n",
       "       [ True],\n",
       "       [ True],\n",
       "       [False],\n",
       "       [ True],\n",
       "       [ True],\n",
       "       [ True],\n",
       "       [ True],\n",
       "       [ True],\n",
       "       [False],\n",
       "       [ True],\n",
       "       [ True],\n",
       "       [ True],\n",
       "       [ True],\n",
       "       [ True],\n",
       "       [ True],\n",
       "       [ True],\n",
       "       [ True],\n",
       "       [ True],\n",
       "       [ True],\n",
       "       [ True],\n",
       "       [ True],\n",
       "       [ True],\n",
       "       [ True],\n",
       "       [ True],\n",
       "       [ True],\n",
       "       [ True],\n",
       "       [False],\n",
       "       [ True],\n",
       "       [False],\n",
       "       [ True],\n",
       "       [ True],\n",
       "       [ True],\n",
       "       [ True],\n",
       "       [ True],\n",
       "       [ True],\n",
       "       [ True],\n",
       "       [ True],\n",
       "       [ True],\n",
       "       [ True],\n",
       "       [ True]])"
      ]
     },
     "execution_count": 77,
     "metadata": {},
     "output_type": "execute_result"
    }
   ],
   "source": [
    "y_pred"
   ]
  },
  {
   "cell_type": "code",
   "execution_count": 78,
   "id": "5bd7f36f",
   "metadata": {
    "execution": {
     "iopub.execute_input": "2021-10-02T01:04:20.970064Z",
     "iopub.status.busy": "2021-10-02T01:04:20.965571Z",
     "iopub.status.idle": "2021-10-02T01:04:20.974329Z",
     "shell.execute_reply": "2021-10-02T01:04:20.973629Z",
     "shell.execute_reply.started": "2021-09-27T22:22:06.229051Z"
    },
    "executionInfo": {
     "elapsed": 25,
     "status": "ok",
     "timestamp": 1632342375033,
     "user": {
      "displayName": "junior bueno",
      "photoUrl": "https://lh3.googleusercontent.com/a-/AOh14GhOPf8Uzb8OInVUJ8cenIYMk58mqjaiTlroJoQXmg=s64",
      "userId": "07862107075158255468"
     },
     "user_tz": 180
    },
    "id": "WFz3B2E5V-mO",
    "outputId": "2295e1cf-9d40-4b49-a03e-6b2fd4fc648f",
    "papermill": {
     "duration": 0.203188,
     "end_time": "2021-10-02T01:04:20.974483",
     "exception": false,
     "start_time": "2021-10-02T01:04:20.771295",
     "status": "completed"
    },
    "tags": []
   },
   "outputs": [
    {
     "data": {
      "text/plain": [
       "array([[ 14,   1],\n",
       "       [  0, 170]])"
      ]
     },
     "execution_count": 78,
     "metadata": {},
     "output_type": "execute_result"
    }
   ],
   "source": [
    "cm = confusion_matrix(y_test, y_pred)  \n",
    "cm"
   ]
  },
  {
   "cell_type": "code",
   "execution_count": 79,
   "id": "f0c7b18a",
   "metadata": {
    "execution": {
     "iopub.execute_input": "2021-10-02T01:04:21.356417Z",
     "iopub.status.busy": "2021-10-02T01:04:21.355800Z",
     "iopub.status.idle": "2021-10-02T01:04:21.622460Z",
     "shell.execute_reply": "2021-10-02T01:04:21.623010Z",
     "shell.execute_reply.started": "2021-09-27T22:22:08.677673Z"
    },
    "executionInfo": {
     "elapsed": 21,
     "status": "ok",
     "timestamp": 1632342375035,
     "user": {
      "displayName": "junior bueno",
      "photoUrl": "https://lh3.googleusercontent.com/a-/AOh14GhOPf8Uzb8OInVUJ8cenIYMk58mqjaiTlroJoQXmg=s64",
      "userId": "07862107075158255468"
     },
     "user_tz": 180
    },
    "id": "P8mpRTSyWDxu",
    "outputId": "49da5d29-4775-42a4-d93f-c49d347c0625",
    "papermill": {
     "duration": 0.457704,
     "end_time": "2021-10-02T01:04:21.623207",
     "exception": false,
     "start_time": "2021-10-02T01:04:21.165503",
     "status": "completed"
    },
    "tags": []
   },
   "outputs": [
    {
     "data": {
      "image/png": "[encoded data removed]",
      "text/plain": [
       "<Figure size 432x288 with 2 Axes>"
      ]
     },
     "metadata": {
      "needs_background": "light"
     },
     "output_type": "display_data"
    }
   ],
   "source": [
    "sns.heatmap(cm, annot=True);"
   ]
  },
  {
   "cell_type": "code",
   "execution_count": 80,
   "id": "9a5ba118",
   "metadata": {
    "execution": {
     "iopub.execute_input": "2021-10-02T01:04:22.004877Z",
     "iopub.status.busy": "2021-10-02T01:04:22.004222Z",
     "iopub.status.idle": "2021-10-02T01:04:22.013427Z",
     "shell.execute_reply": "2021-10-02T01:04:22.014095Z",
     "shell.execute_reply.started": "2021-09-27T22:22:11.942307Z"
    },
    "executionInfo": {
     "elapsed": 20,
     "status": "ok",
     "timestamp": 1632342375036,
     "user": {
      "displayName": "junior bueno",
      "photoUrl": "https://lh3.googleusercontent.com/a-/AOh14GhOPf8Uzb8OInVUJ8cenIYMk58mqjaiTlroJoQXmg=s64",
      "userId": "07862107075158255468"
     },
     "user_tz": 180
    },
    "id": "RVjxV8HcWHVO",
    "outputId": "03a6fa8d-476c-4387-a342-b82000d7dd95",
    "papermill": {
     "duration": 0.201755,
     "end_time": "2021-10-02T01:04:22.014305",
     "exception": false,
     "start_time": "2021-10-02T01:04:21.812550",
     "status": "completed"
    },
    "tags": []
   },
   "outputs": [
    {
     "name": "stdout",
     "output_type": "stream",
     "text": [
      "              precision    recall  f1-score   support\n",
      "\n",
      "           0       1.00      0.93      0.97        15\n",
      "           1       0.99      1.00      1.00       170\n",
      "\n",
      "    accuracy                           0.99       185\n",
      "   macro avg       1.00      0.97      0.98       185\n",
      "weighted avg       0.99      0.99      0.99       185\n",
      "\n"
     ]
    }
   ],
   "source": [
    "print(classification_report(y_test, y_pred))"
   ]
  },
  {
   "cell_type": "markdown",
   "id": "d02b2ff9",
   "metadata": {
    "papermill": {
     "duration": 0.18938,
     "end_time": "2021-10-02T01:04:22.392366",
     "exception": false,
     "start_time": "2021-10-02T01:04:22.202986",
     "status": "completed"
    },
    "tags": []
   },
   "source": [
    "Poderiamos fazer mais análises com outros algoritimos, mas tivemos resultados satisfatório com os que testamos aqui, como é uma base de dados pequena\n",
    "não há necessidade de fazermos tuning ou a validação cruzada para analisarmos os resultados, Random Forest apresentou melhores resultados.\n",
    "\n",
    "\n",
    "We could do more analysis with other algorithms, but we had satisfactory results with the ones we've tested here, as it's a small database\n",
    "there is no need for tuning or cross-validation to analyze the results, Random Forest showed better results."
   ]
  },
  {
   "cell_type": "markdown",
   "id": "44965224",
   "metadata": {
    "id": "lmK9WZZA0f3M",
    "papermill": {
     "duration": 0.187498,
     "end_time": "2021-10-02T01:04:22.767867",
     "exception": false,
     "start_time": "2021-10-02T01:04:22.580369",
     "status": "completed"
    },
    "tags": []
   },
   "source": [
    "# **Salvando o Classificador**"
   ]
  },
  {
   "cell_type": "code",
   "execution_count": 81,
   "id": "07c8de61",
   "metadata": {
    "execution": {
     "iopub.execute_input": "2021-10-02T01:04:23.178495Z",
     "iopub.status.busy": "2021-10-02T01:04:23.177857Z",
     "iopub.status.idle": "2021-10-02T01:04:23.180990Z",
     "shell.execute_reply": "2021-10-02T01:04:23.180485Z",
     "shell.execute_reply.started": "2021-09-27T22:22:47.418012Z"
    },
    "executionInfo": {
     "elapsed": 16,
     "status": "ok",
     "timestamp": 1632342375037,
     "user": {
      "displayName": "junior bueno",
      "photoUrl": "https://lh3.googleusercontent.com/a-/AOh14GhOPf8Uzb8OInVUJ8cenIYMk58mqjaiTlroJoQXmg=s64",
      "userId": "07862107075158255468"
     },
     "user_tz": 180
    },
    "id": "K3qDDzb_0jI0",
    "papermill": {
     "duration": 0.199748,
     "end_time": "2021-10-02T01:04:23.181134",
     "exception": false,
     "start_time": "2021-10-02T01:04:22.981386",
     "status": "completed"
    },
    "tags": []
   },
   "outputs": [],
   "source": [
    "import pickle"
   ]
  },
  {
   "cell_type": "code",
   "execution_count": 82,
   "id": "c2ff498b",
   "metadata": {
    "execution": {
     "iopub.execute_input": "2021-10-02T01:04:23.562688Z",
     "iopub.status.busy": "2021-10-02T01:04:23.562024Z",
     "iopub.status.idle": "2021-10-02T01:04:23.565221Z",
     "shell.execute_reply": "2021-10-02T01:04:23.564670Z",
     "shell.execute_reply.started": "2021-09-27T22:22:49.845815Z"
    },
    "executionInfo": {
     "elapsed": 731,
     "status": "ok",
     "timestamp": 1632342375753,
     "user": {
      "displayName": "junior bueno",
      "photoUrl": "https://lh3.googleusercontent.com/a-/AOh14GhOPf8Uzb8OInVUJ8cenIYMk58mqjaiTlroJoQXmg=s64",
      "userId": "07862107075158255468"
     },
     "user_tz": 180
    },
    "id": "qXU9wehJ1LKS",
    "papermill": {
     "duration": 0.196244,
     "end_time": "2021-10-02T01:04:23.565370",
     "exception": false,
     "start_time": "2021-10-02T01:04:23.369126",
     "status": "completed"
    },
    "tags": []
   },
   "outputs": [],
   "source": [
    "with open('variaveis_modelo.pkl', 'wb') as f:  \n",
    "  pickle.dump([onehotencoder, logistic], f) \n"
   ]
  },
  {
   "cell_type": "code",
   "execution_count": 83,
   "id": "f1baa2ba",
   "metadata": {
    "execution": {
     "iopub.execute_input": "2021-10-02T01:04:23.949938Z",
     "iopub.status.busy": "2021-10-02T01:04:23.948960Z",
     "iopub.status.idle": "2021-10-02T01:04:23.952083Z",
     "shell.execute_reply": "2021-10-02T01:04:23.951509Z",
     "shell.execute_reply.started": "2021-09-27T22:22:51.52215Z"
    },
    "executionInfo": {
     "elapsed": 44,
     "status": "ok",
     "timestamp": 1632342375754,
     "user": {
      "displayName": "junior bueno",
      "photoUrl": "https://lh3.googleusercontent.com/a-/AOh14GhOPf8Uzb8OInVUJ8cenIYMk58mqjaiTlroJoQXmg=s64",
      "userId": "07862107075158255468"
     },
     "user_tz": 180
    },
    "id": "rAAaBZBh3qFt",
    "papermill": {
     "duration": 0.198826,
     "end_time": "2021-10-02T01:04:23.952237",
     "exception": false,
     "start_time": "2021-10-02T01:04:23.753411",
     "status": "completed"
    },
    "tags": []
   },
   "outputs": [],
   "source": [
    "with open('variaveis_modelo.pkl', 'rb') as f:\n",
    "   encoder, model = pickle.load(f)"
   ]
  },
  {
   "cell_type": "code",
   "execution_count": 84,
   "id": "3e7933a8",
   "metadata": {
    "execution": {
     "iopub.execute_input": "2021-10-02T01:04:24.344787Z",
     "iopub.status.busy": "2021-10-02T01:04:24.344111Z",
     "iopub.status.idle": "2021-10-02T01:04:24.347154Z",
     "shell.execute_reply": "2021-10-02T01:04:24.346530Z",
     "shell.execute_reply.started": "2021-09-27T22:22:53.73942Z"
    },
    "executionInfo": {
     "elapsed": 44,
     "status": "ok",
     "timestamp": 1632342375755,
     "user": {
      "displayName": "junior bueno",
      "photoUrl": "https://lh3.googleusercontent.com/a-/AOh14GhOPf8Uzb8OInVUJ8cenIYMk58mqjaiTlroJoQXmg=s64",
      "userId": "07862107075158255468"
     },
     "user_tz": 180
    },
    "id": "9UoVTE173zD8",
    "outputId": "2e5e7da9-f358-4cab-fea6-407678996bd8",
    "papermill": {
     "duration": 0.201796,
     "end_time": "2021-10-02T01:04:24.347296",
     "exception": false,
     "start_time": "2021-10-02T01:04:24.145500",
     "status": "completed"
    },
    "tags": []
   },
   "outputs": [
    {
     "data": {
      "text/plain": [
       "(OneHotEncoder(), LogisticRegression())"
      ]
     },
     "execution_count": 84,
     "metadata": {},
     "output_type": "execute_result"
    }
   ],
   "source": [
    "encoder, model  "
   ]
  },
  {
   "cell_type": "code",
   "execution_count": 85,
   "id": "77c189d4",
   "metadata": {
    "execution": {
     "iopub.execute_input": "2021-10-02T01:04:24.727272Z",
     "iopub.status.busy": "2021-10-02T01:04:24.726552Z",
     "iopub.status.idle": "2021-10-02T01:04:24.738486Z",
     "shell.execute_reply": "2021-10-02T01:04:24.739017Z",
     "shell.execute_reply.started": "2021-09-27T22:22:55.889343Z"
    },
    "executionInfo": {
     "elapsed": 40,
     "status": "ok",
     "timestamp": 1632342375756,
     "user": {
      "displayName": "junior bueno",
      "photoUrl": "https://lh3.googleusercontent.com/a-/AOh14GhOPf8Uzb8OInVUJ8cenIYMk58mqjaiTlroJoQXmg=s64",
      "userId": "07862107075158255468"
     },
     "user_tz": 180
    },
    "id": "jVaWopPY34bk",
    "outputId": "d8a3e4a2-04cb-447a-9a0d-47c6e8df3be8",
    "papermill": {
     "duration": 0.203399,
     "end_time": "2021-10-02T01:04:24.739202",
     "exception": false,
     "start_time": "2021-10-02T01:04:24.535803",
     "status": "completed"
    },
    "tags": []
   },
   "outputs": [
    {
     "data": {
      "text/html": [
       "<div>\n",
       "<style scoped>\n",
       "    .dataframe tbody tr th:only-of-type {\n",
       "        vertical-align: middle;\n",
       "    }\n",
       "\n",
       "    .dataframe tbody tr th {\n",
       "        vertical-align: top;\n",
       "    }\n",
       "\n",
       "    .dataframe thead th {\n",
       "        text-align: right;\n",
       "    }\n",
       "</style>\n",
       "<table border=\"1\" class=\"dataframe\">\n",
       "  <thead>\n",
       "    <tr style=\"text-align: right;\">\n",
       "      <th></th>\n",
       "      <th>ID</th>\n",
       "      <th>Transportation expense</th>\n",
       "      <th>Distance from Residence to Work</th>\n",
       "      <th>Service time</th>\n",
       "      <th>Age</th>\n",
       "      <th>Work load Average/day</th>\n",
       "      <th>Disciplinary failure</th>\n",
       "      <th>Education</th>\n",
       "      <th>Son</th>\n",
       "      <th>Social drinker</th>\n",
       "      <th>Social smoker</th>\n",
       "      <th>Absenteeism time in hours</th>\n",
       "    </tr>\n",
       "  </thead>\n",
       "  <tbody>\n",
       "    <tr>\n",
       "      <th>0</th>\n",
       "      <td>11</td>\n",
       "      <td>289</td>\n",
       "      <td>36</td>\n",
       "      <td>13</td>\n",
       "      <td>33</td>\n",
       "      <td>239.554</td>\n",
       "      <td>0</td>\n",
       "      <td>1</td>\n",
       "      <td>2</td>\n",
       "      <td>1</td>\n",
       "      <td>0</td>\n",
       "      <td>1</td>\n",
       "    </tr>\n",
       "  </tbody>\n",
       "</table>\n",
       "</div>"
      ],
      "text/plain": [
       "   ID  Transportation expense  Distance from Residence to Work  Service time  \\\n",
       "0  11                     289                               36            13   \n",
       "\n",
       "   Age  Work load Average/day   Disciplinary failure  Education  Son  \\\n",
       "0   33                 239.554                     0          1    2   \n",
       "\n",
       "   Social drinker  Social smoker  Absenteeism time in hours  \n",
       "0               1              0                          1  "
      ]
     },
     "execution_count": 85,
     "metadata": {},
     "output_type": "execute_result"
    }
   ],
   "source": [
    "X_novo = dados_df.iloc[0:1]      #  nosso 'novo' funcionário na empresa;\n",
    "X_novo                           # our 'new' employee in the company;\n"
   ]
  },
  {
   "cell_type": "code",
   "execution_count": 86,
   "id": "0b6bd7a2",
   "metadata": {
    "execution": {
     "iopub.execute_input": "2021-10-02T01:04:25.125248Z",
     "iopub.status.busy": "2021-10-02T01:04:25.124200Z",
     "iopub.status.idle": "2021-10-02T01:04:25.135833Z",
     "shell.execute_reply": "2021-10-02T01:04:25.136307Z",
     "shell.execute_reply.started": "2021-09-27T22:22:59.20785Z"
    },
    "executionInfo": {
     "elapsed": 40,
     "status": "ok",
     "timestamp": 1632342375757,
     "user": {
      "displayName": "junior bueno",
      "photoUrl": "https://lh3.googleusercontent.com/a-/AOh14GhOPf8Uzb8OInVUJ8cenIYMk58mqjaiTlroJoQXmg=s64",
      "userId": "07862107075158255468"
     },
     "user_tz": 180
    },
    "id": "LdFQtEng4Dvs",
    "outputId": "5cf2d41d-1b39-4510-a84f-cdd84eafd83a",
    "papermill": {
     "duration": 0.207773,
     "end_time": "2021-10-02T01:04:25.136497",
     "exception": false,
     "start_time": "2021-10-02T01:04:24.928724",
     "status": "completed"
    },
    "tags": []
   },
   "outputs": [
    {
     "data": {
      "text/html": [
       "<div>\n",
       "<style scoped>\n",
       "    .dataframe tbody tr th:only-of-type {\n",
       "        vertical-align: middle;\n",
       "    }\n",
       "\n",
       "    .dataframe tbody tr th {\n",
       "        vertical-align: top;\n",
       "    }\n",
       "\n",
       "    .dataframe thead th {\n",
       "        text-align: right;\n",
       "    }\n",
       "</style>\n",
       "<table border=\"1\" class=\"dataframe\">\n",
       "  <thead>\n",
       "    <tr style=\"text-align: right;\">\n",
       "      <th></th>\n",
       "      <th>Transportation expense</th>\n",
       "      <th>Distance from Residence to Work</th>\n",
       "      <th>Age</th>\n",
       "      <th>Disciplinary failure</th>\n",
       "      <th>Education</th>\n",
       "      <th>Son</th>\n",
       "      <th>Social drinker</th>\n",
       "    </tr>\n",
       "  </thead>\n",
       "  <tbody>\n",
       "    <tr>\n",
       "      <th>0</th>\n",
       "      <td>289</td>\n",
       "      <td>36</td>\n",
       "      <td>33</td>\n",
       "      <td>0</td>\n",
       "      <td>1</td>\n",
       "      <td>2</td>\n",
       "      <td>1</td>\n",
       "    </tr>\n",
       "  </tbody>\n",
       "</table>\n",
       "</div>"
      ],
      "text/plain": [
       "   Transportation expense  Distance from Residence to Work  Age  \\\n",
       "0                     289                               36   33   \n",
       "\n",
       "   Disciplinary failure  Education  Son  Social drinker  \n",
       "0                     0          1    2               1  "
      ]
     },
     "execution_count": 86,
     "metadata": {},
     "output_type": "execute_result"
    }
   ],
   "source": [
    "X_cat_novo = X_novo[['Transportation expense',\t'Distance from Residence to Work',\t'Age',\t'Disciplinary failure',\t'Education',\t'Son',\t'Social drinker']]  \n",
    "X_cat_novo"
   ]
  },
  {
   "cell_type": "code",
   "execution_count": 87,
   "id": "be901959",
   "metadata": {
    "execution": {
     "iopub.execute_input": "2021-10-02T01:04:25.559049Z",
     "iopub.status.busy": "2021-10-02T01:04:25.558081Z",
     "iopub.status.idle": "2021-10-02T01:04:25.563827Z",
     "shell.execute_reply": "2021-10-02T01:04:25.564275Z",
     "shell.execute_reply.started": "2021-09-27T22:23:01.781972Z"
    },
    "executionInfo": {
     "elapsed": 40,
     "status": "ok",
     "timestamp": 1632342375758,
     "user": {
      "displayName": "junior bueno",
      "photoUrl": "https://lh3.googleusercontent.com/a-/AOh14GhOPf8Uzb8OInVUJ8cenIYMk58mqjaiTlroJoQXmg=s64",
      "userId": "07862107075158255468"
     },
     "user_tz": 180
    },
    "id": "9dcLwfrA5jqV",
    "papermill": {
     "duration": 0.239492,
     "end_time": "2021-10-02T01:04:25.564461",
     "exception": false,
     "start_time": "2021-10-02T01:04:25.324969",
     "status": "completed"
    },
    "tags": []
   },
   "outputs": [],
   "source": [
    "X_cat_novo = encoder.transform(X_cat_novo).toarray() "
   ]
  },
  {
   "cell_type": "code",
   "execution_count": 88,
   "id": "b9634050",
   "metadata": {
    "execution": {
     "iopub.execute_input": "2021-10-02T01:04:25.946685Z",
     "iopub.status.busy": "2021-10-02T01:04:25.945671Z",
     "iopub.status.idle": "2021-10-02T01:04:25.953101Z",
     "shell.execute_reply": "2021-10-02T01:04:25.952519Z",
     "shell.execute_reply.started": "2021-09-27T22:23:03.53775Z"
    },
    "executionInfo": {
     "elapsed": 40,
     "status": "ok",
     "timestamp": 1632342375759,
     "user": {
      "displayName": "junior bueno",
      "photoUrl": "https://lh3.googleusercontent.com/a-/AOh14GhOPf8Uzb8OInVUJ8cenIYMk58mqjaiTlroJoQXmg=s64",
      "userId": "07862107075158255468"
     },
     "user_tz": 180
    },
    "id": "s86OBxaE8m0u",
    "outputId": "2fa22c1a-a821-4649-c965-a6b7b5e9bd3d",
    "papermill": {
     "duration": 0.201463,
     "end_time": "2021-10-02T01:04:25.953251",
     "exception": false,
     "start_time": "2021-10-02T01:04:25.751788",
     "status": "completed"
    },
    "tags": []
   },
   "outputs": [
    {
     "data": {
      "text/plain": [
       "array([[0., 0., 0., 0., 0., 0., 0., 0., 0., 0., 0., 0., 0., 0., 0., 0.,\n",
       "        1., 0., 0., 0., 0., 0., 0., 0., 0., 0., 0., 0., 0., 0., 0., 0.,\n",
       "        0., 0., 0., 0., 0., 0., 0., 0., 0., 1., 0., 0., 0., 0., 0., 0.,\n",
       "        0., 0., 0., 0., 0., 0., 0., 1., 0., 0., 0., 0., 0., 0., 0., 0.,\n",
       "        0., 0., 0., 0., 0., 0., 0., 1., 0., 1., 0., 0., 0., 0., 0., 1.,\n",
       "        0., 0., 0., 1.]])"
      ]
     },
     "execution_count": 88,
     "metadata": {},
     "output_type": "execute_result"
    }
   ],
   "source": [
    "X_cat_novo"
   ]
  },
  {
   "cell_type": "code",
   "execution_count": 89,
   "id": "a08916cf",
   "metadata": {
    "execution": {
     "iopub.execute_input": "2021-10-02T01:04:26.356299Z",
     "iopub.status.busy": "2021-10-02T01:04:26.354257Z",
     "iopub.status.idle": "2021-10-02T01:04:26.360762Z",
     "shell.execute_reply": "2021-10-02T01:04:26.360150Z",
     "shell.execute_reply.started": "2021-09-27T22:23:06.054116Z"
    },
    "executionInfo": {
     "elapsed": 35,
     "status": "ok",
     "timestamp": 1632342375760,
     "user": {
      "displayName": "junior bueno",
      "photoUrl": "https://lh3.googleusercontent.com/a-/AOh14GhOPf8Uzb8OInVUJ8cenIYMk58mqjaiTlroJoQXmg=s64",
      "userId": "07862107075158255468"
     },
     "user_tz": 180
    },
    "id": "7YTuE8PP-XRP",
    "outputId": "b8189009-32b0-416d-8c7b-fc4ed9333faf",
    "papermill": {
     "duration": 0.215987,
     "end_time": "2021-10-02T01:04:26.360907",
     "exception": false,
     "start_time": "2021-10-02T01:04:26.144920",
     "status": "completed"
    },
    "tags": []
   },
   "outputs": [
    {
     "data": {
      "text/html": [
       "<div>\n",
       "<style scoped>\n",
       "    .dataframe tbody tr th:only-of-type {\n",
       "        vertical-align: middle;\n",
       "    }\n",
       "\n",
       "    .dataframe tbody tr th {\n",
       "        vertical-align: top;\n",
       "    }\n",
       "\n",
       "    .dataframe thead th {\n",
       "        text-align: right;\n",
       "    }\n",
       "</style>\n",
       "<table border=\"1\" class=\"dataframe\">\n",
       "  <thead>\n",
       "    <tr style=\"text-align: right;\">\n",
       "      <th></th>\n",
       "      <th>0</th>\n",
       "      <th>1</th>\n",
       "      <th>2</th>\n",
       "      <th>3</th>\n",
       "      <th>4</th>\n",
       "      <th>5</th>\n",
       "      <th>6</th>\n",
       "      <th>7</th>\n",
       "      <th>8</th>\n",
       "      <th>9</th>\n",
       "      <th>...</th>\n",
       "      <th>74</th>\n",
       "      <th>75</th>\n",
       "      <th>76</th>\n",
       "      <th>77</th>\n",
       "      <th>78</th>\n",
       "      <th>79</th>\n",
       "      <th>80</th>\n",
       "      <th>81</th>\n",
       "      <th>82</th>\n",
       "      <th>83</th>\n",
       "    </tr>\n",
       "  </thead>\n",
       "  <tbody>\n",
       "    <tr>\n",
       "      <th>0</th>\n",
       "      <td>0.0</td>\n",
       "      <td>0.0</td>\n",
       "      <td>0.0</td>\n",
       "      <td>0.0</td>\n",
       "      <td>0.0</td>\n",
       "      <td>0.0</td>\n",
       "      <td>0.0</td>\n",
       "      <td>0.0</td>\n",
       "      <td>0.0</td>\n",
       "      <td>0.0</td>\n",
       "      <td>...</td>\n",
       "      <td>0.0</td>\n",
       "      <td>0.0</td>\n",
       "      <td>0.0</td>\n",
       "      <td>0.0</td>\n",
       "      <td>0.0</td>\n",
       "      <td>1.0</td>\n",
       "      <td>0.0</td>\n",
       "      <td>0.0</td>\n",
       "      <td>0.0</td>\n",
       "      <td>1.0</td>\n",
       "    </tr>\n",
       "  </tbody>\n",
       "</table>\n",
       "<p>1 rows × 84 columns</p>\n",
       "</div>"
      ],
      "text/plain": [
       "    0    1    2    3    4    5    6    7    8    9   ...   74   75   76   77  \\\n",
       "0  0.0  0.0  0.0  0.0  0.0  0.0  0.0  0.0  0.0  0.0  ...  0.0  0.0  0.0  0.0   \n",
       "\n",
       "    78   79   80   81   82   83  \n",
       "0  0.0  1.0  0.0  0.0  0.0  1.0  \n",
       "\n",
       "[1 rows x 84 columns]"
      ]
     },
     "execution_count": 89,
     "metadata": {},
     "output_type": "execute_result"
    }
   ],
   "source": [
    "X_cat_novo = pd.DataFrame(X_cat_novo)\n",
    "X_cat_novo"
   ]
  },
  {
   "cell_type": "code",
   "execution_count": 90,
   "id": "d33106c6",
   "metadata": {
    "execution": {
     "iopub.execute_input": "2021-10-02T01:04:26.745261Z",
     "iopub.status.busy": "2021-10-02T01:04:26.744555Z",
     "iopub.status.idle": "2021-10-02T01:04:26.751485Z",
     "shell.execute_reply": "2021-10-02T01:04:26.752001Z",
     "shell.execute_reply.started": "2021-09-27T22:23:08.281693Z"
    },
    "executionInfo": {
     "elapsed": 35,
     "status": "ok",
     "timestamp": 1632342375761,
     "user": {
      "displayName": "junior bueno",
      "photoUrl": "https://lh3.googleusercontent.com/a-/AOh14GhOPf8Uzb8OInVUJ8cenIYMk58mqjaiTlroJoQXmg=s64",
      "userId": "07862107075158255468"
     },
     "user_tz": 180
    },
    "id": "9zl3tveV-bOH",
    "outputId": "ad3e2f90-6e63-42f3-9bd7-6a00e8662da0",
    "papermill": {
     "duration": 0.200301,
     "end_time": "2021-10-02T01:04:26.752192",
     "exception": false,
     "start_time": "2021-10-02T01:04:26.551891",
     "status": "completed"
    },
    "tags": []
   },
   "outputs": [
    {
     "data": {
      "text/plain": [
       "array([1])"
      ]
     },
     "execution_count": 90,
     "metadata": {},
     "output_type": "execute_result"
    }
   ],
   "source": [
    "model.predict(X_cat_novo)  # Um funcionário com esse perfil tem chances de se ausentar no período de trabalho;\n",
    "                           # An employee with this profile is likely to be absent from work;"
   ]
  },
  {
   "cell_type": "code",
   "execution_count": 91,
   "id": "974d2486",
   "metadata": {
    "execution": {
     "iopub.execute_input": "2021-10-02T01:04:27.151444Z",
     "iopub.status.busy": "2021-10-02T01:04:27.150587Z",
     "iopub.status.idle": "2021-10-02T01:04:27.153888Z",
     "shell.execute_reply": "2021-10-02T01:04:27.154396Z",
     "shell.execute_reply.started": "2021-09-27T22:23:11.096051Z"
    },
    "executionInfo": {
     "elapsed": 32,
     "status": "ok",
     "timestamp": 1632342375762,
     "user": {
      "displayName": "junior bueno",
      "photoUrl": "https://lh3.googleusercontent.com/a-/AOh14GhOPf8Uzb8OInVUJ8cenIYMk58mqjaiTlroJoQXmg=s64",
      "userId": "07862107075158255468"
     },
     "user_tz": 180
    },
    "id": "71Vusy-m_Bc4",
    "outputId": "e9979039-eed1-4ab5-8841-18546953f2e6",
    "papermill": {
     "duration": 0.206596,
     "end_time": "2021-10-02T01:04:27.154569",
     "exception": false,
     "start_time": "2021-10-02T01:04:26.947973",
     "status": "completed"
    },
    "tags": []
   },
   "outputs": [
    {
     "data": {
      "text/plain": [
       "array([[0.00782053, 0.99217947]])"
      ]
     },
     "execution_count": 91,
     "metadata": {},
     "output_type": "execute_result"
    }
   ],
   "source": [
    "model.predict_proba(X_cat_novo)   # A probabilidade da ausência é 98%;\n",
    "                                  \n",
    "                                  # The probability of absence is 98%;"
   ]
  },
  {
   "cell_type": "code",
   "execution_count": 92,
   "id": "9e21db8a",
   "metadata": {
    "execution": {
     "iopub.execute_input": "2021-10-02T01:04:27.544239Z",
     "iopub.status.busy": "2021-10-02T01:04:27.543253Z",
     "iopub.status.idle": "2021-10-02T01:04:27.548532Z",
     "shell.execute_reply": "2021-10-02T01:04:27.549153Z",
     "shell.execute_reply.started": "2021-09-27T22:23:13.054175Z"
    },
    "executionInfo": {
     "elapsed": 28,
     "status": "ok",
     "timestamp": 1632342375763,
     "user": {
      "displayName": "junior bueno",
      "photoUrl": "https://lh3.googleusercontent.com/a-/AOh14GhOPf8Uzb8OInVUJ8cenIYMk58mqjaiTlroJoQXmg=s64",
      "userId": "07862107075158255468"
     },
     "user_tz": 180
    },
    "id": "UoVxvE67_FQQ",
    "outputId": "03b6dc91-dea7-45a5-8031-0ce7ffd3cc5e",
    "papermill": {
     "duration": 0.201071,
     "end_time": "2021-10-02T01:04:27.549326",
     "exception": false,
     "start_time": "2021-10-02T01:04:27.348255",
     "status": "completed"
    },
    "tags": []
   },
   "outputs": [
    {
     "data": {
      "text/plain": [
       "array([0, 1])"
      ]
     },
     "execution_count": 92,
     "metadata": {},
     "output_type": "execute_result"
    }
   ],
   "source": [
    "model.classes_"
   ]
  },
  {
   "cell_type": "markdown",
   "id": "4d42beea",
   "metadata": {
    "papermill": {
     "duration": 0.191334,
     "end_time": "2021-10-02T01:04:27.931277",
     "exception": false,
     "start_time": "2021-10-02T01:04:27.739943",
     "status": "completed"
    },
    "tags": []
   },
   "source": [
    "# **Conclusão**\n",
    "\n",
    "O Dataset possui alguns dados muito interessantes;\n",
    "\n",
    " - Os funcionários que mais se ausentam do trabalho não são aqueles que possuem filhos, mas os que não tem filhos e estão na casa dos 28 anos de idade;\n",
    " \n",
    " - Muitas vezes imaginamos que funcionários com mais filhos podem se ausentar mais do trabalho, mas o que observamos neste caso em estudo é ao contrário, talves pelo fato de terem mais filhos e mais responsábilidade, necessitam mais do emprego;\n",
    " \n",
    " - Os dias da semana com mais ausência é a segunda-feira;\n",
    " \n",
    " - Entre os meses, janeiro é o com menor nível de ausências no trabalho, certamente devido as férias e as proximidades com o carnaval;\n",
    " \n",
    " \n",
    " Abaixo segue um resumo dos dados elabora pelo Power BI.\n",
    " \n",
    "\n",
    "\n",
    "# **Conclusion**\n",
    "\n",
    "The Dataset has some very interesting data;\n",
    "\n",
    " - The employees who are most absent from work are not those who have children, but those who do not have children and are around 28 years old;\n",
    " \n",
    " - We often imagine that employees with more children can be absent from work longer, but what we see in this case study is the opposite, perhaps because they have more children and more responsibility, they need more work;\n",
    " \n",
    " - The days of the week with the most absence are Mondays;\n",
    " \n",
    " - Between the months, January is the one with the lowest level of absences from work, certainly due to the holidays and the proximity to Carnival;\n",
    " \n",
    " \n",
    " Below is a summary of the data elaborated by Power BI."
   ]
  },
  {
   "cell_type": "code",
   "execution_count": 93,
   "id": "9020889f",
   "metadata": {
    "execution": {
     "iopub.execute_input": "2021-10-02T01:04:28.327748Z",
     "iopub.status.busy": "2021-10-02T01:04:28.327003Z",
     "iopub.status.idle": "2021-10-02T01:04:28.355543Z",
     "shell.execute_reply": "2021-10-02T01:04:28.355006Z",
     "shell.execute_reply.started": "2021-09-27T22:23:15.933286Z"
    },
    "papermill": {
     "duration": 0.227862,
     "end_time": "2021-10-02T01:04:28.355711",
     "exception": false,
     "start_time": "2021-10-02T01:04:28.127849",
     "status": "completed"
    },
    "tags": []
   },
   "outputs": [
    {
     "data": {
      "image/png": "[encoded data removed]",
      "text/plain": [
       "<IPython.core.display.Image object>"
      ]
     },
     "execution_count": 93,
     "metadata": {},
     "output_type": "execute_result"
    }
   ],
   "source": [
    "from IPython.display import Image\n",
    "Image(\"../input/powerbi/dados.png\")"
   ]
  }
 ],
 "metadata": {
  "kernelspec": {
   "display_name": "Python 3",
   "language": "python",
   "name": "python3"
  },
  "language_info": {
   "codemirror_mode": {
    "name": "ipython",
    "version": 3
   },
   "file_extension": ".py",
   "mimetype": "text/x-python",
   "name": "python",
   "nbconvert_exporter": "python",
   "pygments_lexer": "ipython3",
   "version": "3.7.10"
  },
  "papermill": {
   "default_parameters": {},
   "duration": 62.153034,
   "end_time": "2021-10-02T01:04:32.060373",
   "environment_variables": {},
   "exception": null,
   "input_path": "__notebook__.ipynb",
   "output_path": "__notebook__.ipynb",
   "parameters": {},
   "start_time": "2021-10-02T01:03:29.907339",
   "version": "2.3.3"
  }
 },
 "nbformat": 4,
 "nbformat_minor": 5
}
